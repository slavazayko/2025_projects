{
 "cells": [
  {
   "cell_type": "markdown",
   "metadata": {},
   "source": [
    "<div style=\"border:solid green 2px; padding: 20px\">\n",
    "    \n",
    "<b>Вячеслав, привет!</b> Мы рады тебя видеть на территории код-ревьюеров 😎. Ты проделал большую работу над проектом, но давай познакомимся и сделаем его еще лучше! У нас тут своя атмосфера и несколько правил:\n",
    "\n",
    "\n",
    "1. Это Александр Матвеевский. Я работаю код-ревьюером, моя основная цель — не указать на совершенные тобою ошибки, а поделиться своим опытом и помочь тебе стать дата-специалистом.\n",
    "2. Общаемся на ты.\n",
    "3. Если хочешь написать, спросить - не нужно стесняться. Только выбери свой цвет для комментария.  \n",
    "4. Это учебный проект, тут можно не бояться сделать ошибку.  \n",
    "5. У нас с тобой 6 попыток для сдачи проекта.  \n",
    "6. Let's Go!\n",
    "\n",
    "---\n",
    "\n",
    "Я буду красить комментарии цветом, пожалуйста, не удаляй их:\n",
    "\n",
    "<div class=\"alert alert-block alert-danger\">✍\n",
    "    \n",
    "\n",
    "__Комментарий от ревьюера №1__\n",
    "\n",
    "Такой комментарий нужно исправить обязательно, он критически влияет на удачное выполнение проекта.\n",
    "</div>\n",
    "    \n",
    "---\n",
    "\n",
    "<div class=\"alert alert-block alert-warning\">📝\n",
    "    \n",
    "\n",
    "__Комментарий от ревьюера №1__\n",
    "\n",
    "\n",
    "Такой комментарий является рекомендацией или советом. Можешь использовать их на своё усмотрение.\n",
    "</div>\n",
    "\n",
    "---\n",
    "\n",
    "<div class=\"alert alert-block alert-success\">✔️\n",
    "    \n",
    "\n",
    "__Комментарий от ревьюера №1__\n",
    "\n",
    "Такой комментарий  говорит о том, что было сделано что-то качественное и правильное =)\n",
    "</div>\n",
    "    \n",
    "---\n",
    "    \n",
    "Предлагаю работать над проектом в диалоге: если ты что-то меняешь в проекте или отвечаешь на мои комментарии — пиши об этом. Мне будет легче отследить изменения, если ты выделишь свои комментарии:   \n",
    "    \n",
    "<div class=\"alert alert-info\"> <b>Комментарии студента:</b> Например, вот так.</div>\n",
    "    \n",
    "Всё это поможет выполнить повторную проверку твоего проекта оперативнее. Если будут какие-нибудь вопросы по моим комментариям, пиши, будем разбираться вместе :)    \n",
    "    \n",
    "---"
   ]
  },
  {
   "cell_type": "markdown",
   "metadata": {
    "id": "4mJbK1knrJgz"
   },
   "source": [
    "# Проект: Исследование стартапов"
   ]
  },
  {
   "cell_type": "markdown",
   "metadata": {
    "tags": []
   },
   "source": [
    "**Автор:** Вячеслав Зайко <br>**Дата:** 05.05.2025 <br>**Заказчик:** Финансовая компания, которая предоставляет льготные займы стартапам\n"
   ]
  },
  {
   "cell_type": "markdown",
   "metadata": {
    "tags": []
   },
   "source": [
    "### Цели и задачи проекта\n",
    "**Цель:** Подготовить датасет и проверить, что данные в нём соответствуют здравому смыслу. Ответить на вопросы заказчика как о предобработке, так и о значении данных для бизнеса.\n",
    "\n",
    "**Задачи:**\n",
    "\n",
    "1. Познакомиться с данными: загрузить и сделать первичную предобработку:\n",
    "    - загрузить все данные по проекту;\n",
    "    - проверить названия столбцов;\n",
    "    - вывести информацию, которая необходима для принятия решений о предобработке, для каждого из датасетов;\n",
    "    - обработать типы данных в столбцах, которые хранят значения даты и времени;\n",
    "    - сделать предварительный вывод, достаточно ли данных для решения задач проекта. <br><br>\n",
    "2. Предобработать данные, провести предварительное исследование:\n",
    "    - составить сводную таблицу по годам, в которой для каждого года указан типичный размер средств в рамках одного раунда финансирования и общее количество раундов;\n",
    "    - построить график, который будет отражать динамику типичного размера средств, которые стартапы получали в рамках одного раунда финансирования;\n",
    "    - разделить все компании на несколько групп по количеству сотрудников и оценить среднюю долю сотрудников без информации об образовании в каждой из групп;\n",
    "    - оценить возможность использования столбца с именем `network_username` для объединения данных;\n",
    "    - привести датасет `company_and_rounds.csv` в корректный вид, который позволит в дальнейшем проводить анализ в разрезе отдельных компаний. <br><br>\n",
    "    \n",
    "3. Провести исследовательский анализ объединённых таблиц:\n",
    "    - объединить данные для ответа на вопросы заказчика, которые касаются интересующих его компаний;\n",
    "    - проанализироовать выбросы;\n",
    "    - исследовать компании, которые были проданы за ноль или за один доллар;\n",
    "    - рассчитать аналитически верхнюю и нижнюю границу выбросов для столбца `funding_total`;\n",
    "    - среди категорий стартапов выделить категории, характеризующиеся типично высокими ценами и наибольшим разбросом цен за стартап;\n",
    "    - проанализировать столбец `funding_rounds` и найти типичное значение количества раундов для каждого возможного статуса стартапа;\n",
    "    - постройть график, который отображает, сколько в среднем раундов финансирования проходило для стартапов из каждой группы. <br><br>\n",
    "    \n",
    "4. Составить итоговый вывод и рекомендации."
   ]
  },
  {
   "cell_type": "markdown",
   "metadata": {},
   "source": [
    "<div class=\"alert alert-block alert-success\">✔️\n",
    "    \n",
    "\n",
    "__Комментарий от ревьюера №1__\n",
    "\n",
    "\n",
    "Отличная практика - расписывать цель и основные этапы своими словами (этот навык очень поможет на фильнальном проекте).\n",
    "</div>"
   ]
  },
  {
   "cell_type": "markdown",
   "metadata": {
    "id": "xqr6uttCrJg0"
   },
   "source": [
    "\n",
    "## Шаг 1. Знакомство с данными: загрузка и первичная предобработка\n",
    "\n",
    "Для исследования понадобятся исторические данные 5 датасетов.\n",
    "1. Таблица `acquisition` (`acq`) cодержит информацию о покупках одними компаниями других компаний:\n",
    "- `id` — идентификатор покупки.\n",
    "- `acquiring_company_id` — идентификатор покупающей компании.\n",
    "- `acquired_company_id` — идентификатор покупаемой компании.\n",
    "- `term_code` — варианты расчёта.\n",
    "- `price_amount` — сумма сделки.\n",
    "- `acquired_at` — дата сделки.\n",
    "\n",
    "2. Таблица `company_and_rounds` (`com`) cодержит информацию о компаниях и раундах финансирования:\n",
    "- `company ID` — идентификатор компании.\n",
    "- `name` — название компании.\n",
    "- `category code` — категория области деятельности компании.\n",
    "- `status` — статус компании.\n",
    "- `founded at` — дата инвестирования.\n",
    "- `closed at` — дата закрытия компании.\n",
    "- `domain` — официальный сайт компании.\n",
    "- `network username` — ник компании в сети.\n",
    "- `country code` — код страны компании.\n",
    "- `investment rounds` — число инвестиционных раундов.\n",
    "- `funding rounds` — число раундов финансирования.\n",
    "- `funding total` — сумма финансирования.\n",
    "- `milestones` — вехи финансирования.\n",
    "- `funding round id` — идентификатор этапа финансирования.\n",
    "- `company id` — идентификатор компании.\n",
    "- `funded at` — дата финансирования.\n",
    "- `funding round type` — тип финансирования.\n",
    "- `raised amount` — сумма финансирования.\n",
    "- `pre money valuation` — предварительная денежная оценка.\n",
    "- `participants` — число участников.\n",
    "- `is first round` — является ли раунд первым.\n",
    "- `is last round` — является раунд последним.\n",
    "\n",
    "3. Таблица `education` (`ed`) cодержит информацию об образовании сотрудника:\n",
    "- `id` — идентификатор записи об образовании.\n",
    "- `person_id` — идентификатор работника.\n",
    "- `instituition` — название учебного заведения.\n",
    "- `graduated_at` — дата получения образования.\n",
    "\n",
    "4. Таблица `people` (`ppl`) cодержит информацию о сотрудниках:\n",
    "- `id` — идентификатор сотрудника.\n",
    "- `first_name` — имя сотрудника.\n",
    "- `last_name` — фамилия сотрудника.\n",
    "- `company_id` — идентификатор компании.\n",
    "- `network_username` — ник в социальных сетях.\n",
    "\n",
    "5. Таблица `degrees` (`deg`) cодержит информацию о типе образования сотрудника:\n",
    "- `id` — идентификатор записи.\n",
    "- `object_id` — идентификатор сотрудника.\n",
    "- `degree_type` — тип образования.\n",
    "- `subject` — специальность.\n",
    "\n",
    "Опциональные датасеты, связанные с данными исследования.\n",
    "1. Таблица `fund` содержит информацию о фондах:\n",
    "- `id` — идентификатор фонда.\n",
    "- `name` — название фонда.\n",
    "- `category_code` — категория области деятельности компании.\n",
    "- `founded_at` — дата создания фонда.\n",
    "- `domain` — сайт фонда.\n",
    "- `network_username` — ник фонда в сети.\n",
    "- `country_code` — код страны фонда.\n",
    "- `investment_rounds` — число инвестиционных раундов.\n",
    "- `invested_companies` — число профинансированных компаний.\n",
    "- `milestones` — вехи финансирования.\n",
    "\n",
    "2. Таблица `investment` cодержит информацию о раундах инвестирования:\n",
    "- `id` — идентификатор этапа инвестирования.\n",
    "- `funding_round_id` — идентификатор раунда инвестирования.\n",
    "- `company_id` — индентификатор компании.\n",
    "- `funding_round_type` — тип финансирования.\n",
    "- `fund_id` — идентификатор фонда."
   ]
  },
  {
   "cell_type": "markdown",
   "metadata": {
    "colab": {
     "base_uri": "https://localhost:8080/"
    },
    "id": "W_W4jRazrJg0",
    "outputId": "d2409aad-233f-4bb4-ec71-7da96594f9df",
    "tags": [],
    "vscode": {
     "languageId": "plaintext"
    }
   },
   "source": [
    "### 1.1. Вывод общей информации, исправление названия столбцов\n",
    "\n",
    "- Загрузите все данные по проекту.\n",
    "- Проверьте названия столбцов.\n",
    "- Выведите информацию, которая необходима вам для принятия решений о предобработке, для каждого из датасетов."
   ]
  },
  {
   "cell_type": "markdown",
   "metadata": {
    "id": "2Tm4Pk__Felf",
    "tags": []
   },
   "source": [
    "Импортируем бибилотеки и загрузим необходимые для проекта данные."
   ]
  },
  {
   "cell_type": "code",
   "execution_count": 1,
   "metadata": {
    "id": "oNqJ2qpRFebv",
    "tags": []
   },
   "outputs": [],
   "source": [
    "import pandas as pd\n",
    "import matplotlib.pyplot as plt\n",
    "import pandas as pd\n",
    "import seaborn as sns\n",
    "from matplotlib_venn import venn2, venn3\n",
    "\n",
    "# Установка формата отображения чисел\n",
    "pd.options.display.float_format = lambda x: f\"{x:,.2f}\".replace(\",\", \" \") # 2 знака после запятой, пробел в качестве разделителя разрядов"
   ]
  },
  {
   "cell_type": "markdown",
   "metadata": {},
   "source": [
    "<div class=\"alert alert-block alert-success\">✔️\n",
    "    \n",
    "\n",
    "__Комментарий от ревьюера №1__\n",
    "\n",
    "Хорошо, необходимые модули выгружены"
   ]
  },
  {
   "cell_type": "code",
   "execution_count": 2,
   "metadata": {
    "tags": []
   },
   "outputs": [],
   "source": [
    "acq = pd.read_csv('https://code.s3.yandex.net/datasets/acquisition.csv') \n",
    "com = pd.read_csv('https://code.s3.yandex.net/datasets/company_and_rounds.csv')\n",
    "ed = pd.read_csv('https://code.s3.yandex.net/datasets/education.csv')\n",
    "ppl = pd.read_csv('https://code.s3.yandex.net/datasets/people.csv')\n",
    "deg = pd.read_csv('https://code.s3.yandex.net/datasets/degrees.csv')"
   ]
  },
  {
   "cell_type": "markdown",
   "metadata": {},
   "source": [
    "<div class=\"alert alert-block alert-success\">✔️\n",
    "    \n",
    "\n",
    "__Комментарий от ревьюера №1__\n",
    "        \n",
    "Для подгрузки данных можно использовать конструкцию `try-except`, она поможет избежать потенциальных ошибок при загрузке данных, связанных, например, с некорректным указанием путей.\n",
    "        \n",
    "Подробнее о конструкции по ссылке:\n",
    "        \n",
    "https://pythonworld.ru/tipy-dannyx-v-python/isklyucheniya-v-python-konstrukciya-try-except-dlya-obrabotki-isklyuchenij.html\n",
    "        \n",
    "Либо же можно использовать стандартную библиотеку os:\n",
    "        \n",
    "https://pythonworld.ru/moduli/modul-os.html\n",
    "\n",
    "    \n",
    "Несколько интересных статей кейсы использования конструкции:\n",
    "    \n",
    "https://www.programiz.com/python-programming/exception-handling\n",
    "    \n",
    "https://towardsdatascience.com/do-not-abuse-try-except-in-python-d9b8ee59e23b\n",
    "    \n",
    "https://www.techbeamers.com/use-try-except-python/\n",
    "        \n",
    "Как вариант в try можно указать корректные пути (в нашем случае глобальные) в except - некорректные (локальные). Можно также специфицровать тип ошибки, FileNotFoundError или задать кастомный тип ошибки (FilePathError, например)\n",
    "        \n",
    "Она полезна, если ты работаешь локально, а потом подгружаешь проект на платформу. Конструкция позволит не падать коду и локально, и на сервере ЯП, так как если не сработает один блок с путями, сработает другой.\n",
    "        \n",
    "Ну и вообще, в целом полезно про эту констуркцию знать, она универсальна и может быть использована в разных задачах."
   ]
  },
  {
   "cell_type": "markdown",
   "metadata": {
    "tags": []
   },
   "source": [
    "<div class=\"alert alert-info\"> <b>Привет! Спасибо, посмотрю )</b></div>"
   ]
  },
  {
   "cell_type": "markdown",
   "metadata": {
    "tags": []
   },
   "source": [
    "Выводим информацию о каждом датасете с примерами первых и последних строк."
   ]
  },
  {
   "cell_type": "code",
   "execution_count": 3,
   "metadata": {
    "tags": []
   },
   "outputs": [
    {
     "name": "stdout",
     "output_type": "stream",
     "text": [
      "<class 'pandas.core.frame.DataFrame'>\n",
      "RangeIndex: 9407 entries, 0 to 9406\n",
      "Data columns (total 6 columns):\n",
      " #   Column                Non-Null Count  Dtype \n",
      "---  ------                --------------  ----- \n",
      " 0   id                    9407 non-null   int64 \n",
      " 1   acquiring_company_id  9407 non-null   int64 \n",
      " 2   acquired_company_id   9407 non-null   int64 \n",
      " 3   term_code             1831 non-null   object\n",
      " 4   price_amount          9407 non-null   int64 \n",
      " 5   acquired_at           9378 non-null   object\n",
      "dtypes: int64(4), object(2)\n",
      "memory usage: 441.1+ KB\n"
     ]
    }
   ],
   "source": [
    "acq.info()"
   ]
  },
  {
   "cell_type": "code",
   "execution_count": 4,
   "metadata": {
    "tags": []
   },
   "outputs": [
    {
     "data": {
      "text/html": [
       "<div>\n",
       "<style scoped>\n",
       "    .dataframe tbody tr th:only-of-type {\n",
       "        vertical-align: middle;\n",
       "    }\n",
       "\n",
       "    .dataframe tbody tr th {\n",
       "        vertical-align: top;\n",
       "    }\n",
       "\n",
       "    .dataframe thead th {\n",
       "        text-align: right;\n",
       "    }\n",
       "</style>\n",
       "<table border=\"1\" class=\"dataframe\">\n",
       "  <thead>\n",
       "    <tr style=\"text-align: right;\">\n",
       "      <th></th>\n",
       "      <th>id</th>\n",
       "      <th>acquiring_company_id</th>\n",
       "      <th>acquired_company_id</th>\n",
       "      <th>term_code</th>\n",
       "      <th>price_amount</th>\n",
       "      <th>acquired_at</th>\n",
       "    </tr>\n",
       "  </thead>\n",
       "  <tbody>\n",
       "    <tr>\n",
       "      <th>0</th>\n",
       "      <td>1</td>\n",
       "      <td>11</td>\n",
       "      <td>10</td>\n",
       "      <td>NaN</td>\n",
       "      <td>20000000</td>\n",
       "      <td>2007-05-30</td>\n",
       "    </tr>\n",
       "    <tr>\n",
       "      <th>1</th>\n",
       "      <td>7</td>\n",
       "      <td>59</td>\n",
       "      <td>72</td>\n",
       "      <td>cash</td>\n",
       "      <td>60000000</td>\n",
       "      <td>2007-07-01</td>\n",
       "    </tr>\n",
       "    <tr>\n",
       "      <th>2</th>\n",
       "      <td>8</td>\n",
       "      <td>24</td>\n",
       "      <td>132</td>\n",
       "      <td>cash</td>\n",
       "      <td>280000000</td>\n",
       "      <td>2007-05-01</td>\n",
       "    </tr>\n",
       "  </tbody>\n",
       "</table>\n",
       "</div>"
      ],
      "text/plain": [
       "   id  acquiring_company_id  acquired_company_id term_code  price_amount  \\\n",
       "0   1                    11                   10       NaN      20000000   \n",
       "1   7                    59                   72      cash      60000000   \n",
       "2   8                    24                  132      cash     280000000   \n",
       "\n",
       "  acquired_at  \n",
       "0  2007-05-30  \n",
       "1  2007-07-01  \n",
       "2  2007-05-01  "
      ]
     },
     "execution_count": 4,
     "metadata": {},
     "output_type": "execute_result"
    }
   ],
   "source": [
    "acq.head(3)"
   ]
  },
  {
   "cell_type": "code",
   "execution_count": 5,
   "metadata": {
    "tags": []
   },
   "outputs": [
    {
     "data": {
      "text/html": [
       "<div>\n",
       "<style scoped>\n",
       "    .dataframe tbody tr th:only-of-type {\n",
       "        vertical-align: middle;\n",
       "    }\n",
       "\n",
       "    .dataframe tbody tr th {\n",
       "        vertical-align: top;\n",
       "    }\n",
       "\n",
       "    .dataframe thead th {\n",
       "        text-align: right;\n",
       "    }\n",
       "</style>\n",
       "<table border=\"1\" class=\"dataframe\">\n",
       "  <thead>\n",
       "    <tr style=\"text-align: right;\">\n",
       "      <th></th>\n",
       "      <th>id</th>\n",
       "      <th>acquiring_company_id</th>\n",
       "      <th>acquired_company_id</th>\n",
       "      <th>term_code</th>\n",
       "      <th>price_amount</th>\n",
       "      <th>acquired_at</th>\n",
       "    </tr>\n",
       "  </thead>\n",
       "  <tbody>\n",
       "    <tr>\n",
       "      <th>9404</th>\n",
       "      <td>10527</td>\n",
       "      <td>223792</td>\n",
       "      <td>220208</td>\n",
       "      <td>NaN</td>\n",
       "      <td>26000000000</td>\n",
       "      <td>2007-07-03</td>\n",
       "    </tr>\n",
       "    <tr>\n",
       "      <th>9405</th>\n",
       "      <td>10528</td>\n",
       "      <td>227620</td>\n",
       "      <td>286176</td>\n",
       "      <td>cash</td>\n",
       "      <td>52400000</td>\n",
       "      <td>2013-12-12</td>\n",
       "    </tr>\n",
       "    <tr>\n",
       "      <th>9406</th>\n",
       "      <td>10529</td>\n",
       "      <td>53</td>\n",
       "      <td>92846</td>\n",
       "      <td>NaN</td>\n",
       "      <td>42600000</td>\n",
       "      <td>2013-12-12</td>\n",
       "    </tr>\n",
       "  </tbody>\n",
       "</table>\n",
       "</div>"
      ],
      "text/plain": [
       "         id  acquiring_company_id  acquired_company_id term_code  \\\n",
       "9404  10527                223792               220208       NaN   \n",
       "9405  10528                227620               286176      cash   \n",
       "9406  10529                    53                92846       NaN   \n",
       "\n",
       "      price_amount acquired_at  \n",
       "9404   26000000000  2007-07-03  \n",
       "9405      52400000  2013-12-12  \n",
       "9406      42600000  2013-12-12  "
      ]
     },
     "execution_count": 5,
     "metadata": {},
     "output_type": "execute_result"
    }
   ],
   "source": [
    " acq.tail(3)"
   ]
  },
  {
   "cell_type": "code",
   "execution_count": 6,
   "metadata": {
    "tags": []
   },
   "outputs": [
    {
     "data": {
      "text/html": [
       "<div>\n",
       "<style scoped>\n",
       "    .dataframe tbody tr th:only-of-type {\n",
       "        vertical-align: middle;\n",
       "    }\n",
       "\n",
       "    .dataframe tbody tr th {\n",
       "        vertical-align: top;\n",
       "    }\n",
       "\n",
       "    .dataframe thead th {\n",
       "        text-align: right;\n",
       "    }\n",
       "</style>\n",
       "<table border=\"1\" class=\"dataframe\">\n",
       "  <thead>\n",
       "    <tr style=\"text-align: right;\">\n",
       "      <th></th>\n",
       "      <th>id</th>\n",
       "      <th>acquiring_company_id</th>\n",
       "      <th>acquired_company_id</th>\n",
       "      <th>price_amount</th>\n",
       "    </tr>\n",
       "  </thead>\n",
       "  <tbody>\n",
       "    <tr>\n",
       "      <th>count</th>\n",
       "      <td>9 407.00</td>\n",
       "      <td>9 407.00</td>\n",
       "      <td>9 407.00</td>\n",
       "      <td>9 407.00</td>\n",
       "    </tr>\n",
       "    <tr>\n",
       "      <th>mean</th>\n",
       "      <td>5 256.98</td>\n",
       "      <td>49 787.28</td>\n",
       "      <td>71 693.03</td>\n",
       "      <td>393 296 495.64</td>\n",
       "    </tr>\n",
       "    <tr>\n",
       "      <th>std</th>\n",
       "      <td>3 005.79</td>\n",
       "      <td>69 060.42</td>\n",
       "      <td>73 026.43</td>\n",
       "      <td>26 821 978 227.23</td>\n",
       "    </tr>\n",
       "    <tr>\n",
       "      <th>min</th>\n",
       "      <td>1.00</td>\n",
       "      <td>4.00</td>\n",
       "      <td>4.00</td>\n",
       "      <td>0.00</td>\n",
       "    </tr>\n",
       "    <tr>\n",
       "      <th>25%</th>\n",
       "      <td>2 682.50</td>\n",
       "      <td>3 246.00</td>\n",
       "      <td>23 124.00</td>\n",
       "      <td>0.00</td>\n",
       "    </tr>\n",
       "    <tr>\n",
       "      <th>50%</th>\n",
       "      <td>5 178.00</td>\n",
       "      <td>26 107.00</td>\n",
       "      <td>45 126.00</td>\n",
       "      <td>0.00</td>\n",
       "    </tr>\n",
       "    <tr>\n",
       "      <th>75%</th>\n",
       "      <td>7 841.50</td>\n",
       "      <td>56 151.00</td>\n",
       "      <td>81 203.00</td>\n",
       "      <td>23 432.00</td>\n",
       "    </tr>\n",
       "    <tr>\n",
       "      <th>max</th>\n",
       "      <td>10 529.00</td>\n",
       "      <td>285 984.00</td>\n",
       "      <td>286 176.00</td>\n",
       "      <td>2 600 000 000 000.00</td>\n",
       "    </tr>\n",
       "  </tbody>\n",
       "</table>\n",
       "</div>"
      ],
      "text/plain": [
       "             id  acquiring_company_id  acquired_company_id  \\\n",
       "count  9 407.00              9 407.00             9 407.00   \n",
       "mean   5 256.98             49 787.28            71 693.03   \n",
       "std    3 005.79             69 060.42            73 026.43   \n",
       "min        1.00                  4.00                 4.00   \n",
       "25%    2 682.50              3 246.00            23 124.00   \n",
       "50%    5 178.00             26 107.00            45 126.00   \n",
       "75%    7 841.50             56 151.00            81 203.00   \n",
       "max   10 529.00            285 984.00           286 176.00   \n",
       "\n",
       "              price_amount  \n",
       "count             9 407.00  \n",
       "mean        393 296 495.64  \n",
       "std      26 821 978 227.23  \n",
       "min                   0.00  \n",
       "25%                   0.00  \n",
       "50%                   0.00  \n",
       "75%              23 432.00  \n",
       "max   2 600 000 000 000.00  "
      ]
     },
     "execution_count": 6,
     "metadata": {},
     "output_type": "execute_result"
    }
   ],
   "source": [
    "acq.describe()"
   ]
  },
  {
   "cell_type": "markdown",
   "metadata": {},
   "source": [
    "**Первичные выводы:**\n",
    "- Таблица `acquisition` содержит 9407 строк и 6 столбцов.\n",
    "- Есть пропуски в столбцах `term_code`, `acquired_at`.\n",
    "- Дата в столбце `acquired_at` представлена в некорректном формате.\n",
    "- Значения `price_amount` распределены очень неравномерно. Стандартное отклонение почти в 70 раз превышает среднее значение. Медиана по столбцу равна 0. Встречаются аномально высокие значения.\n",
    "---"
   ]
  },
  {
   "cell_type": "code",
   "execution_count": 7,
   "metadata": {
    "tags": []
   },
   "outputs": [
    {
     "name": "stdout",
     "output_type": "stream",
     "text": [
      "<class 'pandas.core.frame.DataFrame'>\n",
      "RangeIndex: 217774 entries, 0 to 217773\n",
      "Data columns (total 22 columns):\n",
      " #   Column                 Non-Null Count   Dtype  \n",
      "---  ------                 --------------   -----  \n",
      " 0   company  ID            217472 non-null  float64\n",
      " 1   name                   217472 non-null  object \n",
      " 2   category  code         143886 non-null  object \n",
      " 3   status                 217472 non-null  object \n",
      " 4   founded  at            109956 non-null  object \n",
      " 5   closed  at             3449 non-null    object \n",
      " 6   domain                 147159 non-null  object \n",
      " 7   network  username      95534 non-null   object \n",
      " 8   country  code          108607 non-null  object \n",
      " 9   investment  rounds     217472 non-null  float64\n",
      " 10  funding  rounds        217472 non-null  float64\n",
      " 11  funding  total         217472 non-null  float64\n",
      " 12  milestones             217472 non-null  float64\n",
      " 13  funding  round  id     52928 non-null   float64\n",
      " 14  company  id            52928 non-null   float64\n",
      " 15  funded  at             52680 non-null   object \n",
      " 16  funding  round  type   52928 non-null   object \n",
      " 17  raised  amount         52928 non-null   float64\n",
      " 18  pre  money  valuation  52928 non-null   float64\n",
      " 19  participants           52928 non-null   float64\n",
      " 20  is  first  round       52928 non-null   float64\n",
      " 21  is  last  round        52928 non-null   float64\n",
      "dtypes: float64(12), object(10)\n",
      "memory usage: 36.6+ MB\n"
     ]
    }
   ],
   "source": [
    "com.info()"
   ]
  },
  {
   "cell_type": "code",
   "execution_count": 8,
   "metadata": {
    "tags": []
   },
   "outputs": [
    {
     "data": {
      "text/html": [
       "<div>\n",
       "<style scoped>\n",
       "    .dataframe tbody tr th:only-of-type {\n",
       "        vertical-align: middle;\n",
       "    }\n",
       "\n",
       "    .dataframe tbody tr th {\n",
       "        vertical-align: top;\n",
       "    }\n",
       "\n",
       "    .dataframe thead th {\n",
       "        text-align: right;\n",
       "    }\n",
       "</style>\n",
       "<table border=\"1\" class=\"dataframe\">\n",
       "  <thead>\n",
       "    <tr style=\"text-align: right;\">\n",
       "      <th></th>\n",
       "      <th>company  ID</th>\n",
       "      <th>name</th>\n",
       "      <th>category  code</th>\n",
       "      <th>status</th>\n",
       "      <th>founded  at</th>\n",
       "      <th>closed  at</th>\n",
       "      <th>domain</th>\n",
       "      <th>network  username</th>\n",
       "      <th>country  code</th>\n",
       "      <th>investment  rounds</th>\n",
       "      <th>...</th>\n",
       "      <th>milestones</th>\n",
       "      <th>funding  round  id</th>\n",
       "      <th>company  id</th>\n",
       "      <th>funded  at</th>\n",
       "      <th>funding  round  type</th>\n",
       "      <th>raised  amount</th>\n",
       "      <th>pre  money  valuation</th>\n",
       "      <th>participants</th>\n",
       "      <th>is  first  round</th>\n",
       "      <th>is  last  round</th>\n",
       "    </tr>\n",
       "  </thead>\n",
       "  <tbody>\n",
       "    <tr>\n",
       "      <th>0</th>\n",
       "      <td>1.00</td>\n",
       "      <td>Wetpaint</td>\n",
       "      <td>web</td>\n",
       "      <td>operating</td>\n",
       "      <td>2005-10-17</td>\n",
       "      <td>NaN</td>\n",
       "      <td>wetpaint-inc.com</td>\n",
       "      <td>BachelrWetpaint</td>\n",
       "      <td>USA</td>\n",
       "      <td>0.00</td>\n",
       "      <td>...</td>\n",
       "      <td>5.00</td>\n",
       "      <td>888.00</td>\n",
       "      <td>1.00</td>\n",
       "      <td>2005-10-01</td>\n",
       "      <td>series-a</td>\n",
       "      <td>5 250 000.00</td>\n",
       "      <td>0.00</td>\n",
       "      <td>2.00</td>\n",
       "      <td>0.00</td>\n",
       "      <td>1.00</td>\n",
       "    </tr>\n",
       "    <tr>\n",
       "      <th>1</th>\n",
       "      <td>1.00</td>\n",
       "      <td>Wetpaint</td>\n",
       "      <td>web</td>\n",
       "      <td>operating</td>\n",
       "      <td>2005-10-17</td>\n",
       "      <td>NaN</td>\n",
       "      <td>wetpaint-inc.com</td>\n",
       "      <td>BachelrWetpaint</td>\n",
       "      <td>USA</td>\n",
       "      <td>0.00</td>\n",
       "      <td>...</td>\n",
       "      <td>5.00</td>\n",
       "      <td>889.00</td>\n",
       "      <td>1.00</td>\n",
       "      <td>2007-01-01</td>\n",
       "      <td>series-b</td>\n",
       "      <td>9 500 000.00</td>\n",
       "      <td>0.00</td>\n",
       "      <td>3.00</td>\n",
       "      <td>0.00</td>\n",
       "      <td>0.00</td>\n",
       "    </tr>\n",
       "    <tr>\n",
       "      <th>2</th>\n",
       "      <td>1.00</td>\n",
       "      <td>Wetpaint</td>\n",
       "      <td>web</td>\n",
       "      <td>operating</td>\n",
       "      <td>2005-10-17</td>\n",
       "      <td>NaN</td>\n",
       "      <td>wetpaint-inc.com</td>\n",
       "      <td>BachelrWetpaint</td>\n",
       "      <td>USA</td>\n",
       "      <td>0.00</td>\n",
       "      <td>...</td>\n",
       "      <td>5.00</td>\n",
       "      <td>2 312.00</td>\n",
       "      <td>1.00</td>\n",
       "      <td>2008-05-19</td>\n",
       "      <td>series-c+</td>\n",
       "      <td>25 000 000.00</td>\n",
       "      <td>0.00</td>\n",
       "      <td>4.00</td>\n",
       "      <td>1.00</td>\n",
       "      <td>0.00</td>\n",
       "    </tr>\n",
       "  </tbody>\n",
       "</table>\n",
       "<p>3 rows × 22 columns</p>\n",
       "</div>"
      ],
      "text/plain": [
       "   company  ID      name category  code     status founded  at closed  at  \\\n",
       "0         1.00  Wetpaint            web  operating  2005-10-17        NaN   \n",
       "1         1.00  Wetpaint            web  operating  2005-10-17        NaN   \n",
       "2         1.00  Wetpaint            web  operating  2005-10-17        NaN   \n",
       "\n",
       "             domain network  username country  code  investment  rounds  ...  \\\n",
       "0  wetpaint-inc.com   BachelrWetpaint           USA                0.00  ...   \n",
       "1  wetpaint-inc.com   BachelrWetpaint           USA                0.00  ...   \n",
       "2  wetpaint-inc.com   BachelrWetpaint           USA                0.00  ...   \n",
       "\n",
       "   milestones  funding  round  id  company  id  funded  at  \\\n",
       "0        5.00              888.00         1.00  2005-10-01   \n",
       "1        5.00              889.00         1.00  2007-01-01   \n",
       "2        5.00            2 312.00         1.00  2008-05-19   \n",
       "\n",
       "   funding  round  type raised  amount pre  money  valuation  participants  \\\n",
       "0              series-a   5 250 000.00                  0.00          2.00   \n",
       "1              series-b   9 500 000.00                  0.00          3.00   \n",
       "2             series-c+  25 000 000.00                  0.00          4.00   \n",
       "\n",
       "   is  first  round  is  last  round  \n",
       "0              0.00             1.00  \n",
       "1              0.00             0.00  \n",
       "2              1.00             0.00  \n",
       "\n",
       "[3 rows x 22 columns]"
      ]
     },
     "execution_count": 8,
     "metadata": {},
     "output_type": "execute_result"
    }
   ],
   "source": [
    "com.head(3)"
   ]
  },
  {
   "cell_type": "code",
   "execution_count": 9,
   "metadata": {
    "tags": []
   },
   "outputs": [
    {
     "data": {
      "text/html": [
       "<div>\n",
       "<style scoped>\n",
       "    .dataframe tbody tr th:only-of-type {\n",
       "        vertical-align: middle;\n",
       "    }\n",
       "\n",
       "    .dataframe tbody tr th {\n",
       "        vertical-align: top;\n",
       "    }\n",
       "\n",
       "    .dataframe thead th {\n",
       "        text-align: right;\n",
       "    }\n",
       "</style>\n",
       "<table border=\"1\" class=\"dataframe\">\n",
       "  <thead>\n",
       "    <tr style=\"text-align: right;\">\n",
       "      <th></th>\n",
       "      <th>company  ID</th>\n",
       "      <th>name</th>\n",
       "      <th>category  code</th>\n",
       "      <th>status</th>\n",
       "      <th>founded  at</th>\n",
       "      <th>closed  at</th>\n",
       "      <th>domain</th>\n",
       "      <th>network  username</th>\n",
       "      <th>country  code</th>\n",
       "      <th>investment  rounds</th>\n",
       "      <th>...</th>\n",
       "      <th>milestones</th>\n",
       "      <th>funding  round  id</th>\n",
       "      <th>company  id</th>\n",
       "      <th>funded  at</th>\n",
       "      <th>funding  round  type</th>\n",
       "      <th>raised  amount</th>\n",
       "      <th>pre  money  valuation</th>\n",
       "      <th>participants</th>\n",
       "      <th>is  first  round</th>\n",
       "      <th>is  last  round</th>\n",
       "    </tr>\n",
       "  </thead>\n",
       "  <tbody>\n",
       "    <tr>\n",
       "      <th>217771</th>\n",
       "      <td>NaN</td>\n",
       "      <td>NaN</td>\n",
       "      <td>NaN</td>\n",
       "      <td>NaN</td>\n",
       "      <td>NaN</td>\n",
       "      <td>NaN</td>\n",
       "      <td>NaN</td>\n",
       "      <td>NaN</td>\n",
       "      <td>NaN</td>\n",
       "      <td>NaN</td>\n",
       "      <td>...</td>\n",
       "      <td>NaN</td>\n",
       "      <td>56 543.00</td>\n",
       "      <td>55 477.00</td>\n",
       "      <td>2012-05-31</td>\n",
       "      <td>venture</td>\n",
       "      <td>2 125 720.00</td>\n",
       "      <td>0.00</td>\n",
       "      <td>0.00</td>\n",
       "      <td>1.00</td>\n",
       "      <td>0.00</td>\n",
       "    </tr>\n",
       "    <tr>\n",
       "      <th>217772</th>\n",
       "      <td>NaN</td>\n",
       "      <td>NaN</td>\n",
       "      <td>NaN</td>\n",
       "      <td>NaN</td>\n",
       "      <td>NaN</td>\n",
       "      <td>NaN</td>\n",
       "      <td>NaN</td>\n",
       "      <td>NaN</td>\n",
       "      <td>NaN</td>\n",
       "      <td>NaN</td>\n",
       "      <td>...</td>\n",
       "      <td>NaN</td>\n",
       "      <td>56 928.00</td>\n",
       "      <td>283 492.00</td>\n",
       "      <td>2013-12-03</td>\n",
       "      <td>venture</td>\n",
       "      <td>3 602 480.00</td>\n",
       "      <td>0.00</td>\n",
       "      <td>5.00</td>\n",
       "      <td>1.00</td>\n",
       "      <td>1.00</td>\n",
       "    </tr>\n",
       "    <tr>\n",
       "      <th>217773</th>\n",
       "      <td>NaN</td>\n",
       "      <td>NaN</td>\n",
       "      <td>NaN</td>\n",
       "      <td>NaN</td>\n",
       "      <td>NaN</td>\n",
       "      <td>NaN</td>\n",
       "      <td>NaN</td>\n",
       "      <td>NaN</td>\n",
       "      <td>NaN</td>\n",
       "      <td>NaN</td>\n",
       "      <td>...</td>\n",
       "      <td>NaN</td>\n",
       "      <td>57 063.00</td>\n",
       "      <td>284 191.00</td>\n",
       "      <td>2013-12-04</td>\n",
       "      <td>venture</td>\n",
       "      <td>7 000 000.00</td>\n",
       "      <td>0.00</td>\n",
       "      <td>4.00</td>\n",
       "      <td>1.00</td>\n",
       "      <td>1.00</td>\n",
       "    </tr>\n",
       "  </tbody>\n",
       "</table>\n",
       "<p>3 rows × 22 columns</p>\n",
       "</div>"
      ],
      "text/plain": [
       "        company  ID name category  code status founded  at closed  at domain  \\\n",
       "217771          NaN  NaN            NaN    NaN         NaN        NaN    NaN   \n",
       "217772          NaN  NaN            NaN    NaN         NaN        NaN    NaN   \n",
       "217773          NaN  NaN            NaN    NaN         NaN        NaN    NaN   \n",
       "\n",
       "       network  username country  code  investment  rounds  ...  milestones  \\\n",
       "217771               NaN           NaN                 NaN  ...         NaN   \n",
       "217772               NaN           NaN                 NaN  ...         NaN   \n",
       "217773               NaN           NaN                 NaN  ...         NaN   \n",
       "\n",
       "        funding  round  id  company  id  funded  at  funding  round  type  \\\n",
       "217771           56 543.00    55 477.00  2012-05-31               venture   \n",
       "217772           56 928.00   283 492.00  2013-12-03               venture   \n",
       "217773           57 063.00   284 191.00  2013-12-04               venture   \n",
       "\n",
       "       raised  amount pre  money  valuation  participants  is  first  round  \\\n",
       "217771   2 125 720.00                  0.00          0.00              1.00   \n",
       "217772   3 602 480.00                  0.00          5.00              1.00   \n",
       "217773   7 000 000.00                  0.00          4.00              1.00   \n",
       "\n",
       "        is  last  round  \n",
       "217771             0.00  \n",
       "217772             1.00  \n",
       "217773             1.00  \n",
       "\n",
       "[3 rows x 22 columns]"
      ]
     },
     "execution_count": 9,
     "metadata": {},
     "output_type": "execute_result"
    }
   ],
   "source": [
    "com.tail(3)"
   ]
  },
  {
   "cell_type": "code",
   "execution_count": 10,
   "metadata": {
    "tags": []
   },
   "outputs": [
    {
     "data": {
      "text/html": [
       "<div>\n",
       "<style scoped>\n",
       "    .dataframe tbody tr th:only-of-type {\n",
       "        vertical-align: middle;\n",
       "    }\n",
       "\n",
       "    .dataframe tbody tr th {\n",
       "        vertical-align: top;\n",
       "    }\n",
       "\n",
       "    .dataframe thead th {\n",
       "        text-align: right;\n",
       "    }\n",
       "</style>\n",
       "<table border=\"1\" class=\"dataframe\">\n",
       "  <thead>\n",
       "    <tr style=\"text-align: right;\">\n",
       "      <th></th>\n",
       "      <th>company  ID</th>\n",
       "      <th>investment  rounds</th>\n",
       "      <th>funding  rounds</th>\n",
       "      <th>funding  total</th>\n",
       "      <th>milestones</th>\n",
       "      <th>funding  round  id</th>\n",
       "      <th>company  id</th>\n",
       "      <th>raised  amount</th>\n",
       "      <th>pre  money  valuation</th>\n",
       "      <th>participants</th>\n",
       "      <th>is  first  round</th>\n",
       "      <th>is  last  round</th>\n",
       "    </tr>\n",
       "  </thead>\n",
       "  <tbody>\n",
       "    <tr>\n",
       "      <th>count</th>\n",
       "      <td>217 472.00</td>\n",
       "      <td>217 472.00</td>\n",
       "      <td>217 472.00</td>\n",
       "      <td>217 472.00</td>\n",
       "      <td>217 472.00</td>\n",
       "      <td>52 928.00</td>\n",
       "      <td>52 928.00</td>\n",
       "      <td>52 928.00</td>\n",
       "      <td>52 928.00</td>\n",
       "      <td>52 928.00</td>\n",
       "      <td>52 928.00</td>\n",
       "      <td>52 928.00</td>\n",
       "    </tr>\n",
       "    <tr>\n",
       "      <th>mean</th>\n",
       "      <td>145 287.38</td>\n",
       "      <td>0.04</td>\n",
       "      <td>0.61</td>\n",
       "      <td>5 996 191.13</td>\n",
       "      <td>0.65</td>\n",
       "      <td>28 962.89</td>\n",
       "      <td>98 490.89</td>\n",
       "      <td>7 946 092.26</td>\n",
       "      <td>329 452.46</td>\n",
       "      <td>1.53</td>\n",
       "      <td>0.60</td>\n",
       "      <td>0.60</td>\n",
       "    </tr>\n",
       "    <tr>\n",
       "      <th>std</th>\n",
       "      <td>91 998.16</td>\n",
       "      <td>1.96</td>\n",
       "      <td>1.43</td>\n",
       "      <td>48 931 604.28</td>\n",
       "      <td>0.83</td>\n",
       "      <td>16 821.87</td>\n",
       "      <td>88 429.08</td>\n",
       "      <td>42 168 205.89</td>\n",
       "      <td>65 318 030.22</td>\n",
       "      <td>2.06</td>\n",
       "      <td>0.49</td>\n",
       "      <td>0.49</td>\n",
       "    </tr>\n",
       "    <tr>\n",
       "      <th>min</th>\n",
       "      <td>1.00</td>\n",
       "      <td>0.00</td>\n",
       "      <td>0.00</td>\n",
       "      <td>0.00</td>\n",
       "      <td>0.00</td>\n",
       "      <td>1.00</td>\n",
       "      <td>1.00</td>\n",
       "      <td>0.00</td>\n",
       "      <td>0.00</td>\n",
       "      <td>0.00</td>\n",
       "      <td>0.00</td>\n",
       "      <td>0.00</td>\n",
       "    </tr>\n",
       "    <tr>\n",
       "      <th>25%</th>\n",
       "      <td>51 960.75</td>\n",
       "      <td>0.00</td>\n",
       "      <td>0.00</td>\n",
       "      <td>0.00</td>\n",
       "      <td>0.00</td>\n",
       "      <td>14 343.75</td>\n",
       "      <td>26 598.00</td>\n",
       "      <td>246 330.00</td>\n",
       "      <td>0.00</td>\n",
       "      <td>0.00</td>\n",
       "      <td>0.00</td>\n",
       "      <td>0.00</td>\n",
       "    </tr>\n",
       "    <tr>\n",
       "      <th>50%</th>\n",
       "      <td>165 262.50</td>\n",
       "      <td>0.00</td>\n",
       "      <td>0.00</td>\n",
       "      <td>0.00</td>\n",
       "      <td>0.00</td>\n",
       "      <td>28 885.50</td>\n",
       "      <td>58 080.00</td>\n",
       "      <td>1 600 000.00</td>\n",
       "      <td>0.00</td>\n",
       "      <td>1.00</td>\n",
       "      <td>1.00</td>\n",
       "      <td>1.00</td>\n",
       "    </tr>\n",
       "    <tr>\n",
       "      <th>75%</th>\n",
       "      <td>228 199.25</td>\n",
       "      <td>0.00</td>\n",
       "      <td>0.00</td>\n",
       "      <td>0.00</td>\n",
       "      <td>1.00</td>\n",
       "      <td>43 561.25</td>\n",
       "      <td>171 610.75</td>\n",
       "      <td>6 700 000.00</td>\n",
       "      <td>0.00</td>\n",
       "      <td>2.00</td>\n",
       "      <td>1.00</td>\n",
       "      <td>1.00</td>\n",
       "    </tr>\n",
       "    <tr>\n",
       "      <th>max</th>\n",
       "      <td>286 215.00</td>\n",
       "      <td>478.00</td>\n",
       "      <td>15.00</td>\n",
       "      <td>5 700 000 000.00</td>\n",
       "      <td>9.00</td>\n",
       "      <td>57 952.00</td>\n",
       "      <td>286 215.00</td>\n",
       "      <td>3 835 050 000.00</td>\n",
       "      <td>15 000 000 000.00</td>\n",
       "      <td>36.00</td>\n",
       "      <td>1.00</td>\n",
       "      <td>1.00</td>\n",
       "    </tr>\n",
       "  </tbody>\n",
       "</table>\n",
       "</div>"
      ],
      "text/plain": [
       "       company  ID  investment  rounds  funding  rounds   funding  total  \\\n",
       "count   217 472.00          217 472.00       217 472.00       217 472.00   \n",
       "mean    145 287.38                0.04             0.61     5 996 191.13   \n",
       "std      91 998.16                1.96             1.43    48 931 604.28   \n",
       "min           1.00                0.00             0.00             0.00   \n",
       "25%      51 960.75                0.00             0.00             0.00   \n",
       "50%     165 262.50                0.00             0.00             0.00   \n",
       "75%     228 199.25                0.00             0.00             0.00   \n",
       "max     286 215.00              478.00            15.00 5 700 000 000.00   \n",
       "\n",
       "       milestones  funding  round  id  company  id   raised  amount  \\\n",
       "count  217 472.00           52 928.00    52 928.00        52 928.00   \n",
       "mean         0.65           28 962.89    98 490.89     7 946 092.26   \n",
       "std          0.83           16 821.87    88 429.08    42 168 205.89   \n",
       "min          0.00                1.00         1.00             0.00   \n",
       "25%          0.00           14 343.75    26 598.00       246 330.00   \n",
       "50%          0.00           28 885.50    58 080.00     1 600 000.00   \n",
       "75%          1.00           43 561.25   171 610.75     6 700 000.00   \n",
       "max          9.00           57 952.00   286 215.00 3 835 050 000.00   \n",
       "\n",
       "       pre  money  valuation  participants  is  first  round  is  last  round  \n",
       "count              52 928.00     52 928.00         52 928.00        52 928.00  \n",
       "mean              329 452.46          1.53              0.60             0.60  \n",
       "std            65 318 030.22          2.06              0.49             0.49  \n",
       "min                     0.00          0.00              0.00             0.00  \n",
       "25%                     0.00          0.00              0.00             0.00  \n",
       "50%                     0.00          1.00              1.00             1.00  \n",
       "75%                     0.00          2.00              1.00             1.00  \n",
       "max        15 000 000 000.00         36.00              1.00             1.00  "
      ]
     },
     "execution_count": 10,
     "metadata": {},
     "output_type": "execute_result"
    }
   ],
   "source": [
    "com.describe()"
   ]
  },
  {
   "cell_type": "markdown",
   "metadata": {},
   "source": [
    "**Первичные выводы:**\n",
    "- Таблица `company_and_rounds` содержит 217774 строки и 22 столбца.\n",
    "- Есть пропуски во всех столбцах.\n",
    "- Дата в столбцах `founded  at`, `closed  at`, `funded  at` представлена в некорректном формате.\n",
    "- Названия столбцов содержат пробелы, для удобства работы приведем их к виду snake_case.\n",
    "- Более 75% данных в столбцах `investment rounds`, `funding rounds`, `funding total`, `pre money valuation` представлено нулями.\n",
    "- Столбцы `investment rounds` и `participants` содержат аномальные значения.\n",
    "---"
   ]
  },
  {
   "cell_type": "code",
   "execution_count": 11,
   "metadata": {
    "tags": []
   },
   "outputs": [
    {
     "name": "stdout",
     "output_type": "stream",
     "text": [
      "<class 'pandas.core.frame.DataFrame'>\n",
      "RangeIndex: 109610 entries, 0 to 109609\n",
      "Data columns (total 4 columns):\n",
      " #   Column        Non-Null Count   Dtype \n",
      "---  ------        --------------   ----- \n",
      " 0   id            109610 non-null  int64 \n",
      " 1   person_id     109610 non-null  int64 \n",
      " 2   instituition  109555 non-null  object\n",
      " 3   graduated_at  58054 non-null   object\n",
      "dtypes: int64(2), object(2)\n",
      "memory usage: 3.3+ MB\n"
     ]
    }
   ],
   "source": [
    "ed.info()"
   ]
  },
  {
   "cell_type": "code",
   "execution_count": 12,
   "metadata": {
    "tags": []
   },
   "outputs": [
    {
     "data": {
      "text/html": [
       "<div>\n",
       "<style scoped>\n",
       "    .dataframe tbody tr th:only-of-type {\n",
       "        vertical-align: middle;\n",
       "    }\n",
       "\n",
       "    .dataframe tbody tr th {\n",
       "        vertical-align: top;\n",
       "    }\n",
       "\n",
       "    .dataframe thead th {\n",
       "        text-align: right;\n",
       "    }\n",
       "</style>\n",
       "<table border=\"1\" class=\"dataframe\">\n",
       "  <thead>\n",
       "    <tr style=\"text-align: right;\">\n",
       "      <th></th>\n",
       "      <th>id</th>\n",
       "      <th>person_id</th>\n",
       "      <th>instituition</th>\n",
       "      <th>graduated_at</th>\n",
       "    </tr>\n",
       "  </thead>\n",
       "  <tbody>\n",
       "    <tr>\n",
       "      <th>0</th>\n",
       "      <td>1</td>\n",
       "      <td>6117</td>\n",
       "      <td>NaN</td>\n",
       "      <td>NaN</td>\n",
       "    </tr>\n",
       "    <tr>\n",
       "      <th>1</th>\n",
       "      <td>2</td>\n",
       "      <td>6136</td>\n",
       "      <td>Washington University, St. Louis</td>\n",
       "      <td>1990-01-01</td>\n",
       "    </tr>\n",
       "    <tr>\n",
       "      <th>2</th>\n",
       "      <td>3</td>\n",
       "      <td>6136</td>\n",
       "      <td>Boston University</td>\n",
       "      <td>1992-01-01</td>\n",
       "    </tr>\n",
       "  </tbody>\n",
       "</table>\n",
       "</div>"
      ],
      "text/plain": [
       "   id  person_id                      instituition graduated_at\n",
       "0   1       6117                               NaN          NaN\n",
       "1   2       6136  Washington University, St. Louis   1990-01-01\n",
       "2   3       6136                 Boston University   1992-01-01"
      ]
     },
     "execution_count": 12,
     "metadata": {},
     "output_type": "execute_result"
    }
   ],
   "source": [
    "ed.head(3)"
   ]
  },
  {
   "cell_type": "code",
   "execution_count": 13,
   "metadata": {
    "tags": []
   },
   "outputs": [
    {
     "data": {
      "text/html": [
       "<div>\n",
       "<style scoped>\n",
       "    .dataframe tbody tr th:only-of-type {\n",
       "        vertical-align: middle;\n",
       "    }\n",
       "\n",
       "    .dataframe tbody tr th {\n",
       "        vertical-align: top;\n",
       "    }\n",
       "\n",
       "    .dataframe thead th {\n",
       "        text-align: right;\n",
       "    }\n",
       "</style>\n",
       "<table border=\"1\" class=\"dataframe\">\n",
       "  <thead>\n",
       "    <tr style=\"text-align: right;\">\n",
       "      <th></th>\n",
       "      <th>id</th>\n",
       "      <th>person_id</th>\n",
       "      <th>instituition</th>\n",
       "      <th>graduated_at</th>\n",
       "    </tr>\n",
       "  </thead>\n",
       "  <tbody>\n",
       "    <tr>\n",
       "      <th>109607</th>\n",
       "      <td>109608</td>\n",
       "      <td>268527</td>\n",
       "      <td>Clarkson University</td>\n",
       "      <td>NaN</td>\n",
       "    </tr>\n",
       "    <tr>\n",
       "      <th>109608</th>\n",
       "      <td>109609</td>\n",
       "      <td>268528</td>\n",
       "      <td>Colorado State University</td>\n",
       "      <td>NaN</td>\n",
       "    </tr>\n",
       "    <tr>\n",
       "      <th>109609</th>\n",
       "      <td>109610</td>\n",
       "      <td>268528</td>\n",
       "      <td>University of San Diego School of Law</td>\n",
       "      <td>NaN</td>\n",
       "    </tr>\n",
       "  </tbody>\n",
       "</table>\n",
       "</div>"
      ],
      "text/plain": [
       "            id  person_id                           instituition graduated_at\n",
       "109607  109608     268527                    Clarkson University          NaN\n",
       "109608  109609     268528              Colorado State University          NaN\n",
       "109609  109610     268528  University of San Diego School of Law          NaN"
      ]
     },
     "execution_count": 13,
     "metadata": {},
     "output_type": "execute_result"
    }
   ],
   "source": [
    "ed.tail(3)"
   ]
  },
  {
   "cell_type": "markdown",
   "metadata": {},
   "source": [
    "**Первичные выводы:**\n",
    "- Таблица `education` содержит 109610 строк и 4 столбца.\n",
    "- Есть пропуски в столбцах `instituition`, `graduated_at`.\n",
    "- Дата в столбце `graduated_at` представлена в некорректном формате.\n",
    "---"
   ]
  },
  {
   "cell_type": "code",
   "execution_count": 14,
   "metadata": {
    "tags": []
   },
   "outputs": [
    {
     "name": "stdout",
     "output_type": "stream",
     "text": [
      "<class 'pandas.core.frame.DataFrame'>\n",
      "RangeIndex: 226709 entries, 0 to 226708\n",
      "Data columns (total 5 columns):\n",
      " #   Column            Non-Null Count   Dtype  \n",
      "---  ------            --------------   -----  \n",
      " 0   id                226709 non-null  int64  \n",
      " 1   first_name        226704 non-null  object \n",
      " 2   last_name         226708 non-null  object \n",
      " 3   company_id        34615 non-null   float64\n",
      " 4   network_username  38867 non-null   object \n",
      "dtypes: float64(1), int64(1), object(3)\n",
      "memory usage: 8.6+ MB\n"
     ]
    }
   ],
   "source": [
    "ppl.info()"
   ]
  },
  {
   "cell_type": "code",
   "execution_count": 15,
   "metadata": {
    "tags": []
   },
   "outputs": [
    {
     "data": {
      "text/html": [
       "<div>\n",
       "<style scoped>\n",
       "    .dataframe tbody tr th:only-of-type {\n",
       "        vertical-align: middle;\n",
       "    }\n",
       "\n",
       "    .dataframe tbody tr th {\n",
       "        vertical-align: top;\n",
       "    }\n",
       "\n",
       "    .dataframe thead th {\n",
       "        text-align: right;\n",
       "    }\n",
       "</style>\n",
       "<table border=\"1\" class=\"dataframe\">\n",
       "  <thead>\n",
       "    <tr style=\"text-align: right;\">\n",
       "      <th></th>\n",
       "      <th>id</th>\n",
       "      <th>first_name</th>\n",
       "      <th>last_name</th>\n",
       "      <th>company_id</th>\n",
       "      <th>network_username</th>\n",
       "    </tr>\n",
       "  </thead>\n",
       "  <tbody>\n",
       "    <tr>\n",
       "      <th>0</th>\n",
       "      <td>10</td>\n",
       "      <td>Mark</td>\n",
       "      <td>Zuckerberg</td>\n",
       "      <td>5.00</td>\n",
       "      <td>NaN</td>\n",
       "    </tr>\n",
       "    <tr>\n",
       "      <th>1</th>\n",
       "      <td>100</td>\n",
       "      <td>Peter</td>\n",
       "      <td>Lester</td>\n",
       "      <td>27.00</td>\n",
       "      <td>NaN</td>\n",
       "    </tr>\n",
       "    <tr>\n",
       "      <th>2</th>\n",
       "      <td>1000</td>\n",
       "      <td>Dr. Steven</td>\n",
       "      <td>E. Saunders</td>\n",
       "      <td>292.00</td>\n",
       "      <td>NaN</td>\n",
       "    </tr>\n",
       "  </tbody>\n",
       "</table>\n",
       "</div>"
      ],
      "text/plain": [
       "     id  first_name    last_name  company_id network_username\n",
       "0    10        Mark   Zuckerberg        5.00              NaN\n",
       "1   100       Peter       Lester       27.00              NaN\n",
       "2  1000  Dr. Steven  E. Saunders      292.00              NaN"
      ]
     },
     "execution_count": 15,
     "metadata": {},
     "output_type": "execute_result"
    }
   ],
   "source": [
    "ppl.head(3)"
   ]
  },
  {
   "cell_type": "code",
   "execution_count": 16,
   "metadata": {
    "tags": []
   },
   "outputs": [
    {
     "data": {
      "text/html": [
       "<div>\n",
       "<style scoped>\n",
       "    .dataframe tbody tr th:only-of-type {\n",
       "        vertical-align: middle;\n",
       "    }\n",
       "\n",
       "    .dataframe tbody tr th {\n",
       "        vertical-align: top;\n",
       "    }\n",
       "\n",
       "    .dataframe thead th {\n",
       "        text-align: right;\n",
       "    }\n",
       "</style>\n",
       "<table border=\"1\" class=\"dataframe\">\n",
       "  <thead>\n",
       "    <tr style=\"text-align: right;\">\n",
       "      <th></th>\n",
       "      <th>id</th>\n",
       "      <th>first_name</th>\n",
       "      <th>last_name</th>\n",
       "      <th>company_id</th>\n",
       "      <th>network_username</th>\n",
       "    </tr>\n",
       "  </thead>\n",
       "  <tbody>\n",
       "    <tr>\n",
       "      <th>226706</th>\n",
       "      <td>118386</td>\n",
       "      <td>Ricardo</td>\n",
       "      <td>Durand</td>\n",
       "      <td>143 419.00</td>\n",
       "      <td>itechsocialnet</td>\n",
       "    </tr>\n",
       "    <tr>\n",
       "      <th>226707</th>\n",
       "      <td>175827</td>\n",
       "      <td>mahesh</td>\n",
       "      <td>kumar</td>\n",
       "      <td>NaN</td>\n",
       "      <td>socialnethubs</td>\n",
       "    </tr>\n",
       "    <tr>\n",
       "      <th>226708</th>\n",
       "      <td>178190</td>\n",
       "      <td>Alex</td>\n",
       "      <td>Smith</td>\n",
       "      <td>NaN</td>\n",
       "      <td>esocialnetlike</td>\n",
       "    </tr>\n",
       "  </tbody>\n",
       "</table>\n",
       "</div>"
      ],
      "text/plain": [
       "            id first_name last_name  company_id network_username\n",
       "226706  118386    Ricardo    Durand  143 419.00   itechsocialnet\n",
       "226707  175827     mahesh     kumar         NaN    socialnethubs\n",
       "226708  178190       Alex     Smith         NaN   esocialnetlike"
      ]
     },
     "execution_count": 16,
     "metadata": {},
     "output_type": "execute_result"
    }
   ],
   "source": [
    "ppl.tail(3)"
   ]
  },
  {
   "cell_type": "markdown",
   "metadata": {
    "tags": []
   },
   "source": [
    "**Первичные выводы:**\n",
    "- Таблица `people` содержит 226709 строк и 5 столбцов.\n",
    "- Есть пропуски во всех столбцах кроме `id`.\n",
    "- Встречаются имена и фамилии со строчной буквы.\n",
    "---"
   ]
  },
  {
   "cell_type": "code",
   "execution_count": 17,
   "metadata": {
    "tags": []
   },
   "outputs": [
    {
     "name": "stdout",
     "output_type": "stream",
     "text": [
      "<class 'pandas.core.frame.DataFrame'>\n",
      "RangeIndex: 109610 entries, 0 to 109609\n",
      "Data columns (total 4 columns):\n",
      " #   Column       Non-Null Count   Dtype \n",
      "---  ------       --------------   ----- \n",
      " 0   id           109610 non-null  int64 \n",
      " 1   object_id    109610 non-null  object\n",
      " 2   degree_type  98392 non-null   object\n",
      " 3   subject      81298 non-null   object\n",
      "dtypes: int64(1), object(3)\n",
      "memory usage: 3.3+ MB\n"
     ]
    }
   ],
   "source": [
    "deg.info()"
   ]
  },
  {
   "cell_type": "code",
   "execution_count": 18,
   "metadata": {
    "tags": []
   },
   "outputs": [
    {
     "data": {
      "text/html": [
       "<div>\n",
       "<style scoped>\n",
       "    .dataframe tbody tr th:only-of-type {\n",
       "        vertical-align: middle;\n",
       "    }\n",
       "\n",
       "    .dataframe tbody tr th {\n",
       "        vertical-align: top;\n",
       "    }\n",
       "\n",
       "    .dataframe thead th {\n",
       "        text-align: right;\n",
       "    }\n",
       "</style>\n",
       "<table border=\"1\" class=\"dataframe\">\n",
       "  <thead>\n",
       "    <tr style=\"text-align: right;\">\n",
       "      <th></th>\n",
       "      <th>id</th>\n",
       "      <th>object_id</th>\n",
       "      <th>degree_type</th>\n",
       "      <th>subject</th>\n",
       "    </tr>\n",
       "  </thead>\n",
       "  <tbody>\n",
       "    <tr>\n",
       "      <th>0</th>\n",
       "      <td>1</td>\n",
       "      <td>p:6117</td>\n",
       "      <td>MBA</td>\n",
       "      <td>NaN</td>\n",
       "    </tr>\n",
       "    <tr>\n",
       "      <th>1</th>\n",
       "      <td>2</td>\n",
       "      <td>p:6136</td>\n",
       "      <td>BA</td>\n",
       "      <td>English, French</td>\n",
       "    </tr>\n",
       "    <tr>\n",
       "      <th>2</th>\n",
       "      <td>3</td>\n",
       "      <td>p:6136</td>\n",
       "      <td>MS</td>\n",
       "      <td>Mass Communication</td>\n",
       "    </tr>\n",
       "  </tbody>\n",
       "</table>\n",
       "</div>"
      ],
      "text/plain": [
       "   id object_id degree_type             subject\n",
       "0   1    p:6117         MBA                 NaN\n",
       "1   2    p:6136          BA     English, French\n",
       "2   3    p:6136          MS  Mass Communication"
      ]
     },
     "execution_count": 18,
     "metadata": {},
     "output_type": "execute_result"
    }
   ],
   "source": [
    "deg.head(3)"
   ]
  },
  {
   "cell_type": "code",
   "execution_count": 19,
   "metadata": {
    "tags": []
   },
   "outputs": [
    {
     "data": {
      "text/html": [
       "<div>\n",
       "<style scoped>\n",
       "    .dataframe tbody tr th:only-of-type {\n",
       "        vertical-align: middle;\n",
       "    }\n",
       "\n",
       "    .dataframe tbody tr th {\n",
       "        vertical-align: top;\n",
       "    }\n",
       "\n",
       "    .dataframe thead th {\n",
       "        text-align: right;\n",
       "    }\n",
       "</style>\n",
       "<table border=\"1\" class=\"dataframe\">\n",
       "  <thead>\n",
       "    <tr style=\"text-align: right;\">\n",
       "      <th></th>\n",
       "      <th>id</th>\n",
       "      <th>object_id</th>\n",
       "      <th>degree_type</th>\n",
       "      <th>subject</th>\n",
       "    </tr>\n",
       "  </thead>\n",
       "  <tbody>\n",
       "    <tr>\n",
       "      <th>109607</th>\n",
       "      <td>109608</td>\n",
       "      <td>p:268527</td>\n",
       "      <td>PhD</td>\n",
       "      <td>Engineering</td>\n",
       "    </tr>\n",
       "    <tr>\n",
       "      <th>109608</th>\n",
       "      <td>109609</td>\n",
       "      <td>p:268528</td>\n",
       "      <td>B.S.</td>\n",
       "      <td>Electrical Engineering</td>\n",
       "    </tr>\n",
       "    <tr>\n",
       "      <th>109609</th>\n",
       "      <td>109610</td>\n",
       "      <td>p:268528</td>\n",
       "      <td>J.D.</td>\n",
       "      <td>NaN</td>\n",
       "    </tr>\n",
       "  </tbody>\n",
       "</table>\n",
       "</div>"
      ],
      "text/plain": [
       "            id object_id degree_type                 subject\n",
       "109607  109608  p:268527         PhD             Engineering\n",
       "109608  109609  p:268528        B.S.  Electrical Engineering\n",
       "109609  109610  p:268528        J.D.                     NaN"
      ]
     },
     "execution_count": 19,
     "metadata": {},
     "output_type": "execute_result"
    }
   ],
   "source": [
    "deg.tail(3)"
   ]
  },
  {
   "cell_type": "markdown",
   "metadata": {
    "tags": []
   },
   "source": [
    "**Первичные выводы:**\n",
    "- Таблица `degrees` содержит 109610 строк и 4 столбца, как таблица `education`.\n",
    "- Данные в `object_id` нужно перевести в числовой тип.\n",
    "- Есть пропуски в столбцах `degree_type`, `subject`.\n",
    "---"
   ]
  },
  {
   "cell_type": "markdown",
   "metadata": {
    "tags": []
   },
   "source": [
    "Изменим названия столбцов в таблице `company_and_rounds`."
   ]
  },
  {
   "cell_type": "code",
   "execution_count": 20,
   "metadata": {
    "tags": []
   },
   "outputs": [],
   "source": [
    "#com.columns = com.columns.str.strip().str.lower().str.replace('  ', '_')"
   ]
  },
  {
   "cell_type": "code",
   "execution_count": 21,
   "metadata": {
    "tags": []
   },
   "outputs": [],
   "source": [
    "com.columns = [x.strip().lower().replace('  ', '_') for x in com.columns.values]"
   ]
  },
  {
   "cell_type": "markdown",
   "metadata": {},
   "source": [
    "<div class=\"alert alert-block alert-warning\">📝\n",
    "    \n",
    "\n",
    "__Комментарий от ревьюера №1__\n",
    "\n",
    "\n",
    "\n",
    "* также интересным является подход с использованием list comprehensions:\n",
    "        \n",
    "`df.columns = [x.lower().replace(' ', '_') for x in df.columns.values]`\n",
    "    \n",
    "    \n",
    "Данный подход использует list comprehensions, что может быть быстрее на больших датасетах благодаря оптимизации Python для list comprehensions. Этот метод также предоставляет гибкость в добавлении дополнительных операций или условий при необходимости. Однако, он может быть менее очевидным для тех, кто только начинает работать с Python. Этот подход \"интересен\" тем, что он показывает, как одна и та же задача может быть решена разными способами, и некоторые из них могут быть более эффективными или гибкими в зависимости от конкретного контекста.    \n",
    "    "
   ]
  },
  {
   "cell_type": "markdown",
   "metadata": {
    "tags": []
   },
   "source": [
    "<div class=\"alert alert-info\"> <b>Поменял код</b></div>"
   ]
  },
  {
   "cell_type": "markdown",
   "metadata": {
    "tags": []
   },
   "source": [
    "Зададим написание имен и фамилий в таблице `people` с заглавной буквы."
   ]
  },
  {
   "cell_type": "code",
   "execution_count": 22,
   "metadata": {
    "tags": []
   },
   "outputs": [],
   "source": [
    "ppl['first_name'] = ppl['first_name'].str.title()\n",
    "ppl['last_name'] = ppl['last_name'].str.title()"
   ]
  },
  {
   "cell_type": "markdown",
   "metadata": {
    "id": "mg2gEwh0rJg0"
   },
   "source": [
    "### 1.2. Смена типов и анализ пропусков\n",
    "\n",
    "- Обработайте типы данных в столбцах, которые хранят значения даты и времени, если это необходимо.\n",
    "- Оцените полноту данных — сделайте предварительный вывод, достаточно ли данных для решения задач проекта."
   ]
  },
  {
   "cell_type": "markdown",
   "metadata": {
    "id": "FsL0A8RBrJg1",
    "tags": [],
    "vscode": {
     "languageId": "plaintext"
    }
   },
   "source": [
    "Обработаем типы данных в столбцах, которые хранят значения даты и времени."
   ]
  },
  {
   "cell_type": "code",
   "execution_count": 23,
   "metadata": {
    "id": "46VskrGyFeJ-",
    "tags": []
   },
   "outputs": [],
   "source": [
    "acq['acquired_at'] = pd.to_datetime(acq['acquired_at'])\n",
    "\n",
    "date_columns = ['founded_at', 'closed_at', 'funded_at']\n",
    "for col in date_columns:\n",
    "    com[col] = pd.to_datetime(com[col])\n",
    "\n",
    "ed['graduated_at'] = pd.to_datetime(ed['graduated_at'])"
   ]
  },
  {
   "cell_type": "markdown",
   "metadata": {},
   "source": [
    "Обработаем типы данных в столбцах, которые хранят числовые значения."
   ]
  },
  {
   "cell_type": "code",
   "execution_count": 24,
   "metadata": {
    "tags": []
   },
   "outputs": [],
   "source": [
    "deg['object_id'] = pd.to_numeric(deg['object_id'].str.replace('p:',''))"
   ]
  },
  {
   "cell_type": "markdown",
   "metadata": {
    "tags": []
   },
   "source": [
    "Проверим результат преобразования."
   ]
  },
  {
   "cell_type": "code",
   "execution_count": 25,
   "metadata": {
    "id": "DEg1tl8DFeBn",
    "tags": []
   },
   "outputs": [
    {
     "name": "stdout",
     "output_type": "stream",
     "text": [
      "id                               int64\n",
      "acquiring_company_id             int64\n",
      "acquired_company_id              int64\n",
      "term_code                       object\n",
      "price_amount                     int64\n",
      "acquired_at             datetime64[ns]\n",
      "dtype: object \n",
      "========================================\n",
      " company_id                    float64\n",
      "name                           object\n",
      "category_code                  object\n",
      "status                         object\n",
      "founded_at             datetime64[ns]\n",
      "closed_at              datetime64[ns]\n",
      "domain                         object\n",
      "network_username               object\n",
      "country_code                   object\n",
      "investment_rounds             float64\n",
      "funding_rounds                float64\n",
      "funding_total                 float64\n",
      "milestones                    float64\n",
      "funding_round_id              float64\n",
      "company_id                    float64\n",
      "funded_at              datetime64[ns]\n",
      "funding_round_type             object\n",
      "raised_amount                 float64\n",
      "pre_money_valuation           float64\n",
      "participants                  float64\n",
      "is_first_round                float64\n",
      "is_last_round                 float64\n",
      "dtype: object \n",
      "========================================\n",
      " id                       int64\n",
      "person_id                int64\n",
      "instituition            object\n",
      "graduated_at    datetime64[ns]\n",
      "dtype: object \n",
      "========================================\n",
      " id              int64\n",
      "object_id       int64\n",
      "degree_type    object\n",
      "subject        object\n",
      "dtype: object\n"
     ]
    }
   ],
   "source": [
    "print (acq.dtypes, '\\n' + '='*40 + '\\n', com.dtypes, '\\n' + '='*40 + '\\n', ed.dtypes, '\\n' + '='*40 + '\\n', deg.dtypes)"
   ]
  },
  {
   "cell_type": "markdown",
   "metadata": {
    "tags": []
   },
   "source": [
    "Последовательно проанализируем пропуски в исследуемых датасетах."
   ]
  },
  {
   "cell_type": "code",
   "execution_count": 26,
   "metadata": {
    "tags": []
   },
   "outputs": [
    {
     "name": "stdout",
     "output_type": "stream",
     "text": [
      "Статистика пропущенных значений в датафрейме \"acq\"\n",
      "\n",
      "             number_of_missing_values  percentage_of_missing_values(%)\n",
      "term_code                        7576                            80.54\n",
      "acquired_at                        29                             0.31\n",
      "\n",
      "================================================================================\n",
      "\n",
      "Статистика пропущенных значений в датафрейме \"com\"\n",
      "\n",
      "                     number_of_missing_values  percentage_of_missing_values(%)\n",
      "closed_at                              214325                            98.42\n",
      "funded_at                              165094                            75.81\n",
      "is_last_round                          164846                            75.70\n",
      "is_first_round                         164846                            75.70\n",
      "participants                           164846                            75.70\n",
      "pre_money_valuation                    164846                            75.70\n",
      "raised_amount                          164846                            75.70\n",
      "funding_round_type                     164846                            75.70\n",
      "funding_round_id                       164846                            75.70\n",
      "company_id                             164846                            75.70\n",
      "network_username                       122240                            56.13\n",
      "country_code                           109167                            50.13\n",
      "founded_at                             107818                            49.51\n",
      "category_code                           73888                            33.93\n",
      "domain                                  70615                            32.43\n",
      "company_id                                302                             0.14\n",
      "milestones                                302                             0.14\n",
      "name                                      302                             0.14\n",
      "funding_rounds                            302                             0.14\n",
      "investment_rounds                         302                             0.14\n",
      "status                                    302                             0.14\n",
      "funding_total                             302                             0.14\n",
      "\n",
      "================================================================================\n",
      "\n",
      "Статистика пропущенных значений в датафрейме \"ed\"\n",
      "\n",
      "              number_of_missing_values  percentage_of_missing_values(%)\n",
      "graduated_at                     51556                            47.04\n",
      "instituition                        55                             0.05\n",
      "\n",
      "================================================================================\n",
      "\n",
      "Статистика пропущенных значений в датафрейме \"ppl\"\n",
      "\n",
      "                  number_of_missing_values  percentage_of_missing_values(%)\n",
      "company_id                          192094                            84.73\n",
      "network_username                    187842                            82.86\n",
      "first_name                               5                             0.00\n",
      "last_name                                1                             0.00\n",
      "\n",
      "================================================================================\n",
      "\n",
      "Статистика пропущенных значений в датафрейме \"deg\"\n",
      "\n",
      "             number_of_missing_values  percentage_of_missing_values(%)\n",
      "subject                         28312                            25.83\n",
      "degree_type                     11218                            10.23\n",
      "\n",
      "================================================================================\n",
      "\n"
     ]
    }
   ],
   "source": [
    "df_list = [acq, com, ed, ppl, deg] # Список датафреймов\n",
    "df_names = ['acq', 'com', 'ed', 'ppl', 'deg'] # Список имен датафреймов\n",
    "\n",
    "for df, name in zip(df_list, df_names):\n",
    "# Создаем и фильтруем датафрейм с пропусками\n",
    "    missing_values = pd.DataFrame({\n",
    "        'number_of_missing_values': df.isna().sum(),\n",
    "        'percentage_of_missing_values(%)': (df.isna().mean() * 100).round(2)\n",
    "    }).query('number_of_missing_values > 0').sort_values(by='percentage_of_missing_values(%)', ascending=False)\n",
    "    \n",
    "# Выводим результаты (отображаются только столбцы с пропусками)\n",
    "    print(f'Статистика пропущенных значений в датафрейме \"{name}\"', end='\\n\\n')\n",
    "    print(missing_values)\n",
    "    print('\\n' + '='*80 + '\\n')"
   ]
  },
  {
   "cell_type": "markdown",
   "metadata": {},
   "source": [
    "**Предварительные выводы**\n",
    "\n",
    "Пропуски в таблице `acquisition`:\n",
    "- `term_code` — очень большая доля (80%), можно заменить на индикатор `unknown`;\n",
    "- `acquired_at` — менее 1%, можно удалить без влияния на результаты анализа.\n",
    "\n",
    "Пропуски в таблице `company_and_rounds`:\n",
    "- `closed_at` — заполнено менее чем в 2% строк, можно объяснить тем, что большинство компаний не закрылось и продолжает работу;\n",
    "- `is_last_round`, `funded_at`, `is_first_round`, `participants`, `pre_money_valuation`, `raised_amount`, `funding_round_type`,  `funding_round_id`, `company_id` — содержат одинаковую долю пропусков (76%), которые появились из-за объединения таблиц с информаией о компаниях и о раундах финансирования;\n",
    "- `category_code`, `domain`, `network_username`, `country_code` — содержат значительное количество пропусков, но не участвуют в анализе, поэтому могут быть проигнорированы;\n",
    "- `company_id`, `milestones`, `name`, `funding_rounds`, `investment_rounds`, `status`, `funding_total` — содержат одинаковую долю пропусков (0.14%), которые появились из-за объединения таблиц с информаией о компаниях и о раундах финансирования, можно удалить;\n",
    "- `founded_at` — содержит половину заполненных значений, возможно, некоторые компани выбрали один тип привлечения средств: инвестирование или финансирование.\n",
    "\n",
    "Пропуски в таблице `education`:\n",
    "- `graduated_at` — пропущено 47% значений, возможно, этот параметр имеет низкую значимость и необязательно фиксируется во время приема на работу;\n",
    "- `instituition` — пропущено 0.05% значений, можно удалить без влияния на анализ.\n",
    "\n",
    "Пропуски в таблице `people`:\n",
    "- `company_id` — пропущено 85% значений, возможно, данные утеряны, так как перечень сотрудников без информации о компании теряет смысл;\n",
    "- `network_username` — обычно в анкетах это необязательный параметр, 83% пропусков имеют место быть;\n",
    "- `first_name`, `last_name`  — содержат всего 6 пропусков, можно удалить для чистоты данных.\n",
    "\n",
    "Пропуски в таблице `degrees`:\n",
    "- `subject` — четверть значений пропущено, заменить или удалить не получится;\n",
    "- `degree_type` — 10% значений пропущено, заменить или удалить не получится."
   ]
  },
  {
   "cell_type": "markdown",
   "metadata": {},
   "source": [
    "<div class=\"alert alert-block alert-success\">✔️\n",
    "    \n",
    "\n",
    "__Комментарий от ревьюера №1__\n",
    "\n",
    "Да, типы данных верно заменены.\n",
    "\n",
    "Даты - это основной источник проблем с типами данных. Иногда приходится менять и другие типы, то даты почти всегда будут в неподходящем формате при выгрузке из БД.\n"
   ]
  },
  {
   "cell_type": "markdown",
   "metadata": {
    "id": "u60cHsn6rJg1"
   },
   "source": [
    "## Шаг 2. Предобработка данных, предварительное исследование"
   ]
  },
  {
   "cell_type": "markdown",
   "metadata": {
    "id": "g2bHIIjcrJg1"
   },
   "source": [
    "\n",
    "### 2.1. Раунды финансирования по годам\n",
    "\n",
    "Задание необходимо выполнить без объединения и дополнительной предобработки на основе датасета `company_and_rounds.csv`.\n",
    "\n",
    "- Составьте сводную таблицу по годам, в которой на основании столбца `raised_amount` для каждого года указан:\n",
    "    - типичный размер средств, выделяемый в рамках одного раунда;\n",
    "    - общее количество раундов финансирования за этот год.\n",
    "    \n",
    "- Оставьте в таблице информацию только для тех лет, для которых есть информация о более чем 50 раундах финансирования.\n",
    "- На основе получившейся таблицы постройте график, который будет отражать динамику типичного размера средств, которые стартапы получали в рамках одного раунда финансирования.\n",
    "\n",
    "На основе полученных данных ответьте на вопросы: \n",
    "\n",
    "- В каком году типичный размер собранных в рамках одного раунда средств был максимален?\n",
    "- Какая тенденция по количеству раундов и выделяемых в рамках каждого раунда средств наблюдалась в 2013 году?"
   ]
  },
  {
   "cell_type": "markdown",
   "metadata": {
    "tags": []
   },
   "source": [
    "Добавим в таблицу `company_and_rounds.csv` столбцец с годом финансирования `year_of_funding`."
   ]
  },
  {
   "cell_type": "code",
   "execution_count": 27,
   "metadata": {
    "tags": []
   },
   "outputs": [],
   "source": [
    "com['year_of_funding'] = com[com['funded_at'].notna()]['funded_at'].dt.year.apply(lambda x: f\"{x:.0f}\")"
   ]
  },
  {
   "cell_type": "code",
   "execution_count": 28,
   "metadata": {
    "id": "8Fbz6KmzFdYP",
    "tags": []
   },
   "outputs": [
    {
     "data": {
      "text/plain": [
       "\" funding_years = pd.DataFrame({\\n        'median_amount': com.groupby('year')['raised_amount'].median(),\\n        'total_rounds': com.groupby('year')['funding_rounds'].sum()\\n    }).query('total_rounds > 50')\\nfunding_years.T\""
      ]
     },
     "execution_count": 28,
     "metadata": {},
     "output_type": "execute_result"
    }
   ],
   "source": [
    "#Вероятно ошибочный вариант \n",
    "''' funding_years = pd.DataFrame({\n",
    "        'median_amount': com.groupby('year')['raised_amount'].median(),\n",
    "        'total_rounds': com.groupby('year')['funding_rounds'].sum()\n",
    "    }).query('total_rounds > 50')\n",
    "funding_years.T'''"
   ]
  },
  {
   "cell_type": "markdown",
   "metadata": {
    "tags": []
   },
   "source": [
    "Создадим и выведем сводную таблицу по годам с указанием типичного размера средств, выделяемый в рамках одного раунда, и общим количеством раундов финансирования за год."
   ]
  },
  {
   "cell_type": "code",
   "execution_count": 29,
   "metadata": {
    "tags": []
   },
   "outputs": [
    {
     "data": {
      "text/html": [
       "<div>\n",
       "<style scoped>\n",
       "    .dataframe tbody tr th:only-of-type {\n",
       "        vertical-align: middle;\n",
       "    }\n",
       "\n",
       "    .dataframe tbody tr th {\n",
       "        vertical-align: top;\n",
       "    }\n",
       "\n",
       "    .dataframe thead th {\n",
       "        text-align: right;\n",
       "    }\n",
       "</style>\n",
       "<table border=\"1\" class=\"dataframe\">\n",
       "  <thead>\n",
       "    <tr style=\"text-align: right;\">\n",
       "      <th></th>\n",
       "      <th>raised_amount_median</th>\n",
       "      <th>raised_amount_count</th>\n",
       "    </tr>\n",
       "    <tr>\n",
       "      <th>year_of_funding</th>\n",
       "      <th></th>\n",
       "      <th></th>\n",
       "    </tr>\n",
       "  </thead>\n",
       "  <tbody>\n",
       "    <tr>\n",
       "      <th>1999</th>\n",
       "      <td>2 000 000.00</td>\n",
       "      <td>76</td>\n",
       "    </tr>\n",
       "    <tr>\n",
       "      <th>2000</th>\n",
       "      <td>4 200 000.00</td>\n",
       "      <td>125</td>\n",
       "    </tr>\n",
       "    <tr>\n",
       "      <th>2001</th>\n",
       "      <td>3 000 000.00</td>\n",
       "      <td>96</td>\n",
       "    </tr>\n",
       "    <tr>\n",
       "      <th>2002</th>\n",
       "      <td>4 200 000.00</td>\n",
       "      <td>116</td>\n",
       "    </tr>\n",
       "    <tr>\n",
       "      <th>2003</th>\n",
       "      <td>3 000 000.00</td>\n",
       "      <td>159</td>\n",
       "    </tr>\n",
       "    <tr>\n",
       "      <th>2004</th>\n",
       "      <td>5 000 000.00</td>\n",
       "      <td>291</td>\n",
       "    </tr>\n",
       "    <tr>\n",
       "      <th>2005</th>\n",
       "      <td>5 500 000.00</td>\n",
       "      <td>1633</td>\n",
       "    </tr>\n",
       "    <tr>\n",
       "      <th>2006</th>\n",
       "      <td>5 000 000.00</td>\n",
       "      <td>2436</td>\n",
       "    </tr>\n",
       "    <tr>\n",
       "      <th>2007</th>\n",
       "      <td>3 973 320.00</td>\n",
       "      <td>3279</td>\n",
       "    </tr>\n",
       "    <tr>\n",
       "      <th>2008</th>\n",
       "      <td>3 110 000.00</td>\n",
       "      <td>3774</td>\n",
       "    </tr>\n",
       "    <tr>\n",
       "      <th>2009</th>\n",
       "      <td>2 000 000.00</td>\n",
       "      <td>4151</td>\n",
       "    </tr>\n",
       "    <tr>\n",
       "      <th>2010</th>\n",
       "      <td>1 602 500.00</td>\n",
       "      <td>6221</td>\n",
       "    </tr>\n",
       "    <tr>\n",
       "      <th>2011</th>\n",
       "      <td>1 200 000.00</td>\n",
       "      <td>9204</td>\n",
       "    </tr>\n",
       "    <tr>\n",
       "      <th>2012</th>\n",
       "      <td>1 000 000.00</td>\n",
       "      <td>9970</td>\n",
       "    </tr>\n",
       "    <tr>\n",
       "      <th>2013</th>\n",
       "      <td>1 200 000.00</td>\n",
       "      <td>11072</td>\n",
       "    </tr>\n",
       "  </tbody>\n",
       "</table>\n",
       "</div>"
      ],
      "text/plain": [
       "                 raised_amount_median  raised_amount_count\n",
       "year_of_funding                                           \n",
       "1999                     2 000 000.00                   76\n",
       "2000                     4 200 000.00                  125\n",
       "2001                     3 000 000.00                   96\n",
       "2002                     4 200 000.00                  116\n",
       "2003                     3 000 000.00                  159\n",
       "2004                     5 000 000.00                  291\n",
       "2005                     5 500 000.00                 1633\n",
       "2006                     5 000 000.00                 2436\n",
       "2007                     3 973 320.00                 3279\n",
       "2008                     3 110 000.00                 3774\n",
       "2009                     2 000 000.00                 4151\n",
       "2010                     1 602 500.00                 6221\n",
       "2011                     1 200 000.00                 9204\n",
       "2012                     1 000 000.00                 9970\n",
       "2013                     1 200 000.00                11072"
      ]
     },
     "execution_count": 29,
     "metadata": {},
     "output_type": "execute_result"
    }
   ],
   "source": [
    "pivot_table = pd.pivot_table(com, index='year_of_funding', values='raised_amount', aggfunc=['median', 'count'])\n",
    "\n",
    "# Переименовываем столбцы в сводной таблице\n",
    "pivot_table.columns = ['raised_amount_median', 'raised_amount_count']\n",
    "\n",
    "# Оставляем данные с информацией о более чем 50 раундах финансирования \n",
    "pivot_table = pivot_table[pivot_table['raised_amount_count'] > 50]\n",
    "pivot_table"
   ]
  },
  {
   "cell_type": "markdown",
   "metadata": {},
   "source": [
    "Визуализируем данные таблицы на графике, который будет отражать динамику типичного размера средств, которые стартапы получали в рамках одного раунда финансирования."
   ]
  },
  {
   "cell_type": "code",
   "execution_count": 30,
   "metadata": {
    "id": "Z92DzKMMFdKW",
    "tags": []
   },
   "outputs": [
    {
     "data": {
      "image/png": "[encoded data removed]",
      "text/plain": [
       "<Figure size 1000x500 with 1 Axes>"
      ]
     },
     "metadata": {},
     "output_type": "display_data"
    }
   ],
   "source": [
    "#funding_years.index = funding_years.index.astype(int)\n",
    "pivot_table['MA'] = pivot_table['raised_amount_median'].rolling(window=2).mean() # Скользящая средняя с окном 2 года\n",
    "pivot_table.plot.line(\n",
    "    y = ['raised_amount_median', 'MA'],\n",
    "    figsize = (10, 5),\n",
    "    ylabel = 'Медианный размер средств, млн.',\n",
    "    xlabel = 'Год',\n",
    "    title = 'Динамика типичного размера средств в рамках одного раунда финансирования стартапов'\n",
    ")\n",
    "plt.legend([\"Исходные данные\", \"Скользящая средняя (2 года)\"])\n",
    "plt.grid()"
   ]
  },
  {
   "cell_type": "markdown",
   "metadata": {
    "tags": []
   },
   "source": [
    "- Максимальный размер собранных в рамках одного раунда средств зафиксирован в 2005 году и составил 5500000 долларов.\n",
    "- В 2013 году медианный размер средств, выделяемых в рамках одного раунда, составил $1200000, что на 20% больше, чем в 2012 году. В 2013 году было проведено на 11% больше раундов финансирования, чем в 2012 году — 11072 раунда против 9970."
   ]
  },
  {
   "cell_type": "markdown",
   "metadata": {},
   "source": [
    "<div class=\"alert alert-block alert-success\">✔️\n",
    "    \n",
    "\n",
    "__Комментарий от ревьюера №1__\n",
    "\n",
    "\n",
    "\n",
    "- Верно что использована медиана \n",
    "  \n",
    "    \n",
    "- График получен верный.  Оформление отличное - надписи по осям, заголовок\n",
    "  \n",
    "    \n",
    " \n",
    "\n",
    "    \n",
    "<div class=\"alert alert-warning\">\n",
    "\n",
    "Совет 🤔:\n",
    "\n",
    "    \n",
    "     \n",
    "\n",
    "    \n",
    "- Когда имеем дело с временными рядами, есть такой классический инструмент как скользящая средняя. Тенденции очевидны и так, но если хочешь можешь наложить, для сглаживания     \n",
    "    \n",
    "    \n",
    "    \n",
    "- Кстати тут можно добавить коэффициент дефляции,  ведь покупательная способность одного доллара в 2000 и 2013 года разная. Такой вот экономический аспектик     \n",
    "    \n",
    "     "
   ]
  },
  {
   "cell_type": "markdown",
   "metadata": {
    "tags": []
   },
   "source": [
    "<div class=\"alert alert-info\"> <b> Добавил скользящую среднюю</b></div>"
   ]
  },
  {
   "cell_type": "markdown",
   "metadata": {
    "id": "45if1en1rJg2"
   },
   "source": [
    "\n",
    "### 2.2. Люди и их образование\n",
    "\n",
    "Заказчик хочет понять, зависит ли полнота сведений о сотрудниках (например, об их образовании) от размера компаний.\n",
    "\n",
    "- Оцените, насколько информация об образовании сотрудников полна. Используя датасеты `people.csv` и `education.csv`, разделите все компании на несколько групп по количеству сотрудников и оцените среднюю долю сотрудников без информации об образовании в каждой из групп. Обоснуйте выбранные границы групп.\n",
    "- Оцените, возможно ли для выполнения задания присоединить к этим таблицам ещё и таблицу `degrees.csv`."
   ]
  },
  {
   "cell_type": "markdown",
   "metadata": {
    "tags": []
   },
   "source": [
    "Объединим таблицы с данными о сотрудниках и об их образовании с помощью метода `merge()` c параметром `how='left'`, чтобы сохранить данные сотрудников без информации об образовании."
   ]
  },
  {
   "cell_type": "code",
   "execution_count": 31,
   "metadata": {
    "id": "psPO7C4MrJg2",
    "tags": [],
    "vscode": {
     "languageId": "plaintext"
    }
   },
   "outputs": [],
   "source": [
    "ppl_ed = pd.merge(ppl, ed, how='left', left_on='id', right_on='person_id')\n",
    "\n",
    "# Удаляем дублирующийся столбец с номером сотрудника\n",
    "ppl_ed.drop('person_id', axis=1, inplace=True)\n",
    "\n",
    "# Устанавливаем корректные названия для столбцов с номерами сотрудников и номерами записи в таблице\n",
    "ppl_ed = ppl_ed.rename(columns={'id_x': 'employee_id', 'id_y': 'entry_id'})"
   ]
  },
  {
   "cell_type": "markdown",
   "metadata": {
    "tags": []
   },
   "source": [
    "Проверяем первые 5 строк нового датафрейма."
   ]
  },
  {
   "cell_type": "code",
   "execution_count": 32,
   "metadata": {
    "id": "BThTjpLqFcsm",
    "tags": []
   },
   "outputs": [
    {
     "data": {
      "text/html": [
       "<div>\n",
       "<style scoped>\n",
       "    .dataframe tbody tr th:only-of-type {\n",
       "        vertical-align: middle;\n",
       "    }\n",
       "\n",
       "    .dataframe tbody tr th {\n",
       "        vertical-align: top;\n",
       "    }\n",
       "\n",
       "    .dataframe thead th {\n",
       "        text-align: right;\n",
       "    }\n",
       "</style>\n",
       "<table border=\"1\" class=\"dataframe\">\n",
       "  <thead>\n",
       "    <tr style=\"text-align: right;\">\n",
       "      <th></th>\n",
       "      <th>employee_id</th>\n",
       "      <th>first_name</th>\n",
       "      <th>last_name</th>\n",
       "      <th>company_id</th>\n",
       "      <th>network_username</th>\n",
       "      <th>entry_id</th>\n",
       "      <th>instituition</th>\n",
       "      <th>graduated_at</th>\n",
       "    </tr>\n",
       "  </thead>\n",
       "  <tbody>\n",
       "    <tr>\n",
       "      <th>0</th>\n",
       "      <td>10</td>\n",
       "      <td>Mark</td>\n",
       "      <td>Zuckerberg</td>\n",
       "      <td>5.00</td>\n",
       "      <td>NaN</td>\n",
       "      <td>2 415.00</td>\n",
       "      <td>Harvard University</td>\n",
       "      <td>NaT</td>\n",
       "    </tr>\n",
       "    <tr>\n",
       "      <th>1</th>\n",
       "      <td>100</td>\n",
       "      <td>Peter</td>\n",
       "      <td>Lester</td>\n",
       "      <td>27.00</td>\n",
       "      <td>NaN</td>\n",
       "      <td>NaN</td>\n",
       "      <td>NaN</td>\n",
       "      <td>NaT</td>\n",
       "    </tr>\n",
       "    <tr>\n",
       "      <th>2</th>\n",
       "      <td>1000</td>\n",
       "      <td>Dr. Steven</td>\n",
       "      <td>E. Saunders</td>\n",
       "      <td>292.00</td>\n",
       "      <td>NaN</td>\n",
       "      <td>NaN</td>\n",
       "      <td>NaN</td>\n",
       "      <td>NaT</td>\n",
       "    </tr>\n",
       "    <tr>\n",
       "      <th>3</th>\n",
       "      <td>10000</td>\n",
       "      <td>Neil</td>\n",
       "      <td>Capel</td>\n",
       "      <td>2 526.00</td>\n",
       "      <td>NaN</td>\n",
       "      <td>NaN</td>\n",
       "      <td>NaN</td>\n",
       "      <td>NaT</td>\n",
       "    </tr>\n",
       "    <tr>\n",
       "      <th>4</th>\n",
       "      <td>100000</td>\n",
       "      <td>Sue</td>\n",
       "      <td>Pilsch</td>\n",
       "      <td>NaN</td>\n",
       "      <td>NaN</td>\n",
       "      <td>NaN</td>\n",
       "      <td>NaN</td>\n",
       "      <td>NaT</td>\n",
       "    </tr>\n",
       "  </tbody>\n",
       "</table>\n",
       "</div>"
      ],
      "text/plain": [
       "   employee_id  first_name    last_name  company_id network_username  \\\n",
       "0           10        Mark   Zuckerberg        5.00              NaN   \n",
       "1          100       Peter       Lester       27.00              NaN   \n",
       "2         1000  Dr. Steven  E. Saunders      292.00              NaN   \n",
       "3        10000        Neil        Capel    2 526.00              NaN   \n",
       "4       100000         Sue       Pilsch         NaN              NaN   \n",
       "\n",
       "   entry_id        instituition graduated_at  \n",
       "0  2 415.00  Harvard University          NaT  \n",
       "1       NaN                 NaN          NaT  \n",
       "2       NaN                 NaN          NaT  \n",
       "3       NaN                 NaN          NaT  \n",
       "4       NaN                 NaN          NaT  "
      ]
     },
     "execution_count": 32,
     "metadata": {},
     "output_type": "execute_result"
    }
   ],
   "source": [
    "ppl_ed.head()"
   ]
  },
  {
   "cell_type": "markdown",
   "metadata": {
    "tags": []
   },
   "source": [
    "Взможно, таблица `degrees.csv` содержит записи об образовании для сотрудников, у которых нет информации в объединенном датафрейме. Для полноты данных, присоденим датафрейм `deg` к `ppl_ed`."
   ]
  },
  {
   "cell_type": "code",
   "execution_count": 33,
   "metadata": {
    "tags": []
   },
   "outputs": [],
   "source": [
    "ppl_ed_deg = pd.merge(ppl_ed, deg, how='left', left_on='employee_id', right_on='object_id')\n",
    "\n",
    "# Удаляем дублирующийся столбец с номером сотрудника\n",
    "ppl_ed_deg.drop('object_id', axis=1, inplace=True)"
   ]
  },
  {
   "cell_type": "markdown",
   "metadata": {},
   "source": [
    "Удалим дублирующиеся записи о сотрудниках в рамках одной компании."
   ]
  },
  {
   "cell_type": "code",
   "execution_count": 34,
   "metadata": {
    "tags": []
   },
   "outputs": [],
   "source": [
    "ppl_ed_deg.drop_duplicates(subset =['employee_id', 'company_id'], inplace=True)"
   ]
  },
  {
   "cell_type": "markdown",
   "metadata": {},
   "source": [
    "Выведем информацию о датафрейме `ppl_ed_deg`."
   ]
  },
  {
   "cell_type": "code",
   "execution_count": 35,
   "metadata": {
    "tags": []
   },
   "outputs": [
    {
     "name": "stdout",
     "output_type": "stream",
     "text": [
      "<class 'pandas.core.frame.DataFrame'>\n",
      "Int64Index: 226709 entries, 0 to 370835\n",
      "Data columns (total 11 columns):\n",
      " #   Column            Non-Null Count   Dtype         \n",
      "---  ------            --------------   -----         \n",
      " 0   employee_id       226709 non-null  int64         \n",
      " 1   first_name        226704 non-null  object        \n",
      " 2   last_name         226708 non-null  object        \n",
      " 3   company_id        34615 non-null   float64       \n",
      " 4   network_username  38867 non-null   object        \n",
      " 5   entry_id          68071 non-null   float64       \n",
      " 6   instituition      68031 non-null   object        \n",
      " 7   graduated_at      36387 non-null   datetime64[ns]\n",
      " 8   id                68071 non-null   float64       \n",
      " 9   degree_type       61401 non-null   object        \n",
      " 10  subject           50808 non-null   object        \n",
      "dtypes: datetime64[ns](1), float64(3), int64(1), object(6)\n",
      "memory usage: 20.8+ MB\n"
     ]
    }
   ],
   "source": [
    "ppl_ed_deg.info()"
   ]
  },
  {
   "cell_type": "markdown",
   "metadata": {
    "tags": []
   },
   "source": [
    "Выведем топ-10 компаний по количеству сотрудников путем создания нового датафрейма и сортировки значений в нем."
   ]
  },
  {
   "cell_type": "code",
   "execution_count": 36,
   "metadata": {
    "tags": []
   },
   "outputs": [
    {
     "data": {
      "text/html": [
       "<div>\n",
       "<style scoped>\n",
       "    .dataframe tbody tr th:only-of-type {\n",
       "        vertical-align: middle;\n",
       "    }\n",
       "\n",
       "    .dataframe tbody tr th {\n",
       "        vertical-align: top;\n",
       "    }\n",
       "\n",
       "    .dataframe thead th {\n",
       "        text-align: right;\n",
       "    }\n",
       "</style>\n",
       "<table border=\"1\" class=\"dataframe\">\n",
       "  <thead>\n",
       "    <tr style=\"text-align: right;\">\n",
       "      <th></th>\n",
       "      <th>employee_count</th>\n",
       "    </tr>\n",
       "    <tr>\n",
       "      <th>company_id</th>\n",
       "      <th></th>\n",
       "    </tr>\n",
       "  </thead>\n",
       "  <tbody>\n",
       "    <tr>\n",
       "      <th>59.00</th>\n",
       "      <td>244</td>\n",
       "    </tr>\n",
       "    <tr>\n",
       "      <th>29.00</th>\n",
       "      <td>150</td>\n",
       "    </tr>\n",
       "    <tr>\n",
       "      <th>1 242.00</th>\n",
       "      <td>138</td>\n",
       "    </tr>\n",
       "    <tr>\n",
       "      <th>231 067.00</th>\n",
       "      <td>72</td>\n",
       "    </tr>\n",
       "    <tr>\n",
       "      <th>499.00</th>\n",
       "      <td>63</td>\n",
       "    </tr>\n",
       "    <tr>\n",
       "      <th>5.00</th>\n",
       "      <td>61</td>\n",
       "    </tr>\n",
       "    <tr>\n",
       "      <th>494.00</th>\n",
       "      <td>56</td>\n",
       "    </tr>\n",
       "    <tr>\n",
       "      <th>4 175.00</th>\n",
       "      <td>56</td>\n",
       "    </tr>\n",
       "    <tr>\n",
       "      <th>12.00</th>\n",
       "      <td>51</td>\n",
       "    </tr>\n",
       "    <tr>\n",
       "      <th>317.00</th>\n",
       "      <td>48</td>\n",
       "    </tr>\n",
       "  </tbody>\n",
       "</table>\n",
       "</div>"
      ],
      "text/plain": [
       "            employee_count\n",
       "company_id                \n",
       "59.00                  244\n",
       "29.00                  150\n",
       "1 242.00               138\n",
       "231 067.00              72\n",
       "499.00                  63\n",
       "5.00                    61\n",
       "494.00                  56\n",
       "4 175.00                56\n",
       "12.00                   51\n",
       "317.00                  48"
      ]
     },
     "execution_count": 36,
     "metadata": {},
     "output_type": "execute_result"
    }
   ],
   "source": [
    "employee_count = ppl_ed_deg.groupby('company_id')[['employee_id']].count()\n",
    "employee_count.columns = ['employee_count']\n",
    "employee_count.sort_values(by = 'employee_count', ascending = False).head(10)"
   ]
  },
  {
   "cell_type": "markdown",
   "metadata": {
    "tags": []
   },
   "source": [
    "Ознакомимся с распределением данных в датафрейме `employee_count` и визуализируем его."
   ]
  },
  {
   "cell_type": "code",
   "execution_count": 37,
   "metadata": {
    "tags": []
   },
   "outputs": [
    {
     "data": {
      "text/html": [
       "<div>\n",
       "<style scoped>\n",
       "    .dataframe tbody tr th:only-of-type {\n",
       "        vertical-align: middle;\n",
       "    }\n",
       "\n",
       "    .dataframe tbody tr th {\n",
       "        vertical-align: top;\n",
       "    }\n",
       "\n",
       "    .dataframe thead th {\n",
       "        text-align: right;\n",
       "    }\n",
       "</style>\n",
       "<table border=\"1\" class=\"dataframe\">\n",
       "  <thead>\n",
       "    <tr style=\"text-align: right;\">\n",
       "      <th></th>\n",
       "      <th>employee_count</th>\n",
       "    </tr>\n",
       "  </thead>\n",
       "  <tbody>\n",
       "    <tr>\n",
       "      <th>count</th>\n",
       "      <td>22 922.00</td>\n",
       "    </tr>\n",
       "    <tr>\n",
       "      <th>mean</th>\n",
       "      <td>1.51</td>\n",
       "    </tr>\n",
       "    <tr>\n",
       "      <th>std</th>\n",
       "      <td>2.76</td>\n",
       "    </tr>\n",
       "    <tr>\n",
       "      <th>min</th>\n",
       "      <td>1.00</td>\n",
       "    </tr>\n",
       "    <tr>\n",
       "      <th>25%</th>\n",
       "      <td>1.00</td>\n",
       "    </tr>\n",
       "    <tr>\n",
       "      <th>50%</th>\n",
       "      <td>1.00</td>\n",
       "    </tr>\n",
       "    <tr>\n",
       "      <th>75%</th>\n",
       "      <td>1.00</td>\n",
       "    </tr>\n",
       "    <tr>\n",
       "      <th>max</th>\n",
       "      <td>244.00</td>\n",
       "    </tr>\n",
       "  </tbody>\n",
       "</table>\n",
       "</div>"
      ],
      "text/plain": [
       "       employee_count\n",
       "count       22 922.00\n",
       "mean             1.51\n",
       "std              2.76\n",
       "min              1.00\n",
       "25%              1.00\n",
       "50%              1.00\n",
       "75%              1.00\n",
       "max            244.00"
      ]
     },
     "execution_count": 37,
     "metadata": {},
     "output_type": "execute_result"
    }
   ],
   "source": [
    "employee_count.describe()"
   ]
  },
  {
   "cell_type": "code",
   "execution_count": 38,
   "metadata": {
    "tags": []
   },
   "outputs": [
    {
     "data": {
      "text/plain": [
       "<Axes: >"
      ]
     },
     "execution_count": 38,
     "metadata": {},
     "output_type": "execute_result"
    },
    {
     "data": {
      "image/png": "[encoded data removed]",
      "text/plain": [
       "<Figure size 640x480 with 1 Axes>"
      ]
     },
     "metadata": {},
     "output_type": "display_data"
    }
   ],
   "source": [
    "sns.boxplot(data=employee_count)"
   ]
  },
  {
   "cell_type": "markdown",
   "metadata": {
    "tags": []
   },
   "source": [
    "Любопытно, что по исследуемым данным в 75% компаний числится 1 сотрудник.\n",
    "\n",
    "Присвоим компаниям категории в зависимости от количества сотрудников."
   ]
  },
  {
   "cell_type": "code",
   "execution_count": 39,
   "metadata": {
    "tags": []
   },
   "outputs": [],
   "source": [
    "bins = [0, 1, 2, 3, 5, 10, 25, float('inf')]\n",
    "labels = ['1', '2', '3', '4-5', '6-10', '11-25', '25+']\n",
    "employee_count['category'] = pd.cut(employee_count['employee_count'], bins=bins, labels=labels, right=True)"
   ]
  },
  {
   "cell_type": "markdown",
   "metadata": {},
   "source": [
    "Проверим распределение по категориям."
   ]
  },
  {
   "cell_type": "code",
   "execution_count": 40,
   "metadata": {
    "tags": []
   },
   "outputs": [
    {
     "data": {
      "text/plain": [
       "1        18117\n",
       "2         2709\n",
       "3          921\n",
       "4-5        687\n",
       "6-10       368\n",
       "11-25      101\n",
       "25+         19\n",
       "Name: category, dtype: int64"
      ]
     },
     "execution_count": 40,
     "metadata": {},
     "output_type": "execute_result"
    }
   ],
   "source": [
    "employee_count['category'].value_counts()"
   ]
  },
  {
   "cell_type": "markdown",
   "metadata": {},
   "source": [
    "Для решения поставленной задачи из таблицы `ppl_ed_deg` нужны только те сотрудники, у которых есть информация об их компании. Присоединим к ней таблицу `employee_count` для добавления категории компании. Чтобы отсечь лишние данные, используем внутренний тип рисоединения."
   ]
  },
  {
   "cell_type": "code",
   "execution_count": 41,
   "metadata": {
    "tags": []
   },
   "outputs": [],
   "source": [
    "ppl_ed_deg = ppl_ed_deg.merge(employee_count.reset_index(), on='company_id', how='inner')"
   ]
  },
  {
   "cell_type": "markdown",
   "metadata": {
    "tags": []
   },
   "source": [
    "Найдем среднюю долю сотрудников без информации об образовании в каждой из категорий."
   ]
  },
  {
   "cell_type": "code",
   "execution_count": 42,
   "metadata": {
    "tags": []
   },
   "outputs": [
    {
     "data": {
      "text/html": [
       "<div>\n",
       "<style scoped>\n",
       "    .dataframe tbody tr th:only-of-type {\n",
       "        vertical-align: middle;\n",
       "    }\n",
       "\n",
       "    .dataframe tbody tr th {\n",
       "        vertical-align: top;\n",
       "    }\n",
       "\n",
       "    .dataframe thead th {\n",
       "        text-align: right;\n",
       "    }\n",
       "</style>\n",
       "<table border=\"1\" class=\"dataframe\">\n",
       "  <thead>\n",
       "    <tr style=\"text-align: right;\">\n",
       "      <th></th>\n",
       "      <th>average_number_of_employees</th>\n",
       "      <th>avg_empl_num_without_ed_data</th>\n",
       "      <th>share</th>\n",
       "    </tr>\n",
       "    <tr>\n",
       "      <th>category</th>\n",
       "      <th></th>\n",
       "      <th></th>\n",
       "      <th></th>\n",
       "    </tr>\n",
       "  </thead>\n",
       "  <tbody>\n",
       "    <tr>\n",
       "      <th>1</th>\n",
       "      <td>118 776.12</td>\n",
       "      <td>114 302.46</td>\n",
       "      <td>0.96</td>\n",
       "    </tr>\n",
       "    <tr>\n",
       "      <th>2</th>\n",
       "      <td>94 441.45</td>\n",
       "      <td>85 005.98</td>\n",
       "      <td>0.90</td>\n",
       "    </tr>\n",
       "    <tr>\n",
       "      <th>3</th>\n",
       "      <td>90 932.79</td>\n",
       "      <td>81 319.02</td>\n",
       "      <td>0.89</td>\n",
       "    </tr>\n",
       "    <tr>\n",
       "      <th>4-5</th>\n",
       "      <td>74 881.80</td>\n",
       "      <td>65 987.31</td>\n",
       "      <td>0.88</td>\n",
       "    </tr>\n",
       "    <tr>\n",
       "      <th>6-10</th>\n",
       "      <td>65 309.14</td>\n",
       "      <td>51 793.22</td>\n",
       "      <td>0.79</td>\n",
       "    </tr>\n",
       "    <tr>\n",
       "      <th>11-25</th>\n",
       "      <td>91 531.24</td>\n",
       "      <td>68 381.81</td>\n",
       "      <td>0.75</td>\n",
       "    </tr>\n",
       "    <tr>\n",
       "      <th>25+</th>\n",
       "      <td>106 258.58</td>\n",
       "      <td>104 095.13</td>\n",
       "      <td>0.98</td>\n",
       "    </tr>\n",
       "  </tbody>\n",
       "</table>\n",
       "</div>"
      ],
      "text/plain": [
       "          average_number_of_employees  avg_empl_num_without_ed_data  share\n",
       "category                                                                  \n",
       "1                          118 776.12                    114 302.46   0.96\n",
       "2                           94 441.45                     85 005.98   0.90\n",
       "3                           90 932.79                     81 319.02   0.89\n",
       "4-5                         74 881.80                     65 987.31   0.88\n",
       "6-10                        65 309.14                     51 793.22   0.79\n",
       "11-25                       91 531.24                     68 381.81   0.75\n",
       "25+                        106 258.58                    104 095.13   0.98"
      ]
     },
     "execution_count": 42,
     "metadata": {},
     "output_type": "execute_result"
    }
   ],
   "source": [
    "ed_info_stat = pd.DataFrame({\n",
    "    # Среднее кол-во сотрудников\n",
    "    'average_number_of_employees': ppl_ed_deg.groupby('category')['employee_id'].mean(),\n",
    "    # Среднее кол-во сотрудников без данных об образовании\n",
    "    'avg_empl_num_without_ed_data': ppl_ed_deg[(ppl_ed_deg['entry_id'].isna()) |(ppl_ed_deg['id'].isna())].groupby('category')['employee_id'].mean(),\n",
    "    # Средняя доля сотрудников без данных об образовании\n",
    "    'share': (ppl_ed_deg[(ppl_ed_deg['entry_id'].isna()) |(ppl_ed_deg['id'].isna())].groupby('category')['employee_id'].mean()) /  (ppl_ed_deg.groupby('category')['employee_id'].mean())\n",
    "    })\n",
    "ed_info_stat"
   ]
  },
  {
   "cell_type": "code",
   "execution_count": 43,
   "metadata": {
    "tags": []
   },
   "outputs": [
    {
     "data": {
      "text/plain": [
       "<Axes: xlabel='category', ylabel='share'>"
      ]
     },
     "execution_count": 43,
     "metadata": {},
     "output_type": "execute_result"
    },
    {
     "data": {
      "image/png": "[encoded data removed]",
      "text/plain": [
       "<Figure size 640x480 with 1 Axes>"
      ]
     },
     "metadata": {},
     "output_type": "display_data"
    }
   ],
   "source": [
    "sns.barplot(data=ed_info_stat['share'])"
   ]
  },
  {
   "cell_type": "markdown",
   "metadata": {},
   "source": [
    "<div class=\"alert alert-block alert-success\">✔️\n",
    "    \n",
    "\n",
    "__Комментарий от ревьюера №1__\n",
    "    \n",
    "Отлично, что используешь `pd.cut()` для разделения на группы. Это довольно удобный вариант разделения👍👍👍\n",
    "</div>"
   ]
  },
  {
   "cell_type": "markdown",
   "metadata": {},
   "source": [
    "<div class=\"alert alert-info\"> <b> Подскажи, правильо ли объединил, рассчитал показатели и выбрал границы категорий? Было много манипуляций с данными, хочу удостоверться в верности хода мысли</b></div>"
   ]
  },
  {
   "cell_type": "markdown",
   "metadata": {
    "id": "Lz7qjM32xglW"
   },
   "source": [
    "### 2.3. Объединять или не объединять — вот в чём вопрос\n",
    "\n",
    "Некоторые названия столбцов встречаются в датасетах чаще других. В результате предварительной проверки датасетов было выяснено, что столбец `company_id` подходит для объединения данных.\n",
    "\n",
    "- Установите, подходит ли для объединения данных столбец `network_username`, который встречается в нескольких датасетах. Нам необходимо понимать, дублируется ли для разных датасетов информация в столбцах с таким названием, и если да — то насколько часто.\n",
    "- Оцените, можно ли использовать столбцы с именем `network_username` для объединения данных."
   ]
  },
  {
   "cell_type": "markdown",
   "metadata": {
    "id": "zyI3rt0rxg1O",
    "tags": []
   },
   "source": [
    "Поле `network_username` в таблице `company_and_rounds` — это никнеймы компаний в социальных сетях. В таблице `people` - никнеймы сотрудников. В таблице `fund` — никнеймы фондов. То есть столбцы с одинаковыми названиями содержат разные значения. Проверим это далее."
   ]
  },
  {
   "cell_type": "code",
   "execution_count": 44,
   "metadata": {
    "id": "RxOS5rwmFcNW",
    "tags": []
   },
   "outputs": [
    {
     "name": "stdout",
     "output_type": "stream",
     "text": [
      "Доля совпадений: 0.00\n"
     ]
    }
   ],
   "source": [
    "# Создаем списки уникальных значений поля network_username в датафреймах com и ppl\n",
    "list1 = ppl['network_username'].str.lower().unique()\n",
    "list2 = com['network_username'].str.lower().unique()\n",
    "\n",
    "# Рассчитываем долю точных совпадений в списках\n",
    "matches = sum(x == y for x, y in zip(list1, list2))\n",
    "match_ratio = matches / len(list2)\n",
    "print(f\"Доля совпадений: {match_ratio:.2f}\")"
   ]
  },
  {
   "cell_type": "markdown",
   "metadata": {
    "tags": []
   },
   "source": [
    "Таким образом столбцы не подходят для объединения таблиц."
   ]
  },
  {
   "cell_type": "markdown",
   "metadata": {},
   "source": [
    "<div class=\"alert alert-block alert-warning\">📝\n",
    "    \n",
    "\n",
    "__Комментарий от ревьюера №1__\n",
    "\n",
    "\n",
    "\n",
    "\n",
    "Совет 🤔:\n",
    "\n",
    "\n",
    "    \n",
    "- Тут можно было начать с учёта контекста.  network_username в таблице people относятся к сотрудникам, а в таблице company_rounds к компаниям. Возможно случаи когда компании названы в честь человека, и тогда можно поймать пересечения.  Но в целом это не выглядит перспективно    \n",
    "     \n",
    "- Можно добавить красивую визуализацию,  для демонстрации    пересечения данных. Это можно сделать с помощью диаграммы Венна   \n",
    "    \n",
    "    \n",
    "    !pip install matplotlib-venn -q\n",
    "    from matplotlib_venn import venn2, venn3 #(venn3 - Это если сразу три кругляшка построить)\n",
    "    import matplotlib.pyplot as plt\n",
    "\n",
    "    # Строим диаграмму Венна\n",
    "    venn2([set(['user1', 'user2', 'user3', 'user4', 'user5']), set(['user3', 'user4', 'user6', 'user7'])], set_labels=('Company Users', 'Fund Users'))\n",
    "\n",
    "    # Отображаем график\n",
    "    plt.title(\"Пересечение пользователей Company Users и Fund Users\")\n",
    "    plt.show()    \n",
    "    \n",
    "    \n",
    "- network_username еще встречается в fund_df \n",
    "     "
   ]
  },
  {
   "cell_type": "markdown",
   "metadata": {},
   "source": [
    "<div class=\"alert alert-info\"> <b> При построении диаграммы Венна возникает ошибка из-за разной мощности множеств. Как быть?</b></div>"
   ]
  },
  {
   "cell_type": "code",
   "execution_count": 45,
   "metadata": {
    "tags": []
   },
   "outputs": [],
   "source": [
    "#venn2([list1, list2], set_labels=('Company Users', 'Fund Users'))"
   ]
  },
  {
   "cell_type": "markdown",
   "metadata": {
    "id": "EHcODomVrJg1"
   },
   "source": [
    "\n",
    "### 2.4. Проблемный датасет и причина возникновения пропусков\n",
    "\n",
    "Во время собственного анализа данных у заказчика больше всего вопросов возникло к датасету `company_and_rounds.csv`. В нём много пропусков как раз в информации о раундах, которая заказчику важна.\n",
    "\n",
    "- Любым удобным способом приведите данные в вид, который позволит в дальнейшем проводить анализ в разрезе отдельных компаний. Обратите внимание на структуру датасета, порядок и названия столбцов, проанализируйте значения.\n",
    "\n",
    "По гипотезе заказчика данные по компаниям из этой таблицы раньше хранились иначе, более удобным для исследования образом.\n",
    "\n",
    "- Максимальным образом сохраняя данные, сохранив их связность и исключив возможные возникающие при этом ошибки, подготовьте данные так, чтобы удобно было отобрать компании по параметрам и рассчитать показатели из расчёта на одну компанию без промежуточных агрегаций."
   ]
  },
  {
   "cell_type": "markdown",
   "metadata": {},
   "source": [
    "Чтобы провести анализ данных в разрезе компаний, необходимо трансформировать таблицу `company_and_rounds` в две связанные таблицы: одну — с информацией о компаниях, вторую — с информацией о раундах финансирования."
   ]
  },
  {
   "cell_type": "markdown",
   "metadata": {},
   "source": [
    "1. Таблица `companies` — информация о компаниях:\n",
    "\n",
    "- company_id\n",
    "- name\n",
    "- category_code\n",
    "- status\n",
    "- founded_at\n",
    "- closed_at\n",
    "- domain\n",
    "- network_username\n",
    "- country_code\n",
    "- investment_rounds\n",
    "- funding_rounds\n",
    "- funding_total\n",
    "- milestones\n",
    "\n",
    "2. Таблица `funding_rounds` — информация о раундах финансирования:\n",
    "\n",
    "- funding_round_id\n",
    "- company_id (по колонке company id)\n",
    "- funded_at\n",
    "- funding_round_type\n",
    "- raised_amount\n",
    "- pre_money_valuation\n",
    "- participants\n",
    "- is_first_round\n",
    "- is_last_round"
   ]
  },
  {
   "cell_type": "code",
   "execution_count": 46,
   "metadata": {
    "tags": []
   },
   "outputs": [],
   "source": [
    "companies = com[[\n",
    "    'company_id', 'name', 'category_code', 'status',\n",
    "    'founded_at', 'closed_at', 'domain', 'network_username',\n",
    "    'country_code', 'investment_rounds', 'funding_rounds',\n",
    "    'funding_total', 'milestones'\n",
    "]].drop_duplicates(subset='company_id')\n",
    "\n",
    "funding_rounds = com[[\n",
    "    'funding_round_id', 'company_id', 'funded_at', 'funding_round_type',\n",
    "    'raised_amount', 'pre_money_valuation', 'participants',\n",
    "    'is_first_round', 'is_last_round'\n",
    "]].dropna(subset=['funding_round_id', 'company_id'])\n",
    "\n",
    "companies.reset_index(drop=True, inplace=True)\n",
    "funding_rounds.reset_index(drop=True, inplace=True)"
   ]
  },
  {
   "cell_type": "code",
   "execution_count": 47,
   "metadata": {
    "tags": []
   },
   "outputs": [
    {
     "name": "stdout",
     "output_type": "stream",
     "text": [
      "<class 'pandas.core.frame.DataFrame'>\n",
      "RangeIndex: 196785 entries, 0 to 196784\n",
      "Data columns (total 14 columns):\n",
      " #   Column             Non-Null Count   Dtype         \n",
      "---  ------             --------------   -----         \n",
      " 0   company_id         196553 non-null  float64       \n",
      " 1   company_id         31939 non-null   float64       \n",
      " 2   name               196553 non-null  object        \n",
      " 3   category_code      123186 non-null  object        \n",
      " 4   status             196553 non-null  object        \n",
      " 5   founded_at         91227 non-null   datetime64[ns]\n",
      " 6   closed_at          2620 non-null    datetime64[ns]\n",
      " 7   domain             126545 non-null  object        \n",
      " 8   network_username   80591 non-null   object        \n",
      " 9   country_code       87990 non-null   object        \n",
      " 10  investment_rounds  196553 non-null  float64       \n",
      " 11  funding_rounds     196553 non-null  float64       \n",
      " 12  funding_total      196553 non-null  float64       \n",
      " 13  milestones         196553 non-null  float64       \n",
      "dtypes: datetime64[ns](2), float64(6), object(6)\n",
      "memory usage: 21.0+ MB\n"
     ]
    }
   ],
   "source": [
    "companies.info()\n"
   ]
  },
  {
   "cell_type": "markdown",
   "metadata": {
    "tags": []
   },
   "source": [
    "заполнеие пропусков и удаление дублирующегося столбца"
   ]
  },
  {
   "cell_type": "code",
   "execution_count": 48,
   "metadata": {
    "tags": []
   },
   "outputs": [],
   "source": [
    "companies.iloc[:,0] = companies.iloc[:,0].fillna(companies.iloc[:,1])"
   ]
  },
  {
   "cell_type": "code",
   "execution_count": 49,
   "metadata": {
    "tags": []
   },
   "outputs": [],
   "source": [
    "# Оставить только первые вхождения столбцов с одинаковыми именами\n",
    "companies = companies.loc[:, ~companies.columns.duplicated()]"
   ]
  },
  {
   "cell_type": "code",
   "execution_count": 50,
   "metadata": {
    "tags": []
   },
   "outputs": [
    {
     "name": "stdout",
     "output_type": "stream",
     "text": [
      "<class 'pandas.core.frame.DataFrame'>\n",
      "RangeIndex: 196785 entries, 0 to 196784\n",
      "Data columns (total 13 columns):\n",
      " #   Column             Non-Null Count   Dtype         \n",
      "---  ------             --------------   -----         \n",
      " 0   company_id         196785 non-null  float64       \n",
      " 1   name               196553 non-null  object        \n",
      " 2   category_code      123186 non-null  object        \n",
      " 3   status             196553 non-null  object        \n",
      " 4   founded_at         91227 non-null   datetime64[ns]\n",
      " 5   closed_at          2620 non-null    datetime64[ns]\n",
      " 6   domain             126545 non-null  object        \n",
      " 7   network_username   80591 non-null   object        \n",
      " 8   country_code       87990 non-null   object        \n",
      " 9   investment_rounds  196553 non-null  float64       \n",
      " 10  funding_rounds     196553 non-null  float64       \n",
      " 11  funding_total      196553 non-null  float64       \n",
      " 12  milestones         196553 non-null  float64       \n",
      "dtypes: datetime64[ns](2), float64(5), object(6)\n",
      "memory usage: 19.5+ MB\n"
     ]
    }
   ],
   "source": [
    "companies.info()"
   ]
  },
  {
   "cell_type": "code",
   "execution_count": 51,
   "metadata": {
    "tags": []
   },
   "outputs": [
    {
     "name": "stdout",
     "output_type": "stream",
     "text": [
      "<class 'pandas.core.frame.DataFrame'>\n",
      "RangeIndex: 52626 entries, 0 to 52625\n",
      "Data columns (total 10 columns):\n",
      " #   Column               Non-Null Count  Dtype         \n",
      "---  ------               --------------  -----         \n",
      " 0   funding_round_id     52626 non-null  float64       \n",
      " 1   company_id           52626 non-null  float64       \n",
      " 2   company_id           52626 non-null  float64       \n",
      " 3   funded_at            52382 non-null  datetime64[ns]\n",
      " 4   funding_round_type   52626 non-null  object        \n",
      " 5   raised_amount        52626 non-null  float64       \n",
      " 6   pre_money_valuation  52626 non-null  float64       \n",
      " 7   participants         52626 non-null  float64       \n",
      " 8   is_first_round       52626 non-null  float64       \n",
      " 9   is_last_round        52626 non-null  float64       \n",
      "dtypes: datetime64[ns](1), float64(8), object(1)\n",
      "memory usage: 4.0+ MB\n"
     ]
    }
   ],
   "source": [
    "funding_rounds.info()"
   ]
  },
  {
   "cell_type": "code",
   "execution_count": 52,
   "metadata": {
    "tags": []
   },
   "outputs": [],
   "source": [
    "funding_rounds = funding_rounds.loc[:, ~funding_rounds.columns.duplicated()]"
   ]
  },
  {
   "cell_type": "code",
   "execution_count": 53,
   "metadata": {
    "tags": []
   },
   "outputs": [
    {
     "name": "stdout",
     "output_type": "stream",
     "text": [
      "<class 'pandas.core.frame.DataFrame'>\n",
      "RangeIndex: 52626 entries, 0 to 52625\n",
      "Data columns (total 9 columns):\n",
      " #   Column               Non-Null Count  Dtype         \n",
      "---  ------               --------------  -----         \n",
      " 0   funding_round_id     52626 non-null  float64       \n",
      " 1   company_id           52626 non-null  float64       \n",
      " 2   funded_at            52382 non-null  datetime64[ns]\n",
      " 3   funding_round_type   52626 non-null  object        \n",
      " 4   raised_amount        52626 non-null  float64       \n",
      " 5   pre_money_valuation  52626 non-null  float64       \n",
      " 6   participants         52626 non-null  float64       \n",
      " 7   is_first_round       52626 non-null  float64       \n",
      " 8   is_last_round        52626 non-null  float64       \n",
      "dtypes: datetime64[ns](1), float64(7), object(1)\n",
      "memory usage: 3.6+ MB\n"
     ]
    }
   ],
   "source": [
    "funding_rounds.info()"
   ]
  },
  {
   "cell_type": "markdown",
   "metadata": {},
   "source": [
    "<div class=\"alert alert-block alert-success\">✔️\n",
    "    \n",
    "\n",
    "__Комментарий от ревьюера №1__\n",
    "\n",
    "\n",
    "- верное решение о разделении на две таблицы\n",
    "    \n",
    "- дубликат убраны\n",
    "    \n"
   ]
  },
  {
   "cell_type": "markdown",
   "metadata": {},
   "source": [
    "<div class=\"alert alert-block alert-success\">✔️\n",
    "    \n",
    "\n",
    "__Комментарий от ревьюера №1__\n",
    "\n",
    "Предлагаю приступать к шагу 3"
   ]
  },
  {
   "cell_type": "markdown",
   "metadata": {
    "id": "bmVYhphNrJg2",
    "tags": []
   },
   "source": [
    "\n",
    "## Шаг 3. Исследовательский анализ объединённых таблиц\n",
    "\n",
    "> Приступите к шагу 3 после проверки ревьюера.\n",
    "\n",
    "<big>Студентам нужно чётко сказать - проверять дальше или не проверять.</big>"
   ]
  },
  {
   "cell_type": "markdown",
   "metadata": {
    "id": "3Di6tCT3rJg2"
   },
   "source": [
    "\n",
    "### 3.1. Объединение данных\n",
    "\n",
    "Объедините данные для ответа на вопросы заказчика, которые касаются интересующих его компаний. Заказчика прежде всего интересуют те компании, которые меняли или готовы менять владельцев. Получение инвестиций или финансирования, по мнению заказчика, означает интерес к покупке или продаже компании.\n",
    "\n",
    "В качестве основы для объединённой таблицы возьмите данные из обработанного датасета `company_and_rounds.csv` — выберите только те компании, у которых указаны значения `funding_rounds` или `investment_rounds` больше нуля, или те, у которых в колонке `status` указано `acquired`. В результирующей таблице должно получиться порядка 40 тысяч компаний.\n",
    "\n",
    "Проверьте полноту и корректность получившейся таблицы. Далее работайте только с этими данными."
   ]
  },
  {
   "cell_type": "code",
   "execution_count": 54,
   "metadata": {
    "id": "kuV1b5MXFg3_",
    "tags": []
   },
   "outputs": [
    {
     "name": "stdout",
     "output_type": "stream",
     "text": [
      "<class 'pandas.core.frame.DataFrame'>\n",
      "Int64Index: 40747 entries, 0 to 196552\n",
      "Data columns (total 13 columns):\n",
      " #   Column             Non-Null Count  Dtype         \n",
      "---  ------             --------------  -----         \n",
      " 0   company_id         40747 non-null  float64       \n",
      " 1   name               40747 non-null  object        \n",
      " 2   category_code      35315 non-null  object        \n",
      " 3   status             40747 non-null  object        \n",
      " 4   founded_at         27807 non-null  datetime64[ns]\n",
      " 5   closed_at          2128 non-null   datetime64[ns]\n",
      " 6   domain             35754 non-null  object        \n",
      " 7   network_username   20850 non-null  object        \n",
      " 8   country_code       34742 non-null  object        \n",
      " 9   investment_rounds  40747 non-null  float64       \n",
      " 10  funding_rounds     40747 non-null  float64       \n",
      " 11  funding_total      40747 non-null  float64       \n",
      " 12  milestones         40747 non-null  float64       \n",
      "dtypes: datetime64[ns](2), float64(5), object(6)\n",
      "memory usage: 4.4+ MB\n"
     ]
    }
   ],
   "source": [
    "filtered_companies = companies[(companies['funding_rounds'] > 0) | (companies['investment_rounds'] > 0) \\\n",
    "                               | (companies['status'] == 'acquired')]\n",
    "filtered_companies.info()"
   ]
  },
  {
   "cell_type": "code",
   "execution_count": 140,
   "metadata": {
    "id": "93v3fEX5FgtP",
    "tags": []
   },
   "outputs": [
    {
     "data": {
      "text/html": [
       "<div>\n",
       "<style scoped>\n",
       "    .dataframe tbody tr th:only-of-type {\n",
       "        vertical-align: middle;\n",
       "    }\n",
       "\n",
       "    .dataframe tbody tr th {\n",
       "        vertical-align: top;\n",
       "    }\n",
       "\n",
       "    .dataframe thead th {\n",
       "        text-align: right;\n",
       "    }\n",
       "</style>\n",
       "<table border=\"1\" class=\"dataframe\">\n",
       "  <thead>\n",
       "    <tr style=\"text-align: right;\">\n",
       "      <th></th>\n",
       "      <th>company_id</th>\n",
       "      <th>name</th>\n",
       "      <th>category_code</th>\n",
       "      <th>status</th>\n",
       "      <th>founded_at</th>\n",
       "      <th>closed_at</th>\n",
       "      <th>domain</th>\n",
       "      <th>network_username</th>\n",
       "      <th>country_code</th>\n",
       "      <th>investment_rounds</th>\n",
       "      <th>funding_rounds</th>\n",
       "      <th>funding_total</th>\n",
       "      <th>milestones</th>\n",
       "    </tr>\n",
       "  </thead>\n",
       "  <tbody>\n",
       "    <tr>\n",
       "      <th>0</th>\n",
       "      <td>1.00</td>\n",
       "      <td>Wetpaint</td>\n",
       "      <td>web</td>\n",
       "      <td>operating</td>\n",
       "      <td>2005-10-17</td>\n",
       "      <td>NaT</td>\n",
       "      <td>wetpaint-inc.com</td>\n",
       "      <td>BachelrWetpaint</td>\n",
       "      <td>USA</td>\n",
       "      <td>0.00</td>\n",
       "      <td>3.00</td>\n",
       "      <td>39 750 000.00</td>\n",
       "      <td>5.00</td>\n",
       "    </tr>\n",
       "    <tr>\n",
       "      <th>1</th>\n",
       "      <td>10.00</td>\n",
       "      <td>Flektor</td>\n",
       "      <td>games_video</td>\n",
       "      <td>acquired</td>\n",
       "      <td>NaT</td>\n",
       "      <td>NaT</td>\n",
       "      <td>flektor.com</td>\n",
       "      <td>NaN</td>\n",
       "      <td>USA</td>\n",
       "      <td>0.00</td>\n",
       "      <td>0.00</td>\n",
       "      <td>0.00</td>\n",
       "      <td>0.00</td>\n",
       "    </tr>\n",
       "    <tr>\n",
       "      <th>2</th>\n",
       "      <td>100.00</td>\n",
       "      <td>There</td>\n",
       "      <td>games_video</td>\n",
       "      <td>acquired</td>\n",
       "      <td>NaT</td>\n",
       "      <td>NaT</td>\n",
       "      <td>there.com</td>\n",
       "      <td>NaN</td>\n",
       "      <td>USA</td>\n",
       "      <td>0.00</td>\n",
       "      <td>0.00</td>\n",
       "      <td>0.00</td>\n",
       "      <td>4.00</td>\n",
       "    </tr>\n",
       "    <tr>\n",
       "      <th>13</th>\n",
       "      <td>1 001.00</td>\n",
       "      <td>FriendFeed</td>\n",
       "      <td>web</td>\n",
       "      <td>acquired</td>\n",
       "      <td>2007-10-01</td>\n",
       "      <td>NaT</td>\n",
       "      <td>friendfeed.com</td>\n",
       "      <td>friendfeed</td>\n",
       "      <td>USA</td>\n",
       "      <td>0.00</td>\n",
       "      <td>1.00</td>\n",
       "      <td>5 000 000.00</td>\n",
       "      <td>3.00</td>\n",
       "    </tr>\n",
       "    <tr>\n",
       "      <th>18</th>\n",
       "      <td>10 014.00</td>\n",
       "      <td>Mobclix</td>\n",
       "      <td>mobile</td>\n",
       "      <td>acquired</td>\n",
       "      <td>2008-03-01</td>\n",
       "      <td>NaT</td>\n",
       "      <td>mobclix.com</td>\n",
       "      <td>mobclix</td>\n",
       "      <td>USA</td>\n",
       "      <td>0.00</td>\n",
       "      <td>1.00</td>\n",
       "      <td>0.00</td>\n",
       "      <td>4.00</td>\n",
       "    </tr>\n",
       "  </tbody>\n",
       "</table>\n",
       "</div>"
      ],
      "text/plain": [
       "    company_id        name category_code     status founded_at closed_at  \\\n",
       "0         1.00    Wetpaint           web  operating 2005-10-17       NaT   \n",
       "1        10.00     Flektor   games_video   acquired        NaT       NaT   \n",
       "2       100.00       There   games_video   acquired        NaT       NaT   \n",
       "13    1 001.00  FriendFeed           web   acquired 2007-10-01       NaT   \n",
       "18   10 014.00     Mobclix        mobile   acquired 2008-03-01       NaT   \n",
       "\n",
       "              domain network_username country_code  investment_rounds  \\\n",
       "0   wetpaint-inc.com  BachelrWetpaint          USA               0.00   \n",
       "1        flektor.com              NaN          USA               0.00   \n",
       "2          there.com              NaN          USA               0.00   \n",
       "13    friendfeed.com       friendfeed          USA               0.00   \n",
       "18       mobclix.com          mobclix          USA               0.00   \n",
       "\n",
       "    funding_rounds  funding_total  milestones  \n",
       "0             3.00  39 750 000.00        5.00  \n",
       "1             0.00           0.00        0.00  \n",
       "2             0.00           0.00        4.00  \n",
       "13            1.00   5 000 000.00        3.00  \n",
       "18            1.00           0.00        4.00  "
      ]
     },
     "execution_count": 140,
     "metadata": {},
     "output_type": "execute_result"
    }
   ],
   "source": [
    "filtered_companies.head()"
   ]
  },
  {
   "cell_type": "markdown",
   "metadata": {
    "id": "DFHINkV3rJg2"
   },
   "source": [
    "\n",
    "### 3.2. Анализ выбросов\n",
    "\n",
    "Заказчика интересует обычный для рассматриваемого периода размер средств, который предоставлялся компаниям.\n",
    "\n",
    "- По предобработанному столбцу `funding_total` графическим способом оцените, какой размер общего финансирования для одной компании будет типичным, а какой — выбивающимся.\n",
    "- В процессе расчёта значений обратите внимание, например, на показатели, возвращаемые методом `.describe()`, — объясните их. Применимы ли к таким данным обычные способы нахождения типичных значений?"
   ]
  },
  {
   "cell_type": "code",
   "execution_count": 55,
   "metadata": {
    "id": "8jm75fKXrJg2",
    "tags": [],
    "vscode": {
     "languageId": "plaintext"
    }
   },
   "outputs": [
    {
     "data": {
      "text/html": [
       "<div>\n",
       "<style scoped>\n",
       "    .dataframe tbody tr th:only-of-type {\n",
       "        vertical-align: middle;\n",
       "    }\n",
       "\n",
       "    .dataframe tbody tr th {\n",
       "        vertical-align: top;\n",
       "    }\n",
       "\n",
       "    .dataframe thead th {\n",
       "        text-align: right;\n",
       "    }\n",
       "</style>\n",
       "<table border=\"1\" class=\"dataframe\">\n",
       "  <thead>\n",
       "    <tr style=\"text-align: right;\">\n",
       "      <th></th>\n",
       "      <th>funding_total</th>\n",
       "    </tr>\n",
       "  </thead>\n",
       "  <tbody>\n",
       "    <tr>\n",
       "      <th>count</th>\n",
       "      <td>40 747.00</td>\n",
       "    </tr>\n",
       "    <tr>\n",
       "      <th>mean</th>\n",
       "      <td>10 135 609.64</td>\n",
       "    </tr>\n",
       "    <tr>\n",
       "      <th>std</th>\n",
       "      <td>56 464 359.98</td>\n",
       "    </tr>\n",
       "    <tr>\n",
       "      <th>min</th>\n",
       "      <td>0.00</td>\n",
       "    </tr>\n",
       "    <tr>\n",
       "      <th>25%</th>\n",
       "      <td>0.00</td>\n",
       "    </tr>\n",
       "    <tr>\n",
       "      <th>50%</th>\n",
       "      <td>600 000.00</td>\n",
       "    </tr>\n",
       "    <tr>\n",
       "      <th>75%</th>\n",
       "      <td>5 650 650.00</td>\n",
       "    </tr>\n",
       "    <tr>\n",
       "      <th>max</th>\n",
       "      <td>5 700 000 000.00</td>\n",
       "    </tr>\n",
       "  </tbody>\n",
       "</table>\n",
       "</div>"
      ],
      "text/plain": [
       "         funding_total\n",
       "count        40 747.00\n",
       "mean     10 135 609.64\n",
       "std      56 464 359.98\n",
       "min               0.00\n",
       "25%               0.00\n",
       "50%         600 000.00\n",
       "75%       5 650 650.00\n",
       "max   5 700 000 000.00"
      ]
     },
     "execution_count": 55,
     "metadata": {},
     "output_type": "execute_result"
    }
   ],
   "source": [
    "filtered_companies[['funding_total']].describe()"
   ]
  },
  {
   "cell_type": "code",
   "execution_count": 169,
   "metadata": {
    "id": "S1jrfr7rFhcw",
    "tags": []
   },
   "outputs": [
    {
     "data": {
      "text/plain": [
       "<Axes: xlabel='funding_total', ylabel='Count'>"
      ]
     },
     "execution_count": 169,
     "metadata": {},
     "output_type": "execute_result"
    },
    {
     "data": {
      "image/png": "[encoded data removed]",
      "text/plain": [
       "<Figure size 800x400 with 1 Axes>"
      ]
     },
     "metadata": {},
     "output_type": "display_data"
    }
   ],
   "source": [
    "plt.figure(figsize=(8,4))\n",
    "sns.histplot(data = filtered_companies, x='funding_total', bins =25)"
   ]
  },
  {
   "cell_type": "code",
   "execution_count": 159,
   "metadata": {
    "tags": []
   },
   "outputs": [
    {
     "data": {
      "text/plain": [
       "<Axes: xlabel='funding_total'>"
      ]
     },
     "execution_count": 159,
     "metadata": {},
     "output_type": "execute_result"
    },
    {
     "data": {
      "image/png": "[encoded data removed]",
      "text/plain": [
       "<Figure size 1000x500 with 1 Axes>"
      ]
     },
     "metadata": {},
     "output_type": "display_data"
    }
   ],
   "source": [
    "plt.figure(figsize=(10,5))\n",
    "sns.boxplot(data = filtered_companies, x = 'funding_total')"
   ]
  },
  {
   "cell_type": "markdown",
   "metadata": {
    "tags": []
   },
   "source": [
    "Визуализации без нулевых значений и без выбросов"
   ]
  },
  {
   "cell_type": "code",
   "execution_count": 143,
   "metadata": {
    "tags": []
   },
   "outputs": [],
   "source": [
    "upper = filtered_companies['funding_total'].quantile(0.95)\n",
    "\n",
    "double_filtered_companies = filtered_companies[(filtered_companies['funding_total'] != 0) & (filtered_companies['funding_total'] <= upper)]"
   ]
  },
  {
   "cell_type": "code",
   "execution_count": 162,
   "metadata": {
    "tags": []
   },
   "outputs": [
    {
     "data": {
      "text/plain": [
       "<Axes: xlabel='funding_total', ylabel='Count'>"
      ]
     },
     "execution_count": 162,
     "metadata": {},
     "output_type": "execute_result"
    },
    {
     "data": {
      "image/png": "[encoded data removed]",
      "text/plain": [
       "<Figure size 800x400 with 1 Axes>"
      ]
     },
     "metadata": {},
     "output_type": "display_data"
    }
   ],
   "source": [
    "plt.figure(figsize=(8,4))\n",
    "sns.histplot(data = double_filtered_companies, x='funding_total', bins =25)"
   ]
  },
  {
   "cell_type": "code",
   "execution_count": 158,
   "metadata": {
    "tags": []
   },
   "outputs": [
    {
     "data": {
      "text/plain": [
       "<Axes: xlabel='funding_total'>"
      ]
     },
     "execution_count": 158,
     "metadata": {},
     "output_type": "execute_result"
    },
    {
     "data": {
      "image/png": "[encoded data removed]",
      "text/plain": [
       "<Figure size 1000x500 with 1 Axes>"
      ]
     },
     "metadata": {},
     "output_type": "display_data"
    }
   ],
   "source": [
    "plt.figure(figsize=(8,4))\n",
    "sns.boxplot(data = double_filtered_companies, x = 'funding_total')"
   ]
  },
  {
   "cell_type": "markdown",
   "metadata": {
    "tags": []
   },
   "source": [
    "Топ 10 компаний по размеру финансирования"
   ]
  },
  {
   "cell_type": "code",
   "execution_count": 58,
   "metadata": {
    "tags": []
   },
   "outputs": [
    {
     "data": {
      "text/html": [
       "<div>\n",
       "<style scoped>\n",
       "    .dataframe tbody tr th:only-of-type {\n",
       "        vertical-align: middle;\n",
       "    }\n",
       "\n",
       "    .dataframe tbody tr th {\n",
       "        vertical-align: top;\n",
       "    }\n",
       "\n",
       "    .dataframe thead th {\n",
       "        text-align: right;\n",
       "    }\n",
       "</style>\n",
       "<table border=\"1\" class=\"dataframe\">\n",
       "  <thead>\n",
       "    <tr style=\"text-align: right;\">\n",
       "      <th></th>\n",
       "      <th>company_id</th>\n",
       "      <th>name</th>\n",
       "      <th>category_code</th>\n",
       "      <th>status</th>\n",
       "      <th>founded_at</th>\n",
       "      <th>closed_at</th>\n",
       "      <th>domain</th>\n",
       "      <th>network_username</th>\n",
       "      <th>country_code</th>\n",
       "      <th>investment_rounds</th>\n",
       "      <th>funding_rounds</th>\n",
       "      <th>funding_total</th>\n",
       "      <th>milestones</th>\n",
       "    </tr>\n",
       "  </thead>\n",
       "  <tbody>\n",
       "    <tr>\n",
       "      <th>4575</th>\n",
       "      <td>13 219.00</td>\n",
       "      <td>Clearwire</td>\n",
       "      <td>mobile</td>\n",
       "      <td>acquired</td>\n",
       "      <td>2003-10-01</td>\n",
       "      <td>NaT</td>\n",
       "      <td>clearwire.com</td>\n",
       "      <td>NaN</td>\n",
       "      <td>USA</td>\n",
       "      <td>0.00</td>\n",
       "      <td>4.00</td>\n",
       "      <td>5 700 000 000.00</td>\n",
       "      <td>2.00</td>\n",
       "    </tr>\n",
       "    <tr>\n",
       "      <th>159956</th>\n",
       "      <td>4 843.00</td>\n",
       "      <td>Verizon Communications, Inc.</td>\n",
       "      <td>mobile</td>\n",
       "      <td>ipo</td>\n",
       "      <td>NaT</td>\n",
       "      <td>NaT</td>\n",
       "      <td>verizon.com</td>\n",
       "      <td>NaN</td>\n",
       "      <td>USA</td>\n",
       "      <td>3.00</td>\n",
       "      <td>2.00</td>\n",
       "      <td>3 985 050 000.00</td>\n",
       "      <td>3.00</td>\n",
       "    </tr>\n",
       "    <tr>\n",
       "      <th>97700</th>\n",
       "      <td>242 735.00</td>\n",
       "      <td>sigmacare</td>\n",
       "      <td>health</td>\n",
       "      <td>operating</td>\n",
       "      <td>2005-01-01</td>\n",
       "      <td>NaT</td>\n",
       "      <td>sigmacare.com</td>\n",
       "      <td>SigmaCareEHR</td>\n",
       "      <td>USA</td>\n",
       "      <td>0.00</td>\n",
       "      <td>1.00</td>\n",
       "      <td>2 600 000 000.00</td>\n",
       "      <td>0.00</td>\n",
       "    </tr>\n",
       "    <tr>\n",
       "      <th>196390</th>\n",
       "      <td>5.00</td>\n",
       "      <td>Socialnet</td>\n",
       "      <td>social</td>\n",
       "      <td>ipo</td>\n",
       "      <td>2004-02-01</td>\n",
       "      <td>NaT</td>\n",
       "      <td>socialnet.com</td>\n",
       "      <td>socialnet</td>\n",
       "      <td>USA</td>\n",
       "      <td>3.00</td>\n",
       "      <td>11.00</td>\n",
       "      <td>2 425 700 000.00</td>\n",
       "      <td>5.00</td>\n",
       "    </tr>\n",
       "    <tr>\n",
       "      <th>175723</th>\n",
       "      <td>64 365.00</td>\n",
       "      <td>Carestream</td>\n",
       "      <td>biotech</td>\n",
       "      <td>operating</td>\n",
       "      <td>2007-01-01</td>\n",
       "      <td>NaT</td>\n",
       "      <td>carestream.com</td>\n",
       "      <td>carestream</td>\n",
       "      <td>USA</td>\n",
       "      <td>0.00</td>\n",
       "      <td>1.00</td>\n",
       "      <td>2 400 000 000.00</td>\n",
       "      <td>1.00</td>\n",
       "    </tr>\n",
       "    <tr>\n",
       "      <th>80921</th>\n",
       "      <td>22 568.00</td>\n",
       "      <td>Solyndra</td>\n",
       "      <td>manufacturing</td>\n",
       "      <td>operating</td>\n",
       "      <td>2005-01-01</td>\n",
       "      <td>NaT</td>\n",
       "      <td>solyndra.com</td>\n",
       "      <td>SolyndraCorp</td>\n",
       "      <td>USA</td>\n",
       "      <td>0.00</td>\n",
       "      <td>9.00</td>\n",
       "      <td>1 765 500 000.00</td>\n",
       "      <td>3.00</td>\n",
       "    </tr>\n",
       "    <tr>\n",
       "      <th>170908</th>\n",
       "      <td>5 951.00</td>\n",
       "      <td>Fisker Automotive</td>\n",
       "      <td>automotive</td>\n",
       "      <td>operating</td>\n",
       "      <td>2008-01-01</td>\n",
       "      <td>NaT</td>\n",
       "      <td>fiskerautomotive.com</td>\n",
       "      <td>FiskerAuto</td>\n",
       "      <td>USA</td>\n",
       "      <td>0.00</td>\n",
       "      <td>9.00</td>\n",
       "      <td>1 451 000 000.00</td>\n",
       "      <td>3.00</td>\n",
       "    </tr>\n",
       "    <tr>\n",
       "      <th>151624</th>\n",
       "      <td>39 799.00</td>\n",
       "      <td>O3b Networks</td>\n",
       "      <td>enterprise</td>\n",
       "      <td>operating</td>\n",
       "      <td>2008-01-01</td>\n",
       "      <td>NaT</td>\n",
       "      <td>o3bnetworks.com</td>\n",
       "      <td>satellites_</td>\n",
       "      <td>GBR</td>\n",
       "      <td>0.00</td>\n",
       "      <td>5.00</td>\n",
       "      <td>1 270 280 000.00</td>\n",
       "      <td>1.00</td>\n",
       "    </tr>\n",
       "    <tr>\n",
       "      <th>101896</th>\n",
       "      <td>24 693.00</td>\n",
       "      <td>Terra-Gen Power</td>\n",
       "      <td>cleantech</td>\n",
       "      <td>operating</td>\n",
       "      <td>NaT</td>\n",
       "      <td>NaT</td>\n",
       "      <td>terra-genpower.com</td>\n",
       "      <td>NaN</td>\n",
       "      <td>USA</td>\n",
       "      <td>0.00</td>\n",
       "      <td>1.00</td>\n",
       "      <td>1 200 000 000.00</td>\n",
       "      <td>5.00</td>\n",
       "    </tr>\n",
       "    <tr>\n",
       "      <th>196391</th>\n",
       "      <td>12.00</td>\n",
       "      <td>Network</td>\n",
       "      <td>social</td>\n",
       "      <td>ipo</td>\n",
       "      <td>2006-03-21</td>\n",
       "      <td>NaT</td>\n",
       "      <td>network.com</td>\n",
       "      <td>network</td>\n",
       "      <td>USA</td>\n",
       "      <td>0.00</td>\n",
       "      <td>8.00</td>\n",
       "      <td>1 160 170 000.00</td>\n",
       "      <td>6.00</td>\n",
       "    </tr>\n",
       "  </tbody>\n",
       "</table>\n",
       "</div>"
      ],
      "text/plain": [
       "        company_id                          name  category_code     status  \\\n",
       "4575     13 219.00                     Clearwire         mobile   acquired   \n",
       "159956    4 843.00  Verizon Communications, Inc.         mobile        ipo   \n",
       "97700   242 735.00                     sigmacare         health  operating   \n",
       "196390        5.00                     Socialnet         social        ipo   \n",
       "175723   64 365.00                    Carestream        biotech  operating   \n",
       "80921    22 568.00                      Solyndra  manufacturing  operating   \n",
       "170908    5 951.00             Fisker Automotive     automotive  operating   \n",
       "151624   39 799.00                  O3b Networks     enterprise  operating   \n",
       "101896   24 693.00               Terra-Gen Power      cleantech  operating   \n",
       "196391       12.00                       Network         social        ipo   \n",
       "\n",
       "       founded_at closed_at                domain network_username  \\\n",
       "4575   2003-10-01       NaT         clearwire.com              NaN   \n",
       "159956        NaT       NaT           verizon.com              NaN   \n",
       "97700  2005-01-01       NaT         sigmacare.com     SigmaCareEHR   \n",
       "196390 2004-02-01       NaT         socialnet.com        socialnet   \n",
       "175723 2007-01-01       NaT        carestream.com       carestream   \n",
       "80921  2005-01-01       NaT          solyndra.com     SolyndraCorp   \n",
       "170908 2008-01-01       NaT  fiskerautomotive.com       FiskerAuto   \n",
       "151624 2008-01-01       NaT       o3bnetworks.com      satellites_   \n",
       "101896        NaT       NaT    terra-genpower.com              NaN   \n",
       "196391 2006-03-21       NaT           network.com          network   \n",
       "\n",
       "       country_code  investment_rounds  funding_rounds    funding_total  \\\n",
       "4575            USA               0.00            4.00 5 700 000 000.00   \n",
       "159956          USA               3.00            2.00 3 985 050 000.00   \n",
       "97700           USA               0.00            1.00 2 600 000 000.00   \n",
       "196390          USA               3.00           11.00 2 425 700 000.00   \n",
       "175723          USA               0.00            1.00 2 400 000 000.00   \n",
       "80921           USA               0.00            9.00 1 765 500 000.00   \n",
       "170908          USA               0.00            9.00 1 451 000 000.00   \n",
       "151624          GBR               0.00            5.00 1 270 280 000.00   \n",
       "101896          USA               0.00            1.00 1 200 000 000.00   \n",
       "196391          USA               0.00            8.00 1 160 170 000.00   \n",
       "\n",
       "        milestones  \n",
       "4575          2.00  \n",
       "159956        3.00  \n",
       "97700         0.00  \n",
       "196390        5.00  \n",
       "175723        1.00  \n",
       "80921         3.00  \n",
       "170908        3.00  \n",
       "151624        1.00  \n",
       "101896        5.00  \n",
       "196391        6.00  "
      ]
     },
     "execution_count": 58,
     "metadata": {},
     "output_type": "execute_result"
    }
   ],
   "source": [
    "filtered_companies.sort_values(by ='funding_total', ascending=False).head(10)\n"
   ]
  },
  {
   "cell_type": "code",
   "execution_count": null,
   "metadata": {},
   "outputs": [],
   "source": []
  },
  {
   "cell_type": "markdown",
   "metadata": {
    "id": "JqkRAQrIrJg2",
    "tags": []
   },
   "source": [
    "\n",
    "### 3.3. Куплены забесплатно?\n",
    "\n",
    "- Исследуйте компании, которые были проданы за ноль или за один доллар, и при этом известно, что у них был ненулевой общий объём финансирования.\n",
    "\n",
    "- Рассчитайте аналитически верхнюю и нижнюю границу выбросов для столбца `funding_total` и укажите, каким процентилям границы соответствуют."
   ]
  },
  {
   "cell_type": "code",
   "execution_count": null,
   "metadata": {},
   "outputs": [],
   "source": [
    "Создадим датафрейм с компаниями, которые были проданы."
   ]
  },
  {
   "cell_type": "code",
   "execution_count": 170,
   "metadata": {
    "id": "wJHXCBwwrJg2",
    "tags": [],
    "vscode": {
     "languageId": "plaintext"
    }
   },
   "outputs": [],
   "source": [
    "acquired_com = pd.merge(filtered_companies, acq, left_on = 'company_id', right_on = 'acquired_company_id')"
   ]
  },
  {
   "cell_type": "markdown",
   "metadata": {
    "tags": []
   },
   "source": [
    "Выделим компании, котрые были проданы за 0 или за 1 доллар."
   ]
  },
  {
   "cell_type": "code",
   "execution_count": null,
   "metadata": {},
   "outputs": [],
   "source": [
    "low_price_com = acquired_com[(acquired_com['price_amount'].isin([0,1])) & (acquired_com['funding_total'] != 0)]"
   ]
  },
  {
   "cell_type": "code",
   "execution_count": 173,
   "metadata": {
    "tags": []
   },
   "outputs": [
    {
     "name": "stdout",
     "output_type": "stream",
     "text": [
      "Всего записей о таких сделках: 1618\n"
     ]
    }
   ],
   "source": [
    "print(f'Всего записей о таких сделках: {low_price_com.shape[0]}')"
   ]
  },
  {
   "cell_type": "code",
   "execution_count": 179,
   "metadata": {
    "tags": []
   },
   "outputs": [
    {
     "name": "stdout",
     "output_type": "stream",
     "text": [
      "Всего таких компаний: 1593\n"
     ]
    }
   ],
   "source": [
    "print(f'Всего таких компаний: {low_price_com.acquired_company_id.nunique()}')"
   ]
  },
  {
   "cell_type": "code",
   "execution_count": null,
   "metadata": {},
   "outputs": [],
   "source": [
    "Пример строк с компаниями, к которых несколько записей в таблице."
   ]
  },
  {
   "cell_type": "code",
   "execution_count": 181,
   "metadata": {
    "tags": []
   },
   "outputs": [
    {
     "data": {
      "text/html": [
       "<div>\n",
       "<style scoped>\n",
       "    .dataframe tbody tr th:only-of-type {\n",
       "        vertical-align: middle;\n",
       "    }\n",
       "\n",
       "    .dataframe tbody tr th {\n",
       "        vertical-align: top;\n",
       "    }\n",
       "\n",
       "    .dataframe thead th {\n",
       "        text-align: right;\n",
       "    }\n",
       "</style>\n",
       "<table border=\"1\" class=\"dataframe\">\n",
       "  <thead>\n",
       "    <tr style=\"text-align: right;\">\n",
       "      <th></th>\n",
       "      <th>company_id</th>\n",
       "      <th>name</th>\n",
       "      <th>category_code</th>\n",
       "      <th>status</th>\n",
       "      <th>founded_at</th>\n",
       "      <th>closed_at</th>\n",
       "      <th>domain</th>\n",
       "      <th>network_username</th>\n",
       "      <th>country_code</th>\n",
       "      <th>investment_rounds</th>\n",
       "      <th>funding_rounds</th>\n",
       "      <th>funding_total</th>\n",
       "      <th>milestones</th>\n",
       "      <th>id</th>\n",
       "      <th>acquiring_company_id</th>\n",
       "      <th>acquired_company_id</th>\n",
       "      <th>term_code</th>\n",
       "      <th>price_amount</th>\n",
       "      <th>acquired_at</th>\n",
       "    </tr>\n",
       "  </thead>\n",
       "  <tbody>\n",
       "    <tr>\n",
       "      <th>446</th>\n",
       "      <td>130.00</td>\n",
       "      <td>KickApps</td>\n",
       "      <td>enterprise</td>\n",
       "      <td>acquired</td>\n",
       "      <td>2004-03-01</td>\n",
       "      <td>NaT</td>\n",
       "      <td>kickapps.com</td>\n",
       "      <td>KickApps</td>\n",
       "      <td>USA</td>\n",
       "      <td>0.00</td>\n",
       "      <td>3.00</td>\n",
       "      <td>39 007 800.00</td>\n",
       "      <td>5.00</td>\n",
       "      <td>5073</td>\n",
       "      <td>475</td>\n",
       "      <td>130</td>\n",
       "      <td>NaN</td>\n",
       "      <td>0</td>\n",
       "      <td>2011-01-31</td>\n",
       "    </tr>\n",
       "    <tr>\n",
       "      <th>447</th>\n",
       "      <td>130.00</td>\n",
       "      <td>KickApps</td>\n",
       "      <td>enterprise</td>\n",
       "      <td>acquired</td>\n",
       "      <td>2004-03-01</td>\n",
       "      <td>NaT</td>\n",
       "      <td>kickapps.com</td>\n",
       "      <td>KickApps</td>\n",
       "      <td>USA</td>\n",
       "      <td>0.00</td>\n",
       "      <td>3.00</td>\n",
       "      <td>39 007 800.00</td>\n",
       "      <td>5.00</td>\n",
       "      <td>9040</td>\n",
       "      <td>234881</td>\n",
       "      <td>130</td>\n",
       "      <td>NaN</td>\n",
       "      <td>0</td>\n",
       "      <td>2012-12-12</td>\n",
       "    </tr>\n",
       "    <tr>\n",
       "      <th>608</th>\n",
       "      <td>139 762.00</td>\n",
       "      <td>Kanbox</td>\n",
       "      <td>enterprise</td>\n",
       "      <td>acquired</td>\n",
       "      <td>NaT</td>\n",
       "      <td>NaT</td>\n",
       "      <td>kanbox.com</td>\n",
       "      <td>NaN</td>\n",
       "      <td>CHN</td>\n",
       "      <td>0.00</td>\n",
       "      <td>1.00</td>\n",
       "      <td>20 000 000.00</td>\n",
       "      <td>1.00</td>\n",
       "      <td>9699</td>\n",
       "      <td>528</td>\n",
       "      <td>139762</td>\n",
       "      <td>NaN</td>\n",
       "      <td>0</td>\n",
       "      <td>2013-09-25</td>\n",
       "    </tr>\n",
       "    <tr>\n",
       "      <th>609</th>\n",
       "      <td>139 762.00</td>\n",
       "      <td>Kanbox</td>\n",
       "      <td>enterprise</td>\n",
       "      <td>acquired</td>\n",
       "      <td>NaT</td>\n",
       "      <td>NaT</td>\n",
       "      <td>kanbox.com</td>\n",
       "      <td>NaN</td>\n",
       "      <td>CHN</td>\n",
       "      <td>0.00</td>\n",
       "      <td>1.00</td>\n",
       "      <td>20 000 000.00</td>\n",
       "      <td>1.00</td>\n",
       "      <td>9705</td>\n",
       "      <td>211687</td>\n",
       "      <td>139762</td>\n",
       "      <td>NaN</td>\n",
       "      <td>0</td>\n",
       "      <td>2013-09-25</td>\n",
       "    </tr>\n",
       "    <tr>\n",
       "      <th>851</th>\n",
       "      <td>146 544.00</td>\n",
       "      <td>MoneyReef</td>\n",
       "      <td>mobile</td>\n",
       "      <td>acquired</td>\n",
       "      <td>NaT</td>\n",
       "      <td>NaT</td>\n",
       "      <td>moneyreef.com</td>\n",
       "      <td>NaN</td>\n",
       "      <td>USA</td>\n",
       "      <td>0.00</td>\n",
       "      <td>1.00</td>\n",
       "      <td>650 000.00</td>\n",
       "      <td>2.00</td>\n",
       "      <td>9711</td>\n",
       "      <td>46951</td>\n",
       "      <td>146544</td>\n",
       "      <td>NaN</td>\n",
       "      <td>0</td>\n",
       "      <td>2012-04-27</td>\n",
       "    </tr>\n",
       "    <tr>\n",
       "      <th>852</th>\n",
       "      <td>146 544.00</td>\n",
       "      <td>MoneyReef</td>\n",
       "      <td>mobile</td>\n",
       "      <td>acquired</td>\n",
       "      <td>NaT</td>\n",
       "      <td>NaT</td>\n",
       "      <td>moneyreef.com</td>\n",
       "      <td>NaN</td>\n",
       "      <td>USA</td>\n",
       "      <td>0.00</td>\n",
       "      <td>1.00</td>\n",
       "      <td>650 000.00</td>\n",
       "      <td>2.00</td>\n",
       "      <td>9714</td>\n",
       "      <td>46951</td>\n",
       "      <td>146544</td>\n",
       "      <td>NaN</td>\n",
       "      <td>0</td>\n",
       "      <td>2012-08-01</td>\n",
       "    </tr>\n",
       "    <tr>\n",
       "      <th>1109</th>\n",
       "      <td>1 535.00</td>\n",
       "      <td>SocialPicks</td>\n",
       "      <td>web</td>\n",
       "      <td>acquired</td>\n",
       "      <td>2006-01-01</td>\n",
       "      <td>NaT</td>\n",
       "      <td>socialpicks.com</td>\n",
       "      <td>SocialPicks</td>\n",
       "      <td>USA</td>\n",
       "      <td>0.00</td>\n",
       "      <td>1.00</td>\n",
       "      <td>500 000.00</td>\n",
       "      <td>4.00</td>\n",
       "      <td>1226</td>\n",
       "      <td>9295</td>\n",
       "      <td>1535</td>\n",
       "      <td>cash_and_stock</td>\n",
       "      <td>0</td>\n",
       "      <td>2009-05-01</td>\n",
       "    </tr>\n",
       "    <tr>\n",
       "      <th>1110</th>\n",
       "      <td>1 535.00</td>\n",
       "      <td>SocialPicks</td>\n",
       "      <td>web</td>\n",
       "      <td>acquired</td>\n",
       "      <td>2006-01-01</td>\n",
       "      <td>NaT</td>\n",
       "      <td>socialpicks.com</td>\n",
       "      <td>SocialPicks</td>\n",
       "      <td>USA</td>\n",
       "      <td>0.00</td>\n",
       "      <td>1.00</td>\n",
       "      <td>500 000.00</td>\n",
       "      <td>4.00</td>\n",
       "      <td>7053</td>\n",
       "      <td>153802</td>\n",
       "      <td>1535</td>\n",
       "      <td>cash_and_stock</td>\n",
       "      <td>0</td>\n",
       "      <td>2012-05-02</td>\n",
       "    </tr>\n",
       "    <tr>\n",
       "      <th>1912</th>\n",
       "      <td>17 758.00</td>\n",
       "      <td>TRAFFIQ</td>\n",
       "      <td>advertising</td>\n",
       "      <td>acquired</td>\n",
       "      <td>2006-09-06</td>\n",
       "      <td>NaT</td>\n",
       "      <td>traffiq.com</td>\n",
       "      <td>TRAFFIQ</td>\n",
       "      <td>USA</td>\n",
       "      <td>0.00</td>\n",
       "      <td>3.00</td>\n",
       "      <td>18 000 000.00</td>\n",
       "      <td>3.00</td>\n",
       "      <td>10293</td>\n",
       "      <td>9947</td>\n",
       "      <td>17758</td>\n",
       "      <td>NaN</td>\n",
       "      <td>0</td>\n",
       "      <td>2013-11-12</td>\n",
       "    </tr>\n",
       "    <tr>\n",
       "      <th>1913</th>\n",
       "      <td>17 758.00</td>\n",
       "      <td>TRAFFIQ</td>\n",
       "      <td>advertising</td>\n",
       "      <td>acquired</td>\n",
       "      <td>2006-09-06</td>\n",
       "      <td>NaT</td>\n",
       "      <td>traffiq.com</td>\n",
       "      <td>TRAFFIQ</td>\n",
       "      <td>USA</td>\n",
       "      <td>0.00</td>\n",
       "      <td>3.00</td>\n",
       "      <td>18 000 000.00</td>\n",
       "      <td>3.00</td>\n",
       "      <td>10402</td>\n",
       "      <td>278945</td>\n",
       "      <td>17758</td>\n",
       "      <td>NaN</td>\n",
       "      <td>0</td>\n",
       "      <td>2013-11-12</td>\n",
       "    </tr>\n",
       "  </tbody>\n",
       "</table>\n",
       "</div>"
      ],
      "text/plain": [
       "      company_id         name category_code    status founded_at closed_at  \\\n",
       "446       130.00     KickApps    enterprise  acquired 2004-03-01       NaT   \n",
       "447       130.00     KickApps    enterprise  acquired 2004-03-01       NaT   \n",
       "608   139 762.00       Kanbox    enterprise  acquired        NaT       NaT   \n",
       "609   139 762.00       Kanbox    enterprise  acquired        NaT       NaT   \n",
       "851   146 544.00    MoneyReef        mobile  acquired        NaT       NaT   \n",
       "852   146 544.00    MoneyReef        mobile  acquired        NaT       NaT   \n",
       "1109    1 535.00  SocialPicks           web  acquired 2006-01-01       NaT   \n",
       "1110    1 535.00  SocialPicks           web  acquired 2006-01-01       NaT   \n",
       "1912   17 758.00      TRAFFIQ   advertising  acquired 2006-09-06       NaT   \n",
       "1913   17 758.00      TRAFFIQ   advertising  acquired 2006-09-06       NaT   \n",
       "\n",
       "               domain network_username country_code  investment_rounds  \\\n",
       "446      kickapps.com         KickApps          USA               0.00   \n",
       "447      kickapps.com         KickApps          USA               0.00   \n",
       "608        kanbox.com              NaN          CHN               0.00   \n",
       "609        kanbox.com              NaN          CHN               0.00   \n",
       "851     moneyreef.com              NaN          USA               0.00   \n",
       "852     moneyreef.com              NaN          USA               0.00   \n",
       "1109  socialpicks.com      SocialPicks          USA               0.00   \n",
       "1110  socialpicks.com      SocialPicks          USA               0.00   \n",
       "1912      traffiq.com          TRAFFIQ          USA               0.00   \n",
       "1913      traffiq.com          TRAFFIQ          USA               0.00   \n",
       "\n",
       "      funding_rounds  funding_total  milestones     id  acquiring_company_id  \\\n",
       "446             3.00  39 007 800.00        5.00   5073                   475   \n",
       "447             3.00  39 007 800.00        5.00   9040                234881   \n",
       "608             1.00  20 000 000.00        1.00   9699                   528   \n",
       "609             1.00  20 000 000.00        1.00   9705                211687   \n",
       "851             1.00     650 000.00        2.00   9711                 46951   \n",
       "852             1.00     650 000.00        2.00   9714                 46951   \n",
       "1109            1.00     500 000.00        4.00   1226                  9295   \n",
       "1110            1.00     500 000.00        4.00   7053                153802   \n",
       "1912            3.00  18 000 000.00        3.00  10293                  9947   \n",
       "1913            3.00  18 000 000.00        3.00  10402                278945   \n",
       "\n",
       "      acquired_company_id       term_code  price_amount acquired_at  \n",
       "446                   130             NaN             0  2011-01-31  \n",
       "447                   130             NaN             0  2012-12-12  \n",
       "608                139762             NaN             0  2013-09-25  \n",
       "609                139762             NaN             0  2013-09-25  \n",
       "851                146544             NaN             0  2012-04-27  \n",
       "852                146544             NaN             0  2012-08-01  \n",
       "1109                 1535  cash_and_stock             0  2009-05-01  \n",
       "1110                 1535  cash_and_stock             0  2012-05-02  \n",
       "1912                17758             NaN             0  2013-11-12  \n",
       "1913                17758             NaN             0  2013-11-12  "
      ]
     },
     "execution_count": 181,
     "metadata": {},
     "output_type": "execute_result"
    }
   ],
   "source": [
    "low_price_com[low_price_com.duplicated(subset=['company_id'], keep=False)].head(10)"
   ]
  },
  {
   "cell_type": "code",
   "execution_count": 64,
   "metadata": {
    "tags": []
   },
   "outputs": [
    {
     "data": {
      "text/html": [
       "<div>\n",
       "<style scoped>\n",
       "    .dataframe tbody tr th:only-of-type {\n",
       "        vertical-align: middle;\n",
       "    }\n",
       "\n",
       "    .dataframe tbody tr th {\n",
       "        vertical-align: top;\n",
       "    }\n",
       "\n",
       "    .dataframe thead th {\n",
       "        text-align: right;\n",
       "    }\n",
       "</style>\n",
       "<table border=\"1\" class=\"dataframe\">\n",
       "  <thead>\n",
       "    <tr style=\"text-align: right;\">\n",
       "      <th></th>\n",
       "      <th>investment_rounds</th>\n",
       "      <th>funding_rounds</th>\n",
       "      <th>funding_total</th>\n",
       "    </tr>\n",
       "  </thead>\n",
       "  <tbody>\n",
       "    <tr>\n",
       "      <th>count</th>\n",
       "      <td>1 618.00</td>\n",
       "      <td>1 618.00</td>\n",
       "      <td>1 618.00</td>\n",
       "    </tr>\n",
       "    <tr>\n",
       "      <th>mean</th>\n",
       "      <td>0.01</td>\n",
       "      <td>1.89</td>\n",
       "      <td>18 152 961.94</td>\n",
       "    </tr>\n",
       "    <tr>\n",
       "      <th>std</th>\n",
       "      <td>0.12</td>\n",
       "      <td>1.24</td>\n",
       "      <td>144 503 027.47</td>\n",
       "    </tr>\n",
       "    <tr>\n",
       "      <th>min</th>\n",
       "      <td>0.00</td>\n",
       "      <td>1.00</td>\n",
       "      <td>3 750.00</td>\n",
       "    </tr>\n",
       "    <tr>\n",
       "      <th>25%</th>\n",
       "      <td>0.00</td>\n",
       "      <td>1.00</td>\n",
       "      <td>2 000 000.00</td>\n",
       "    </tr>\n",
       "    <tr>\n",
       "      <th>50%</th>\n",
       "      <td>0.00</td>\n",
       "      <td>1.00</td>\n",
       "      <td>6 000 000.00</td>\n",
       "    </tr>\n",
       "    <tr>\n",
       "      <th>75%</th>\n",
       "      <td>0.00</td>\n",
       "      <td>2.00</td>\n",
       "      <td>15 500 000.00</td>\n",
       "    </tr>\n",
       "    <tr>\n",
       "      <th>max</th>\n",
       "      <td>3.00</td>\n",
       "      <td>12.00</td>\n",
       "      <td>5 700 000 000.00</td>\n",
       "    </tr>\n",
       "  </tbody>\n",
       "</table>\n",
       "</div>"
      ],
      "text/plain": [
       "       investment_rounds  funding_rounds    funding_total\n",
       "count           1 618.00        1 618.00         1 618.00\n",
       "mean                0.01            1.89    18 152 961.94\n",
       "std                 0.12            1.24   144 503 027.47\n",
       "min                 0.00            1.00         3 750.00\n",
       "25%                 0.00            1.00     2 000 000.00\n",
       "50%                 0.00            1.00     6 000 000.00\n",
       "75%                 0.00            2.00    15 500 000.00\n",
       "max                 3.00           12.00 5 700 000 000.00"
      ]
     },
     "execution_count": 64,
     "metadata": {},
     "output_type": "execute_result"
    }
   ],
   "source": [
    "low_price_com[['investment_rounds', 'funding_rounds', 'funding_total']].describe()"
   ]
  },
  {
   "cell_type": "code",
   "execution_count": 163,
   "metadata": {
    "tags": []
   },
   "outputs": [
    {
     "data": {
      "text/plain": [
       "<Axes: xlabel='funding_total'>"
      ]
     },
     "execution_count": 163,
     "metadata": {},
     "output_type": "execute_result"
    },
    {
     "data": {
      "image/png": "[encoded data removed]",
      "text/plain": [
       "<Figure size 800x400 with 1 Axes>"
      ]
     },
     "metadata": {},
     "output_type": "display_data"
    }
   ],
   "source": [
    "plt.figure(figsize=(8,4))\n",
    "sns.boxplot(data = low_price_com, x = 'funding_total')"
   ]
  },
  {
   "cell_type": "markdown",
   "metadata": {
    "tags": []
   },
   "source": [
    "возможно обанкротились?\n"
   ]
  },
  {
   "cell_type": "markdown",
   "metadata": {
    "id": "mEiWpROjrJg2"
   },
   "source": [
    "\n",
    "### 3.4. Цены стартапов по категориям\n",
    "\n",
    "Категории стартапов с типично высокими ценами покупки стартапов и значительным разбросом цен могут быть привлекательными для крупных инвесторов, которые готовы к высоким рискам ради потенциально больших доходов. Среди категорий стартапов выделите категории стартапов, характеризующиеся:\n",
    "\n",
    "- типично высокими ценами;\n",
    "- и наибольшим разбросом цен за стартап.\n",
    "\n",
    "Объясните, почему решили составить топ именно из такого числа категорий и почему рассчитывали именно так."
   ]
  },
  {
   "cell_type": "code",
   "execution_count": 66,
   "metadata": {
    "id": "jQ09dYUWrJg2",
    "tags": [],
    "vscode": {
     "languageId": "plaintext"
    }
   },
   "outputs": [
    {
     "data": {
      "text/plain": [
       "count               9 390.00\n",
       "mean          393 988 145.31\n",
       "std        26 846 244 613.76\n",
       "min                     0.00\n",
       "25%                     0.00\n",
       "50%                     0.00\n",
       "75%                23 625.50\n",
       "max     2 600 000 000 000.00\n",
       "Name: price_amount, dtype: float64"
      ]
     },
     "execution_count": 66,
     "metadata": {},
     "output_type": "execute_result"
    }
   ],
   "source": [
    "acquired_com.price_amount.describe()"
   ]
  },
  {
   "cell_type": "code",
   "execution_count": 67,
   "metadata": {
    "id": "eF1aULm5FjfY",
    "tags": []
   },
   "outputs": [
    {
     "data": {
      "text/html": [
       "<div>\n",
       "<style scoped>\n",
       "    .dataframe tbody tr th:only-of-type {\n",
       "        vertical-align: middle;\n",
       "    }\n",
       "\n",
       "    .dataframe tbody tr th {\n",
       "        vertical-align: top;\n",
       "    }\n",
       "\n",
       "    .dataframe thead th {\n",
       "        text-align: right;\n",
       "    }\n",
       "</style>\n",
       "<table border=\"1\" class=\"dataframe\">\n",
       "  <thead>\n",
       "    <tr style=\"text-align: right;\">\n",
       "      <th></th>\n",
       "      <th>company_id</th>\n",
       "      <th>name</th>\n",
       "      <th>category_code</th>\n",
       "      <th>status</th>\n",
       "      <th>founded_at</th>\n",
       "      <th>closed_at</th>\n",
       "      <th>domain</th>\n",
       "      <th>network_username</th>\n",
       "      <th>country_code</th>\n",
       "      <th>investment_rounds</th>\n",
       "      <th>funding_rounds</th>\n",
       "      <th>funding_total</th>\n",
       "      <th>milestones</th>\n",
       "      <th>id</th>\n",
       "      <th>acquiring_company_id</th>\n",
       "      <th>acquired_company_id</th>\n",
       "      <th>term_code</th>\n",
       "      <th>price_amount</th>\n",
       "      <th>acquired_at</th>\n",
       "    </tr>\n",
       "  </thead>\n",
       "  <tbody>\n",
       "    <tr>\n",
       "      <th>3162</th>\n",
       "      <td>2 467.00</td>\n",
       "      <td>EDS</td>\n",
       "      <td>enterprise</td>\n",
       "      <td>acquired</td>\n",
       "      <td>NaT</td>\n",
       "      <td>NaT</td>\n",
       "      <td>eds.com</td>\n",
       "      <td>NaN</td>\n",
       "      <td>USA</td>\n",
       "      <td>1.00</td>\n",
       "      <td>0.00</td>\n",
       "      <td>0.00</td>\n",
       "      <td>1.00</td>\n",
       "      <td>5803</td>\n",
       "      <td>38446</td>\n",
       "      <td>2467</td>\n",
       "      <td>NaN</td>\n",
       "      <td>2600000000000</td>\n",
       "      <td>1984-06-27</td>\n",
       "    </tr>\n",
       "    <tr>\n",
       "      <th>6139</th>\n",
       "      <td>4 498.00</td>\n",
       "      <td>T-Mobile</td>\n",
       "      <td>public_relations</td>\n",
       "      <td>acquired</td>\n",
       "      <td>NaT</td>\n",
       "      <td>NaT</td>\n",
       "      <td>t-mobile.com</td>\n",
       "      <td>NaN</td>\n",
       "      <td>USA</td>\n",
       "      <td>1.00</td>\n",
       "      <td>0.00</td>\n",
       "      <td>0.00</td>\n",
       "      <td>3.00</td>\n",
       "      <td>5275</td>\n",
       "      <td>590</td>\n",
       "      <td>4498</td>\n",
       "      <td>NaN</td>\n",
       "      <td>39000000000</td>\n",
       "      <td>2011-03-20</td>\n",
       "    </tr>\n",
       "    <tr>\n",
       "      <th>6371</th>\n",
       "      <td>4 819.00</td>\n",
       "      <td>Nextel Communications</td>\n",
       "      <td>public_relations</td>\n",
       "      <td>acquired</td>\n",
       "      <td>NaT</td>\n",
       "      <td>NaT</td>\n",
       "      <td>nextel.com</td>\n",
       "      <td>sprint</td>\n",
       "      <td>USA</td>\n",
       "      <td>1.00</td>\n",
       "      <td>0.00</td>\n",
       "      <td>0.00</td>\n",
       "      <td>2.00</td>\n",
       "      <td>271</td>\n",
       "      <td>3827</td>\n",
       "      <td>4819</td>\n",
       "      <td>NaN</td>\n",
       "      <td>35000000000</td>\n",
       "      <td>2005-08-15</td>\n",
       "    </tr>\n",
       "    <tr>\n",
       "      <th>4984</th>\n",
       "      <td>32 380.00</td>\n",
       "      <td>Alltel</td>\n",
       "      <td>public_relations</td>\n",
       "      <td>acquired</td>\n",
       "      <td>1968-01-01</td>\n",
       "      <td>NaT</td>\n",
       "      <td>alltel.com</td>\n",
       "      <td>alltel</td>\n",
       "      <td>USA</td>\n",
       "      <td>0.00</td>\n",
       "      <td>0.00</td>\n",
       "      <td>0.00</td>\n",
       "      <td>1.00</td>\n",
       "      <td>2312</td>\n",
       "      <td>4843</td>\n",
       "      <td>32380</td>\n",
       "      <td>NaN</td>\n",
       "      <td>28100000000</td>\n",
       "      <td>2008-06-05</td>\n",
       "    </tr>\n",
       "    <tr>\n",
       "      <th>2724</th>\n",
       "      <td>220 208.00</td>\n",
       "      <td>Hilton Worldwide</td>\n",
       "      <td>NaN</td>\n",
       "      <td>acquired</td>\n",
       "      <td>NaT</td>\n",
       "      <td>NaT</td>\n",
       "      <td>hiltonworldwide.com</td>\n",
       "      <td>HiltonWorldwide</td>\n",
       "      <td>GBR</td>\n",
       "      <td>0.00</td>\n",
       "      <td>0.00</td>\n",
       "      <td>0.00</td>\n",
       "      <td>1.00</td>\n",
       "      <td>10527</td>\n",
       "      <td>223792</td>\n",
       "      <td>220208</td>\n",
       "      <td>NaN</td>\n",
       "      <td>26000000000</td>\n",
       "      <td>2007-07-03</td>\n",
       "    </tr>\n",
       "    <tr>\n",
       "      <th>8258</th>\n",
       "      <td>67 112.00</td>\n",
       "      <td>Genzyme</td>\n",
       "      <td>biotech</td>\n",
       "      <td>acquired</td>\n",
       "      <td>NaT</td>\n",
       "      <td>NaT</td>\n",
       "      <td>genzyme.com</td>\n",
       "      <td>NaN</td>\n",
       "      <td>USA</td>\n",
       "      <td>0.00</td>\n",
       "      <td>0.00</td>\n",
       "      <td>0.00</td>\n",
       "      <td>2.00</td>\n",
       "      <td>5161</td>\n",
       "      <td>28373</td>\n",
       "      <td>67112</td>\n",
       "      <td>cash</td>\n",
       "      <td>20000000000</td>\n",
       "      <td>2011-02-16</td>\n",
       "    </tr>\n",
       "    <tr>\n",
       "      <th>3298</th>\n",
       "      <td>25 637.00</td>\n",
       "      <td>Goodrich Corporation</td>\n",
       "      <td>other</td>\n",
       "      <td>acquired</td>\n",
       "      <td>NaT</td>\n",
       "      <td>NaT</td>\n",
       "      <td>goodrich.com</td>\n",
       "      <td>NaN</td>\n",
       "      <td>USA</td>\n",
       "      <td>0.00</td>\n",
       "      <td>0.00</td>\n",
       "      <td>0.00</td>\n",
       "      <td>0.00</td>\n",
       "      <td>6201</td>\n",
       "      <td>37380</td>\n",
       "      <td>25637</td>\n",
       "      <td>NaN</td>\n",
       "      <td>18400000000</td>\n",
       "      <td>2011-09-22</td>\n",
       "    </tr>\n",
       "    <tr>\n",
       "      <th>3161</th>\n",
       "      <td>2 467.00</td>\n",
       "      <td>EDS</td>\n",
       "      <td>enterprise</td>\n",
       "      <td>acquired</td>\n",
       "      <td>NaT</td>\n",
       "      <td>NaT</td>\n",
       "      <td>eds.com</td>\n",
       "      <td>NaN</td>\n",
       "      <td>USA</td>\n",
       "      <td>1.00</td>\n",
       "      <td>0.00</td>\n",
       "      <td>0.00</td>\n",
       "      <td>1.00</td>\n",
       "      <td>295</td>\n",
       "      <td>355</td>\n",
       "      <td>2467</td>\n",
       "      <td>NaN</td>\n",
       "      <td>13900000000</td>\n",
       "      <td>2008-05-13</td>\n",
       "    </tr>\n",
       "    <tr>\n",
       "      <th>8042</th>\n",
       "      <td>64 703.00</td>\n",
       "      <td>Motorola Mobility</td>\n",
       "      <td>mobile</td>\n",
       "      <td>acquired</td>\n",
       "      <td>2011-01-04</td>\n",
       "      <td>NaT</td>\n",
       "      <td>motorolamobility.com</td>\n",
       "      <td>Motorola</td>\n",
       "      <td>USA</td>\n",
       "      <td>7.00</td>\n",
       "      <td>0.00</td>\n",
       "      <td>0.00</td>\n",
       "      <td>2.00</td>\n",
       "      <td>6006</td>\n",
       "      <td>59</td>\n",
       "      <td>64703</td>\n",
       "      <td>cash</td>\n",
       "      <td>12500000000</td>\n",
       "      <td>2012-05-22</td>\n",
       "    </tr>\n",
       "    <tr>\n",
       "      <th>5170</th>\n",
       "      <td>33 874.00</td>\n",
       "      <td>Onyx Pharmaceuticals</td>\n",
       "      <td>biotech</td>\n",
       "      <td>acquired</td>\n",
       "      <td>1992-01-01</td>\n",
       "      <td>NaT</td>\n",
       "      <td>onyx-pharm.com</td>\n",
       "      <td>NaN</td>\n",
       "      <td>USA</td>\n",
       "      <td>0.00</td>\n",
       "      <td>0.00</td>\n",
       "      <td>0.00</td>\n",
       "      <td>1.00</td>\n",
       "      <td>9487</td>\n",
       "      <td>23339</td>\n",
       "      <td>33874</td>\n",
       "      <td>NaN</td>\n",
       "      <td>10500000000</td>\n",
       "      <td>2013-08-25</td>\n",
       "    </tr>\n",
       "  </tbody>\n",
       "</table>\n",
       "</div>"
      ],
      "text/plain": [
       "      company_id                   name     category_code    status  \\\n",
       "3162    2 467.00                    EDS        enterprise  acquired   \n",
       "6139    4 498.00               T-Mobile  public_relations  acquired   \n",
       "6371    4 819.00  Nextel Communications  public_relations  acquired   \n",
       "4984   32 380.00                 Alltel  public_relations  acquired   \n",
       "2724  220 208.00       Hilton Worldwide               NaN  acquired   \n",
       "8258   67 112.00                Genzyme           biotech  acquired   \n",
       "3298   25 637.00   Goodrich Corporation             other  acquired   \n",
       "3161    2 467.00                    EDS        enterprise  acquired   \n",
       "8042   64 703.00      Motorola Mobility            mobile  acquired   \n",
       "5170   33 874.00   Onyx Pharmaceuticals           biotech  acquired   \n",
       "\n",
       "     founded_at closed_at                domain network_username country_code  \\\n",
       "3162        NaT       NaT               eds.com              NaN          USA   \n",
       "6139        NaT       NaT          t-mobile.com              NaN          USA   \n",
       "6371        NaT       NaT            nextel.com           sprint          USA   \n",
       "4984 1968-01-01       NaT            alltel.com           alltel          USA   \n",
       "2724        NaT       NaT   hiltonworldwide.com  HiltonWorldwide          GBR   \n",
       "8258        NaT       NaT           genzyme.com              NaN          USA   \n",
       "3298        NaT       NaT          goodrich.com              NaN          USA   \n",
       "3161        NaT       NaT               eds.com              NaN          USA   \n",
       "8042 2011-01-04       NaT  motorolamobility.com         Motorola          USA   \n",
       "5170 1992-01-01       NaT        onyx-pharm.com              NaN          USA   \n",
       "\n",
       "      investment_rounds  funding_rounds  funding_total  milestones     id  \\\n",
       "3162               1.00            0.00           0.00        1.00   5803   \n",
       "6139               1.00            0.00           0.00        3.00   5275   \n",
       "6371               1.00            0.00           0.00        2.00    271   \n",
       "4984               0.00            0.00           0.00        1.00   2312   \n",
       "2724               0.00            0.00           0.00        1.00  10527   \n",
       "8258               0.00            0.00           0.00        2.00   5161   \n",
       "3298               0.00            0.00           0.00        0.00   6201   \n",
       "3161               1.00            0.00           0.00        1.00    295   \n",
       "8042               7.00            0.00           0.00        2.00   6006   \n",
       "5170               0.00            0.00           0.00        1.00   9487   \n",
       "\n",
       "      acquiring_company_id  acquired_company_id term_code   price_amount  \\\n",
       "3162                 38446                 2467       NaN  2600000000000   \n",
       "6139                   590                 4498       NaN    39000000000   \n",
       "6371                  3827                 4819       NaN    35000000000   \n",
       "4984                  4843                32380       NaN    28100000000   \n",
       "2724                223792               220208       NaN    26000000000   \n",
       "8258                 28373                67112      cash    20000000000   \n",
       "3298                 37380                25637       NaN    18400000000   \n",
       "3161                   355                 2467       NaN    13900000000   \n",
       "8042                    59                64703      cash    12500000000   \n",
       "5170                 23339                33874       NaN    10500000000   \n",
       "\n",
       "     acquired_at  \n",
       "3162  1984-06-27  \n",
       "6139  2011-03-20  \n",
       "6371  2005-08-15  \n",
       "4984  2008-06-05  \n",
       "2724  2007-07-03  \n",
       "8258  2011-02-16  \n",
       "3298  2011-09-22  \n",
       "3161  2008-05-13  \n",
       "8042  2012-05-22  \n",
       "5170  2013-08-25  "
      ]
     },
     "execution_count": 67,
     "metadata": {},
     "output_type": "execute_result"
    }
   ],
   "source": [
    "acquired_com.sort_values(by ='price_amount', ascending=False).head(10)"
   ]
  },
  {
   "cell_type": "code",
   "execution_count": 68,
   "metadata": {
    "tags": []
   },
   "outputs": [],
   "source": [
    "acquired_com = acquired_com[(acquired_com['price_amount'] >= 10000) & (acquired_com['price_amount'] < 2600000000000)]"
   ]
  },
  {
   "cell_type": "code",
   "execution_count": 69,
   "metadata": {
    "tags": []
   },
   "outputs": [
    {
     "data": {
      "text/plain": [
       "count            2 403.00\n",
       "mean       457 573 250.13\n",
       "std      1 802 315 294.23\n",
       "min             10 000.00\n",
       "25%         15 000 000.00\n",
       "50%         60 060 000.00\n",
       "75%        274 500 000.00\n",
       "max     39 000 000 000.00\n",
       "Name: price_amount, dtype: float64"
      ]
     },
     "execution_count": 69,
     "metadata": {},
     "output_type": "execute_result"
    }
   ],
   "source": [
    "acquired_com.price_amount.describe()"
   ]
  },
  {
   "cell_type": "code",
   "execution_count": 71,
   "metadata": {
    "tags": []
   },
   "outputs": [
    {
     "data": {
      "text/plain": [
       "array(['advertising', 'analytics', 'automotive', 'biotech', 'cleantech',\n",
       "       'consulting', 'ecommerce', 'education', 'enterprise', 'fashion',\n",
       "       'finance', 'games_video', 'hardware', 'health', 'hospitality',\n",
       "       'local', 'manufacturing', 'medical', 'messaging', 'mobile',\n",
       "       'music', 'nanotech', 'network_hosting', 'news', 'other',\n",
       "       'photo_video', 'public_relations', 'real_estate', 'search',\n",
       "       'security', 'semiconductor', 'social', 'software', 'sports',\n",
       "       'transportation', 'travel', 'web', nan], dtype=object)"
      ]
     },
     "execution_count": 71,
     "metadata": {},
     "output_type": "execute_result"
    }
   ],
   "source": [
    "acquired_com.category_code.sort_values().unique()"
   ]
  },
  {
   "cell_type": "code",
   "execution_count": 73,
   "metadata": {
    "tags": []
   },
   "outputs": [],
   "source": [
    "acquired_com.category_code.fillna('unknown', inplace=True)"
   ]
  },
  {
   "cell_type": "code",
   "execution_count": 89,
   "metadata": {
    "tags": []
   },
   "outputs": [],
   "source": [
    "acquired_com_stat = pd.DataFrame({\n",
    "    # Кол-во проданных стартапов\n",
    "    'companies_count': acquired_com.groupby('category_code')['acquired_company_id'].nunique(),\n",
    "    # Минимальная цена сделки\n",
    "    'min_price_amount': acquired_com.groupby('category_code')['price_amount'].min(),\n",
    "    # Типичное (медианное) значение цены\n",
    "    'median_price_amount': acquired_com.groupby('category_code')['price_amount'].median(),\n",
    "    # Максимальная цена сделки\n",
    "    'max_price_amount': acquired_com.groupby('category_code')['price_amount'].max(),\n",
    "    # Разброс цен в категории\n",
    "    'price range': acquired_com.groupby('category_code')['price_amount'].max() - acquired_com.groupby('category_code')['price_amount'].min()\n",
    "    })"
   ]
  },
  {
   "cell_type": "markdown",
   "metadata": {
    "tags": []
   },
   "source": [
    "Топ 10 категорий по кол-ву компаний"
   ]
  },
  {
   "cell_type": "code",
   "execution_count": 94,
   "metadata": {
    "tags": []
   },
   "outputs": [
    {
     "data": {
      "text/html": [
       "<div>\n",
       "<style scoped>\n",
       "    .dataframe tbody tr th:only-of-type {\n",
       "        vertical-align: middle;\n",
       "    }\n",
       "\n",
       "    .dataframe tbody tr th {\n",
       "        vertical-align: top;\n",
       "    }\n",
       "\n",
       "    .dataframe thead th {\n",
       "        text-align: right;\n",
       "    }\n",
       "</style>\n",
       "<table border=\"1\" class=\"dataframe\">\n",
       "  <thead>\n",
       "    <tr style=\"text-align: right;\">\n",
       "      <th></th>\n",
       "      <th>companies_count</th>\n",
       "      <th>min_price_amount</th>\n",
       "      <th>median_price_amount</th>\n",
       "      <th>max_price_amount</th>\n",
       "      <th>price range</th>\n",
       "    </tr>\n",
       "    <tr>\n",
       "      <th>category_code</th>\n",
       "      <th></th>\n",
       "      <th></th>\n",
       "      <th></th>\n",
       "      <th></th>\n",
       "      <th></th>\n",
       "    </tr>\n",
       "  </thead>\n",
       "  <tbody>\n",
       "    <tr>\n",
       "      <th>unknown</th>\n",
       "      <td>415</td>\n",
       "      <td>10000</td>\n",
       "      <td>25 000 000.00</td>\n",
       "      <td>26000000000</td>\n",
       "      <td>25999990000</td>\n",
       "    </tr>\n",
       "    <tr>\n",
       "      <th>software</th>\n",
       "      <td>399</td>\n",
       "      <td>258100</td>\n",
       "      <td>48 520 000.00</td>\n",
       "      <td>10200000000</td>\n",
       "      <td>10199741900</td>\n",
       "    </tr>\n",
       "    <tr>\n",
       "      <th>biotech</th>\n",
       "      <td>262</td>\n",
       "      <td>109000</td>\n",
       "      <td>200 000 000.00</td>\n",
       "      <td>20000000000</td>\n",
       "      <td>19999891000</td>\n",
       "    </tr>\n",
       "    <tr>\n",
       "      <th>web</th>\n",
       "      <td>254</td>\n",
       "      <td>10000</td>\n",
       "      <td>56 000 000.00</td>\n",
       "      <td>6400000000</td>\n",
       "      <td>6399990000</td>\n",
       "    </tr>\n",
       "    <tr>\n",
       "      <th>mobile</th>\n",
       "      <td>116</td>\n",
       "      <td>107000</td>\n",
       "      <td>57 500 000.00</td>\n",
       "      <td>12500000000</td>\n",
       "      <td>12499893000</td>\n",
       "    </tr>\n",
       "    <tr>\n",
       "      <th>enterprise</th>\n",
       "      <td>115</td>\n",
       "      <td>20000</td>\n",
       "      <td>53 000 000.00</td>\n",
       "      <td>13900000000</td>\n",
       "      <td>13899980000</td>\n",
       "    </tr>\n",
       "    <tr>\n",
       "      <th>advertising</th>\n",
       "      <td>83</td>\n",
       "      <td>10000</td>\n",
       "      <td>60 000 000.00</td>\n",
       "      <td>3100000000</td>\n",
       "      <td>3099990000</td>\n",
       "    </tr>\n",
       "    <tr>\n",
       "      <th>games_video</th>\n",
       "      <td>83</td>\n",
       "      <td>50000</td>\n",
       "      <td>68 000 000.00</td>\n",
       "      <td>10000000000</td>\n",
       "      <td>9999950000</td>\n",
       "    </tr>\n",
       "    <tr>\n",
       "      <th>other</th>\n",
       "      <td>78</td>\n",
       "      <td>330000</td>\n",
       "      <td>75 000 000.00</td>\n",
       "      <td>18400000000</td>\n",
       "      <td>18399670000</td>\n",
       "    </tr>\n",
       "    <tr>\n",
       "      <th>hardware</th>\n",
       "      <td>77</td>\n",
       "      <td>62000</td>\n",
       "      <td>80 000 000.00</td>\n",
       "      <td>4600000000</td>\n",
       "      <td>4599938000</td>\n",
       "    </tr>\n",
       "  </tbody>\n",
       "</table>\n",
       "</div>"
      ],
      "text/plain": [
       "               companies_count  min_price_amount  median_price_amount  \\\n",
       "category_code                                                           \n",
       "unknown                    415             10000        25 000 000.00   \n",
       "software                   399            258100        48 520 000.00   \n",
       "biotech                    262            109000       200 000 000.00   \n",
       "web                        254             10000        56 000 000.00   \n",
       "mobile                     116            107000        57 500 000.00   \n",
       "enterprise                 115             20000        53 000 000.00   \n",
       "advertising                 83             10000        60 000 000.00   \n",
       "games_video                 83             50000        68 000 000.00   \n",
       "other                       78            330000        75 000 000.00   \n",
       "hardware                    77             62000        80 000 000.00   \n",
       "\n",
       "               max_price_amount  price range  \n",
       "category_code                                 \n",
       "unknown             26000000000  25999990000  \n",
       "software            10200000000  10199741900  \n",
       "biotech             20000000000  19999891000  \n",
       "web                  6400000000   6399990000  \n",
       "mobile              12500000000  12499893000  \n",
       "enterprise          13900000000  13899980000  \n",
       "advertising          3100000000   3099990000  \n",
       "games_video         10000000000   9999950000  \n",
       "other               18400000000  18399670000  \n",
       "hardware             4600000000   4599938000  "
      ]
     },
     "execution_count": 94,
     "metadata": {},
     "output_type": "execute_result"
    }
   ],
   "source": [
    "acquired_com_stat.sort_values(by= 'companies_count', ascending =False).head(10)"
   ]
  },
  {
   "cell_type": "code",
   "execution_count": 165,
   "metadata": {
    "tags": []
   },
   "outputs": [
    {
     "data": {
      "image/png": "[encoded data removed]",
      "text/plain": [
       "<Figure size 1000x500 with 1 Axes>"
      ]
     },
     "metadata": {},
     "output_type": "display_data"
    }
   ],
   "source": [
    "plt.figure(figsize=(10,5))\n",
    "sns.barplot(data = acquired_com_stat.sort_values(by= 'companies_count', ascending =False).head(10), \n",
    "            x = 'category_code', \n",
    "            y = 'companies_count')\n",
    "plt.tick_params(axis='x', labelrotation=45)\n",
    "plt.grid(axis='y', alpha=0.7)"
   ]
  },
  {
   "cell_type": "markdown",
   "metadata": {
    "tags": []
   },
   "source": [
    "Топ 10 категорий по типичной цене"
   ]
  },
  {
   "cell_type": "code",
   "execution_count": 121,
   "metadata": {
    "tags": []
   },
   "outputs": [
    {
     "data": {
      "text/html": [
       "<div>\n",
       "<style scoped>\n",
       "    .dataframe tbody tr th:only-of-type {\n",
       "        vertical-align: middle;\n",
       "    }\n",
       "\n",
       "    .dataframe tbody tr th {\n",
       "        vertical-align: top;\n",
       "    }\n",
       "\n",
       "    .dataframe thead th {\n",
       "        text-align: right;\n",
       "    }\n",
       "</style>\n",
       "<table border=\"1\" class=\"dataframe\">\n",
       "  <thead>\n",
       "    <tr style=\"text-align: right;\">\n",
       "      <th></th>\n",
       "      <th>companies_count</th>\n",
       "      <th>min_price_amount</th>\n",
       "      <th>median_price_amount</th>\n",
       "      <th>max_price_amount</th>\n",
       "      <th>price range</th>\n",
       "    </tr>\n",
       "    <tr>\n",
       "      <th>category_code</th>\n",
       "      <th></th>\n",
       "      <th></th>\n",
       "      <th></th>\n",
       "      <th></th>\n",
       "      <th></th>\n",
       "    </tr>\n",
       "  </thead>\n",
       "  <tbody>\n",
       "    <tr>\n",
       "      <th>automotive</th>\n",
       "      <td>3</td>\n",
       "      <td>43000000</td>\n",
       "      <td>2 400 000 000.00</td>\n",
       "      <td>5200000000</td>\n",
       "      <td>5157000000</td>\n",
       "    </tr>\n",
       "    <tr>\n",
       "      <th>sports</th>\n",
       "      <td>2</td>\n",
       "      <td>260000000</td>\n",
       "      <td>622 500 000.00</td>\n",
       "      <td>985000000</td>\n",
       "      <td>725000000</td>\n",
       "    </tr>\n",
       "    <tr>\n",
       "      <th>nanotech</th>\n",
       "      <td>1</td>\n",
       "      <td>584000000</td>\n",
       "      <td>584 000 000.00</td>\n",
       "      <td>584000000</td>\n",
       "      <td>0</td>\n",
       "    </tr>\n",
       "    <tr>\n",
       "      <th>manufacturing</th>\n",
       "      <td>20</td>\n",
       "      <td>14000000</td>\n",
       "      <td>418 500 000.00</td>\n",
       "      <td>4050000000</td>\n",
       "      <td>4036000000</td>\n",
       "    </tr>\n",
       "    <tr>\n",
       "      <th>real_estate</th>\n",
       "      <td>6</td>\n",
       "      <td>3000000</td>\n",
       "      <td>400 000 000.00</td>\n",
       "      <td>6850000000</td>\n",
       "      <td>6847000000</td>\n",
       "    </tr>\n",
       "    <tr>\n",
       "      <th>transportation</th>\n",
       "      <td>3</td>\n",
       "      <td>20000000</td>\n",
       "      <td>230 000 000.00</td>\n",
       "      <td>1100000000</td>\n",
       "      <td>1080000000</td>\n",
       "    </tr>\n",
       "    <tr>\n",
       "      <th>biotech</th>\n",
       "      <td>262</td>\n",
       "      <td>109000</td>\n",
       "      <td>200 000 000.00</td>\n",
       "      <td>20000000000</td>\n",
       "      <td>19999891000</td>\n",
       "    </tr>\n",
       "    <tr>\n",
       "      <th>analytics</th>\n",
       "      <td>3</td>\n",
       "      <td>80000000</td>\n",
       "      <td>200 000 000.00</td>\n",
       "      <td>263000000</td>\n",
       "      <td>183000000</td>\n",
       "    </tr>\n",
       "    <tr>\n",
       "      <th>fashion</th>\n",
       "      <td>3</td>\n",
       "      <td>97500000</td>\n",
       "      <td>195 000 000.00</td>\n",
       "      <td>270000000</td>\n",
       "      <td>172500000</td>\n",
       "    </tr>\n",
       "    <tr>\n",
       "      <th>cleantech</th>\n",
       "      <td>38</td>\n",
       "      <td>450000</td>\n",
       "      <td>185 000 000.00</td>\n",
       "      <td>3750000000</td>\n",
       "      <td>3749550000</td>\n",
       "    </tr>\n",
       "  </tbody>\n",
       "</table>\n",
       "</div>"
      ],
      "text/plain": [
       "                companies_count  min_price_amount  median_price_amount  \\\n",
       "category_code                                                            \n",
       "automotive                    3          43000000     2 400 000 000.00   \n",
       "sports                        2         260000000       622 500 000.00   \n",
       "nanotech                      1         584000000       584 000 000.00   \n",
       "manufacturing                20          14000000       418 500 000.00   \n",
       "real_estate                   6           3000000       400 000 000.00   \n",
       "transportation                3          20000000       230 000 000.00   \n",
       "biotech                     262            109000       200 000 000.00   \n",
       "analytics                     3          80000000       200 000 000.00   \n",
       "fashion                       3          97500000       195 000 000.00   \n",
       "cleantech                    38            450000       185 000 000.00   \n",
       "\n",
       "                max_price_amount  price range  \n",
       "category_code                                  \n",
       "automotive            5200000000   5157000000  \n",
       "sports                 985000000    725000000  \n",
       "nanotech               584000000            0  \n",
       "manufacturing         4050000000   4036000000  \n",
       "real_estate           6850000000   6847000000  \n",
       "transportation        1100000000   1080000000  \n",
       "biotech              20000000000  19999891000  \n",
       "analytics              263000000    183000000  \n",
       "fashion                270000000    172500000  \n",
       "cleantech             3750000000   3749550000  "
      ]
     },
     "execution_count": 121,
     "metadata": {},
     "output_type": "execute_result"
    }
   ],
   "source": [
    "acquired_com_stat.sort_values(by= 'median_price_amount', ascending =False).head(10)"
   ]
  },
  {
   "cell_type": "code",
   "execution_count": 122,
   "metadata": {
    "tags": []
   },
   "outputs": [
    {
     "data": {
      "image/png": "[encoded data removed]",
      "text/plain": [
       "<Figure size 1000x500 with 1 Axes>"
      ]
     },
     "metadata": {},
     "output_type": "display_data"
    }
   ],
   "source": [
    "plt.figure(figsize=(10,5))\n",
    "sns.barplot(data = acquired_com_stat.sort_values(by= 'median_price_amount', ascending =False).head(10), \n",
    "            x = 'category_code', \n",
    "            y = 'median_price_amount')\n",
    "plt.tick_params(axis='x', labelrotation=45)\n",
    "plt.grid(axis='y', alpha=0.7)"
   ]
  },
  {
   "cell_type": "markdown",
   "metadata": {
    "tags": []
   },
   "source": [
    "Топ 10 категорий по разбросу цен"
   ]
  },
  {
   "cell_type": "code",
   "execution_count": 123,
   "metadata": {
    "tags": []
   },
   "outputs": [
    {
     "data": {
      "text/html": [
       "<div>\n",
       "<style scoped>\n",
       "    .dataframe tbody tr th:only-of-type {\n",
       "        vertical-align: middle;\n",
       "    }\n",
       "\n",
       "    .dataframe tbody tr th {\n",
       "        vertical-align: top;\n",
       "    }\n",
       "\n",
       "    .dataframe thead th {\n",
       "        text-align: right;\n",
       "    }\n",
       "</style>\n",
       "<table border=\"1\" class=\"dataframe\">\n",
       "  <thead>\n",
       "    <tr style=\"text-align: right;\">\n",
       "      <th></th>\n",
       "      <th>companies_count</th>\n",
       "      <th>min_price_amount</th>\n",
       "      <th>median_price_amount</th>\n",
       "      <th>max_price_amount</th>\n",
       "      <th>price range</th>\n",
       "    </tr>\n",
       "    <tr>\n",
       "      <th>category_code</th>\n",
       "      <th></th>\n",
       "      <th></th>\n",
       "      <th></th>\n",
       "      <th></th>\n",
       "      <th></th>\n",
       "    </tr>\n",
       "  </thead>\n",
       "  <tbody>\n",
       "    <tr>\n",
       "      <th>public_relations</th>\n",
       "      <td>72</td>\n",
       "      <td>25000</td>\n",
       "      <td>110 000 000.00</td>\n",
       "      <td>39000000000</td>\n",
       "      <td>38999975000</td>\n",
       "    </tr>\n",
       "    <tr>\n",
       "      <th>unknown</th>\n",
       "      <td>415</td>\n",
       "      <td>10000</td>\n",
       "      <td>25 000 000.00</td>\n",
       "      <td>26000000000</td>\n",
       "      <td>25999990000</td>\n",
       "    </tr>\n",
       "    <tr>\n",
       "      <th>biotech</th>\n",
       "      <td>262</td>\n",
       "      <td>109000</td>\n",
       "      <td>200 000 000.00</td>\n",
       "      <td>20000000000</td>\n",
       "      <td>19999891000</td>\n",
       "    </tr>\n",
       "    <tr>\n",
       "      <th>other</th>\n",
       "      <td>78</td>\n",
       "      <td>330000</td>\n",
       "      <td>75 000 000.00</td>\n",
       "      <td>18400000000</td>\n",
       "      <td>18399670000</td>\n",
       "    </tr>\n",
       "    <tr>\n",
       "      <th>enterprise</th>\n",
       "      <td>115</td>\n",
       "      <td>20000</td>\n",
       "      <td>53 000 000.00</td>\n",
       "      <td>13900000000</td>\n",
       "      <td>13899980000</td>\n",
       "    </tr>\n",
       "    <tr>\n",
       "      <th>mobile</th>\n",
       "      <td>116</td>\n",
       "      <td>107000</td>\n",
       "      <td>57 500 000.00</td>\n",
       "      <td>12500000000</td>\n",
       "      <td>12499893000</td>\n",
       "    </tr>\n",
       "    <tr>\n",
       "      <th>software</th>\n",
       "      <td>399</td>\n",
       "      <td>258100</td>\n",
       "      <td>48 520 000.00</td>\n",
       "      <td>10200000000</td>\n",
       "      <td>10199741900</td>\n",
       "    </tr>\n",
       "    <tr>\n",
       "      <th>games_video</th>\n",
       "      <td>83</td>\n",
       "      <td>50000</td>\n",
       "      <td>68 000 000.00</td>\n",
       "      <td>10000000000</td>\n",
       "      <td>9999950000</td>\n",
       "    </tr>\n",
       "    <tr>\n",
       "      <th>security</th>\n",
       "      <td>35</td>\n",
       "      <td>1850000</td>\n",
       "      <td>164 500 000.00</td>\n",
       "      <td>7680000000</td>\n",
       "      <td>7678150000</td>\n",
       "    </tr>\n",
       "    <tr>\n",
       "      <th>real_estate</th>\n",
       "      <td>6</td>\n",
       "      <td>3000000</td>\n",
       "      <td>400 000 000.00</td>\n",
       "      <td>6850000000</td>\n",
       "      <td>6847000000</td>\n",
       "    </tr>\n",
       "  </tbody>\n",
       "</table>\n",
       "</div>"
      ],
      "text/plain": [
       "                  companies_count  min_price_amount  median_price_amount  \\\n",
       "category_code                                                              \n",
       "public_relations               72             25000       110 000 000.00   \n",
       "unknown                       415             10000        25 000 000.00   \n",
       "biotech                       262            109000       200 000 000.00   \n",
       "other                          78            330000        75 000 000.00   \n",
       "enterprise                    115             20000        53 000 000.00   \n",
       "mobile                        116            107000        57 500 000.00   \n",
       "software                      399            258100        48 520 000.00   \n",
       "games_video                    83             50000        68 000 000.00   \n",
       "security                       35           1850000       164 500 000.00   \n",
       "real_estate                     6           3000000       400 000 000.00   \n",
       "\n",
       "                  max_price_amount  price range  \n",
       "category_code                                    \n",
       "public_relations       39000000000  38999975000  \n",
       "unknown                26000000000  25999990000  \n",
       "biotech                20000000000  19999891000  \n",
       "other                  18400000000  18399670000  \n",
       "enterprise             13900000000  13899980000  \n",
       "mobile                 12500000000  12499893000  \n",
       "software               10200000000  10199741900  \n",
       "games_video            10000000000   9999950000  \n",
       "security                7680000000   7678150000  \n",
       "real_estate             6850000000   6847000000  "
      ]
     },
     "execution_count": 123,
     "metadata": {},
     "output_type": "execute_result"
    }
   ],
   "source": [
    "acquired_com_stat.sort_values(by= 'price range', ascending =False).head(10)"
   ]
  },
  {
   "cell_type": "code",
   "execution_count": 124,
   "metadata": {
    "tags": []
   },
   "outputs": [
    {
     "data": {
      "image/png": "[encoded data removed]",
      "text/plain": [
       "<Figure size 1000x500 with 1 Axes>"
      ]
     },
     "metadata": {},
     "output_type": "display_data"
    }
   ],
   "source": [
    "plt.figure(figsize=(10,5))\n",
    "sns.barplot(data = acquired_com_stat.sort_values(by= 'price range', ascending =False).head(10), \n",
    "            x = 'category_code', \n",
    "            y = 'price range')\n",
    "plt.tick_params(axis='x', labelrotation=45)\n",
    "plt.grid(axis='y', alpha=0.7)"
   ]
  },
  {
   "cell_type": "markdown",
   "metadata": {
    "id": "ADOfyVY_rJg3"
   },
   "source": [
    "\n",
    "### 3.5. Сколько раундов продержится стартап перед покупкой\n",
    "\n",
    "- Необходимо проанализировать столбец `funding_rounds`. Исследуйте значения столбца. Заказчика интересует типичное значение количества раундов для каждого возможного статуса стартапа.\n",
    "- Постройте график, который отображает, сколько в среднем раундов финансирования проходило для стартапов из каждой группы. Сделайте выводы."
   ]
  },
  {
   "cell_type": "code",
   "execution_count": 126,
   "metadata": {
    "id": "hgXMPC4WrJg3",
    "tags": [],
    "vscode": {
     "languageId": "plaintext"
    }
   },
   "outputs": [
    {
     "data": {
      "text/plain": [
       "array(['operating', 'acquired', 'closed', 'ipo'], dtype=object)"
      ]
     },
     "execution_count": 126,
     "metadata": {},
     "output_type": "execute_result"
    }
   ],
   "source": [
    "filtered_companies.status.unique()"
   ]
  },
  {
   "cell_type": "code",
   "execution_count": 127,
   "metadata": {
    "id": "pV3e7kw5Fj1Y",
    "tags": []
   },
   "outputs": [
    {
     "data": {
      "text/plain": [
       "array([ 3.,  0.,  1.,  5.,  2.,  7.,  4.,  6.,  8., 10.,  9., 13., 11.,\n",
       "       15., 14., 12.])"
      ]
     },
     "execution_count": 127,
     "metadata": {},
     "output_type": "execute_result"
    }
   ],
   "source": [
    "filtered_companies.funding_rounds.unique()"
   ]
  },
  {
   "cell_type": "code",
   "execution_count": 131,
   "metadata": {
    "tags": []
   },
   "outputs": [
    {
     "data": {
      "text/plain": [
       "count   40 747.00\n",
       "mean         1.29\n",
       "std          1.26\n",
       "min          0.00\n",
       "25%          1.00\n",
       "50%          1.00\n",
       "75%          2.00\n",
       "max         15.00\n",
       "Name: funding_rounds, dtype: float64"
      ]
     },
     "execution_count": 131,
     "metadata": {},
     "output_type": "execute_result"
    }
   ],
   "source": [
    "filtered_companies.funding_rounds.describe()"
   ]
  },
  {
   "cell_type": "code",
   "execution_count": 134,
   "metadata": {
    "tags": []
   },
   "outputs": [
    {
     "data": {
      "text/plain": [
       "1.00     20534\n",
       "0.00      9040\n",
       "2.00      6142\n",
       "3.00      2662\n",
       "4.00      1216\n",
       "5.00       600\n",
       "6.00       249\n",
       "7.00       147\n",
       "8.00        67\n",
       "9.00        46\n",
       "10.00       23\n",
       "11.00       10\n",
       "13.00        5\n",
       "12.00        3\n",
       "15.00        2\n",
       "14.00        1\n",
       "Name: funding_rounds, dtype: int64"
      ]
     },
     "execution_count": 134,
     "metadata": {},
     "output_type": "execute_result"
    }
   ],
   "source": [
    "filtered_companies.funding_rounds.value_counts()"
   ]
  },
  {
   "cell_type": "code",
   "execution_count": 129,
   "metadata": {
    "tags": []
   },
   "outputs": [
    {
     "data": {
      "text/html": [
       "<div>\n",
       "<style scoped>\n",
       "    .dataframe tbody tr th:only-of-type {\n",
       "        vertical-align: middle;\n",
       "    }\n",
       "\n",
       "    .dataframe tbody tr th {\n",
       "        vertical-align: top;\n",
       "    }\n",
       "\n",
       "    .dataframe thead th {\n",
       "        text-align: right;\n",
       "    }\n",
       "</style>\n",
       "<table border=\"1\" class=\"dataframe\">\n",
       "  <thead>\n",
       "    <tr style=\"text-align: right;\">\n",
       "      <th></th>\n",
       "      <th>funding_rounds</th>\n",
       "    </tr>\n",
       "    <tr>\n",
       "      <th>status</th>\n",
       "      <th></th>\n",
       "    </tr>\n",
       "  </thead>\n",
       "  <tbody>\n",
       "    <tr>\n",
       "      <th>acquired</th>\n",
       "      <td>0.52</td>\n",
       "    </tr>\n",
       "    <tr>\n",
       "      <th>closed</th>\n",
       "      <td>1.38</td>\n",
       "    </tr>\n",
       "    <tr>\n",
       "      <th>ipo</th>\n",
       "      <td>1.93</td>\n",
       "    </tr>\n",
       "    <tr>\n",
       "      <th>operating</th>\n",
       "      <td>1.52</td>\n",
       "    </tr>\n",
       "  </tbody>\n",
       "</table>\n",
       "</div>"
      ],
      "text/plain": [
       "           funding_rounds\n",
       "status                   \n",
       "acquired             0.52\n",
       "closed               1.38\n",
       "ipo                  1.93\n",
       "operating            1.52"
      ]
     },
     "execution_count": 129,
     "metadata": {},
     "output_type": "execute_result"
    }
   ],
   "source": [
    "filtered_companies.groupby('status')[['funding_rounds']].mean()"
   ]
  },
  {
   "cell_type": "code",
   "execution_count": 167,
   "metadata": {
    "tags": []
   },
   "outputs": [
    {
     "data": {
      "text/plain": [
       "<Axes: xlabel='funding_rounds'>"
      ]
     },
     "execution_count": 167,
     "metadata": {},
     "output_type": "execute_result"
    },
    {
     "data": {
      "image/png": "[encoded data removed]",
      "text/plain": [
       "<Figure size 800x400 with 1 Axes>"
      ]
     },
     "metadata": {},
     "output_type": "display_data"
    }
   ],
   "source": [
    "plt.figure(figsize=(8,4))\n",
    "sns.boxplot(data = filtered_companies, x = 'funding_rounds')"
   ]
  },
  {
   "cell_type": "code",
   "execution_count": 168,
   "metadata": {
    "tags": []
   },
   "outputs": [
    {
     "data": {
      "text/plain": [
       "<Axes: xlabel='status', ylabel='funding_rounds'>"
      ]
     },
     "execution_count": 168,
     "metadata": {},
     "output_type": "execute_result"
    },
    {
     "data": {
      "image/png": "[encoded data removed]",
      "text/plain": [
       "<Figure size 800x400 with 1 Axes>"
      ]
     },
     "metadata": {},
     "output_type": "display_data"
    }
   ],
   "source": [
    "plt.figure(figsize=(8,4))\n",
    "sns.barplot(data = filtered_companies, x= 'status', y = 'funding_rounds')"
   ]
  },
  {
   "cell_type": "markdown",
   "metadata": {
    "id": "VAFEZ2HBrJg3"
   },
   "source": [
    "\n",
    "## Шаг 4. Итоговый вывод и рекомендации\n",
    "\n",
    "Опишите, что было сделано в проекте, какие были сделаны выводы, подкрепляют ли они друг друга или заставляют сомневаться в полученных результатах."
   ]
  },
  {
   "cell_type": "markdown",
   "metadata": {
    "tags": []
   },
   "source": [
    "<div class=\"alert alert-info\"> <b> Выводы и гипотезы оформлю после ревью. Хочу понять, в правильном ли направлении вообще двигаюсь)</b></div>"
   ]
  }
 ],
 "metadata": {
  "ExecuteTimeLog": [
   {
    "duration": 1194,
    "start_time": "2025-05-13T17:14:56.988Z"
   },
   {
    "duration": 1916,
    "start_time": "2025-05-13T17:14:58.184Z"
   },
   {
    "duration": 15,
    "start_time": "2025-05-13T17:15:00.101Z"
   },
   {
    "duration": 123,
    "start_time": "2025-05-13T17:15:00.118Z"
   },
   {
    "duration": 20,
    "start_time": "2025-05-13T17:15:00.245Z"
   },
   {
    "duration": 41,
    "start_time": "2025-05-13T17:15:00.267Z"
   },
   {
    "duration": 197,
    "start_time": "2025-05-13T17:15:00.310Z"
   },
   {
    "duration": 21,
    "start_time": "2025-05-13T17:15:00.509Z"
   },
   {
    "duration": 60,
    "start_time": "2025-05-13T17:15:00.531Z"
   },
   {
    "duration": 204,
    "start_time": "2025-05-13T17:15:00.594Z"
   },
   {
    "duration": 22,
    "start_time": "2025-05-13T17:15:00.800Z"
   },
   {
    "duration": 32,
    "start_time": "2025-05-13T17:15:00.824Z"
   },
   {
    "duration": 44,
    "start_time": "2025-05-13T17:15:00.858Z"
   },
   {
    "duration": 97,
    "start_time": "2025-05-13T17:15:00.903Z"
   },
   {
    "duration": 9,
    "start_time": "2025-05-13T17:15:01.002Z"
   },
   {
    "duration": 23,
    "start_time": "2025-05-13T17:15:01.013Z"
   },
   {
    "duration": 54,
    "start_time": "2025-05-13T17:15:01.038Z"
   },
   {
    "duration": 18,
    "start_time": "2025-05-13T17:15:01.094Z"
   },
   {
    "duration": 67,
    "start_time": "2025-05-13T17:15:01.114Z"
   },
   {
    "duration": 8,
    "start_time": "2025-05-13T17:15:01.183Z"
   },
   {
    "duration": 235,
    "start_time": "2025-05-13T17:15:01.193Z"
   },
   {
    "duration": 199,
    "start_time": "2025-05-13T17:15:01.430Z"
   },
   {
    "duration": 135,
    "start_time": "2025-05-13T17:15:01.631Z"
   },
   {
    "duration": 60,
    "start_time": "2025-05-13T17:15:01.767Z"
   },
   {
    "duration": 325,
    "start_time": "2025-05-13T17:15:01.829Z"
   },
   {
    "duration": 60,
    "start_time": "2025-05-13T17:15:02.156Z"
   },
   {
    "duration": 19,
    "start_time": "2025-05-13T17:15:02.218Z"
   },
   {
    "duration": 132,
    "start_time": "2025-05-13T17:15:02.241Z"
   },
   {
    "duration": 181,
    "start_time": "2025-05-13T17:15:02.375Z"
   },
   {
    "duration": 201,
    "start_time": "2025-05-13T17:15:02.558Z"
   },
   {
    "duration": 12,
    "start_time": "2025-05-13T17:15:02.761Z"
   },
   {
    "duration": 316,
    "start_time": "2025-05-13T17:15:02.774Z"
   },
   {
    "duration": 70,
    "start_time": "2025-05-13T17:15:03.092Z"
   },
   {
    "duration": 83,
    "start_time": "2025-05-13T17:15:03.165Z"
   },
   {
    "duration": 24,
    "start_time": "2025-05-13T17:15:03.250Z"
   },
   {
    "duration": 33,
    "start_time": "2025-05-13T17:15:03.276Z"
   },
   {
    "duration": 123,
    "start_time": "2025-05-13T17:15:03.311Z"
   },
   {
    "duration": 6,
    "start_time": "2025-05-13T17:15:03.436Z"
   },
   {
    "duration": 36,
    "start_time": "2025-05-13T17:15:03.444Z"
   },
   {
    "duration": 264,
    "start_time": "2025-05-13T17:15:03.482Z"
   },
   {
    "duration": 148,
    "start_time": "2025-05-13T17:15:03.749Z"
   },
   {
    "duration": 106,
    "start_time": "2025-05-13T17:15:03.899Z"
   },
   {
    "duration": 165,
    "start_time": "2025-05-13T17:15:04.007Z"
   },
   {
    "duration": 103,
    "start_time": "2025-05-13T17:15:04.174Z"
   },
   {
    "duration": 72,
    "start_time": "2025-05-13T17:15:04.279Z"
   },
   {
    "duration": 15,
    "start_time": "2025-05-13T17:15:04.352Z"
   }
  ],
  "colab": {
   "provenance": []
  },
  "kernelspec": {
   "display_name": "Python 3 (ipykernel)",
   "language": "python",
   "name": "python3"
  },
  "language_info": {
   "codemirror_mode": {
    "name": "ipython",
    "version": 3
   },
   "file_extension": ".py",
   "mimetype": "text/x-python",
   "name": "python",
   "nbconvert_exporter": "python",
   "pygments_lexer": "ipython3",
   "version": "3.11.11"
  },
  "toc": {
   "base_numbering": 1,
   "nav_menu": {},
   "number_sections": true,
   "sideBar": true,
   "skip_h1_title": true,
   "title_cell": "Table of Contents",
   "title_sidebar": "Contents",
   "toc_cell": false,
   "toc_position": {},
   "toc_section_display": true,
   "toc_window_display": true
  }
 },
 "nbformat": 4,
 "nbformat_minor": 4
}
