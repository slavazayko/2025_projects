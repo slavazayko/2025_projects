{
 "cells": [
  {
   "cell_type": "markdown",
   "id": "e06910dd",
   "metadata": {
    "id": "e06910dd",
    "slideshow": {
     "slide_type": ""
    },
    "tags": []
   },
   "source": [
    "# Исследование игровой индустрии с 2000 по 2013 год\n",
    "\n",
    "Автор: Вячеслав Зайко  \n",
    "Дата: 30.03.2025"
   ]
  },
  {
   "cell_type": "markdown",
   "id": "4149134c",
   "metadata": {
    "id": "4149134c",
    "slideshow": {
     "slide_type": ""
    },
    "tags": []
   },
   "source": [
    "### Цели и задачи проекта\n",
    "Цель проекта: изучить развитие игровой индустрии с 2000 по 2013 год для подготовки статьи, направленной на привлечение новой аудитории в игру «Секреты Темнолесья».\n",
    "\n",
    "В ходе исследование предстоит сделать обзор игровых платформ, изучить объёмы продаж игр разных жанров с акцентом на RPG и региональные предпочтения игроков. "
   ]
  },
  {
   "cell_type": "markdown",
   "id": "b712a9d8-c0c1-41d5-9e9e-4ac527b1af39",
   "metadata": {
    "id": "728986ea",
    "slideshow": {
     "slide_type": ""
    },
    "tags": []
   },
   "source": [
    "### Описание данных\n",
    "\n",
    "В проекте используются исторические данные из открытых источников. Датасет `/datasets/new_games.csv` содержит информацию о продажах игр разных жанров и платформ, а также пользовательские и экспертные оценки игр:\n",
    "\n",
    "`Name` — название игры. <br> `Platform` — название платформы.  \n",
    "`Year of Release` — год выпуска игры.  \n",
    "`Genre` — жанр игры.  \n",
    "`NA sales` — продажи в Северной Америке (в миллионах проданных копий).  \n",
    "`EU sales` — продажи в Европе (в миллионах проданных копий).  \n",
    "`JP sales` — продажи в Японии (в миллионах проданных копий).  \n",
    "`Other sales` — продажи в других странах (в миллионах проданных копий).  \n",
    "`Critic Score` — оценка критиков (от 0 до 100).  \n",
    "`User Score` — оценка пользователей (от 0 до 10).  \n",
    "`Rating` — рейтинг организации ESRB (англ. Entertainment Software Rating Board). Эта ассоциация определяет рейтинг компьютерных игр и присваивает им подходящую возрастную категорию."
   ]
  },
  {
   "cell_type": "markdown",
   "id": "4fecaf95",
   "metadata": {
    "id": "4fecaf95",
    "slideshow": {
     "slide_type": ""
    },
    "tags": []
   },
   "source": [
    "### Оглавление проекта\n",
    "\n",
    "#### Основные разделы\n",
    "- [Цели и задачи проекта](#цели-и-задачи-проекта)\n",
    "- [Описание данных](#описание-данных)\n",
    "\n",
    "#### Этапы работы\n",
    "1. [Загрузка данных и знакомство с ними](#1-загрузка-данных-и-знакомство-с-ними)\n",
    "2. [Проверка ошибок в данных и их предобработка](#2-проверка-ошибок-в-данных-и-их-предобработка)\n",
    "   - [2.1 Названия столбцов датафрейма](#21-названия-или-метки-столбцов-датафрейма)\n",
    "   - [2.2 Типы данных](#22-типы-данных)\n",
    "   - [2.3 Наличие пропусков в данных](#23-наличие-пропусков-в-данных)\n",
    "   - [2.4 Обработка пропусков](#24-обработка-пропусков)\n",
    "   - [2.5 Явные и неявные дубликаты в данных](#25-явные-и-неявные-дубликаты-в-данных)\n",
    "   - [2.6 Общий промежуточный вывод по итогам предобработки данных](#26-общий-промежуточный-вывод-по-итогам-предобработки-данных)\n",
    "3. [Фильтрация данных](#3-фильтрация-данных)\n",
    "4. [Категоризация данных](#4-категоризация-данных)\n",
    "5. [Итоговый вывод](#5-итоговый-вывод)"
   ]
  },
  {
   "cell_type": "markdown",
   "id": "6f7d21d6",
   "metadata": {
    "id": "6f7d21d6",
    "slideshow": {
     "slide_type": ""
    },
    "tags": []
   },
   "source": [
    "## Загрузка данных и знакомство с ними\n",
    "<a id=\"1-загрузка-данных-и-знакомство-с-ними\"></a>\n",
    "Загружаем необходимые библиотеки Python и данные датасета `/datasets/new_games.csv`.\n"
   ]
  },
  {
   "cell_type": "code",
   "execution_count": 1,
   "id": "ebb66dc5",
   "metadata": {
    "id": "ebb66dc5"
   },
   "outputs": [],
   "source": [
    "import pandas as pd\n",
    "import warnings\n",
    "warnings.filterwarnings('ignore')"
   ]
  },
  {
   "cell_type": "code",
   "execution_count": 2,
   "id": "ce87c1db",
   "metadata": {
    "id": "ce87c1db"
   },
   "outputs": [],
   "source": [
    "df = pd.DataFrame(pd.read_csv(\"https://code.s3.yandex.net/datasets/new_games.csv\"))"
   ]
  },
  {
   "cell_type": "markdown",
   "id": "e0a8705f",
   "metadata": {
    "id": "e0a8705f"
   },
   "source": [
    "Выводим первые строки и общую информацию о датафрейме.\n"
   ]
  },
  {
   "cell_type": "code",
   "execution_count": 3,
   "id": "3937acf7",
   "metadata": {
    "id": "3937acf7"
   },
   "outputs": [
    {
     "data": {
      "text/html": [
       "<div>\n",
       "<style scoped>\n",
       "    .dataframe tbody tr th:only-of-type {\n",
       "        vertical-align: middle;\n",
       "    }\n",
       "\n",
       "    .dataframe tbody tr th {\n",
       "        vertical-align: top;\n",
       "    }\n",
       "\n",
       "    .dataframe thead th {\n",
       "        text-align: right;\n",
       "    }\n",
       "</style>\n",
       "<table border=\"1\" class=\"dataframe\">\n",
       "  <thead>\n",
       "    <tr style=\"text-align: right;\">\n",
       "      <th></th>\n",
       "      <th>Name</th>\n",
       "      <th>Platform</th>\n",
       "      <th>Year of Release</th>\n",
       "      <th>Genre</th>\n",
       "      <th>NA sales</th>\n",
       "      <th>EU sales</th>\n",
       "      <th>JP sales</th>\n",
       "      <th>Other sales</th>\n",
       "      <th>Critic Score</th>\n",
       "      <th>User Score</th>\n",
       "      <th>Rating</th>\n",
       "    </tr>\n",
       "  </thead>\n",
       "  <tbody>\n",
       "    <tr>\n",
       "      <th>0</th>\n",
       "      <td>Wii Sports</td>\n",
       "      <td>Wii</td>\n",
       "      <td>2006.0</td>\n",
       "      <td>Sports</td>\n",
       "      <td>41.36</td>\n",
       "      <td>28.96</td>\n",
       "      <td>3.77</td>\n",
       "      <td>8.45</td>\n",
       "      <td>76.0</td>\n",
       "      <td>8</td>\n",
       "      <td>E</td>\n",
       "    </tr>\n",
       "    <tr>\n",
       "      <th>1</th>\n",
       "      <td>Super Mario Bros.</td>\n",
       "      <td>NES</td>\n",
       "      <td>1985.0</td>\n",
       "      <td>Platform</td>\n",
       "      <td>29.08</td>\n",
       "      <td>3.58</td>\n",
       "      <td>6.81</td>\n",
       "      <td>0.77</td>\n",
       "      <td>NaN</td>\n",
       "      <td>NaN</td>\n",
       "      <td>NaN</td>\n",
       "    </tr>\n",
       "    <tr>\n",
       "      <th>2</th>\n",
       "      <td>Mario Kart Wii</td>\n",
       "      <td>Wii</td>\n",
       "      <td>2008.0</td>\n",
       "      <td>Racing</td>\n",
       "      <td>15.68</td>\n",
       "      <td>12.76</td>\n",
       "      <td>3.79</td>\n",
       "      <td>3.29</td>\n",
       "      <td>82.0</td>\n",
       "      <td>8.3</td>\n",
       "      <td>E</td>\n",
       "    </tr>\n",
       "    <tr>\n",
       "      <th>3</th>\n",
       "      <td>Wii Sports Resort</td>\n",
       "      <td>Wii</td>\n",
       "      <td>2009.0</td>\n",
       "      <td>Sports</td>\n",
       "      <td>15.61</td>\n",
       "      <td>10.93</td>\n",
       "      <td>3.28</td>\n",
       "      <td>2.95</td>\n",
       "      <td>80.0</td>\n",
       "      <td>8</td>\n",
       "      <td>E</td>\n",
       "    </tr>\n",
       "    <tr>\n",
       "      <th>4</th>\n",
       "      <td>Pokemon Red/Pokemon Blue</td>\n",
       "      <td>GB</td>\n",
       "      <td>1996.0</td>\n",
       "      <td>Role-Playing</td>\n",
       "      <td>11.27</td>\n",
       "      <td>8.89</td>\n",
       "      <td>10.22</td>\n",
       "      <td>1.00</td>\n",
       "      <td>NaN</td>\n",
       "      <td>NaN</td>\n",
       "      <td>NaN</td>\n",
       "    </tr>\n",
       "  </tbody>\n",
       "</table>\n",
       "</div>"
      ],
      "text/plain": [
       "                       Name Platform  Year of Release         Genre  NA sales  \\\n",
       "0                Wii Sports      Wii           2006.0        Sports     41.36   \n",
       "1         Super Mario Bros.      NES           1985.0      Platform     29.08   \n",
       "2            Mario Kart Wii      Wii           2008.0        Racing     15.68   \n",
       "3         Wii Sports Resort      Wii           2009.0        Sports     15.61   \n",
       "4  Pokemon Red/Pokemon Blue       GB           1996.0  Role-Playing     11.27   \n",
       "\n",
       "  EU sales JP sales  Other sales  Critic Score User Score Rating  \n",
       "0    28.96     3.77         8.45          76.0          8      E  \n",
       "1     3.58     6.81         0.77           NaN        NaN    NaN  \n",
       "2    12.76     3.79         3.29          82.0        8.3      E  \n",
       "3    10.93     3.28         2.95          80.0          8      E  \n",
       "4     8.89    10.22         1.00           NaN        NaN    NaN  "
      ]
     },
     "execution_count": 3,
     "metadata": {},
     "output_type": "execute_result"
    }
   ],
   "source": [
    "df.head()"
   ]
  },
  {
   "cell_type": "code",
   "execution_count": 4,
   "id": "d7c8eb4b",
   "metadata": {
    "id": "d7c8eb4b",
    "scrolled": true
   },
   "outputs": [
    {
     "name": "stdout",
     "output_type": "stream",
     "text": [
      "<class 'pandas.core.frame.DataFrame'>\n",
      "RangeIndex: 16956 entries, 0 to 16955\n",
      "Data columns (total 11 columns):\n",
      " #   Column           Non-Null Count  Dtype  \n",
      "---  ------           --------------  -----  \n",
      " 0   Name             16954 non-null  object \n",
      " 1   Platform         16956 non-null  object \n",
      " 2   Year of Release  16681 non-null  float64\n",
      " 3   Genre            16954 non-null  object \n",
      " 4   NA sales         16956 non-null  float64\n",
      " 5   EU sales         16956 non-null  object \n",
      " 6   JP sales         16956 non-null  object \n",
      " 7   Other sales      16956 non-null  float64\n",
      " 8   Critic Score     8242 non-null   float64\n",
      " 9   User Score       10152 non-null  object \n",
      " 10  Rating           10085 non-null  object \n",
      "dtypes: float64(4), object(7)\n",
      "memory usage: 1.4+ MB\n"
     ]
    }
   ],
   "source": [
    "df.info()\n",
    "initial_num_of_rows = df.shape[0]"
   ]
  },
  {
   "cell_type": "markdown",
   "id": "4eb640a1-bfe8-4553-a817-bc09597ed4ab",
   "metadata": {
    "id": "fc561cac"
   },
   "source": [
    "Исследуемый датафрейм состоит из 16956 строк и 11 столбцов, наименование колонок и значения в них соответвуют описанию. В 6 из 11 столбцов встречаются пропуски, больше всего их в колонках с оценками игры и ее рейтингом организации ESRB.\n",
    "\n",
    "Текстовые данные в столбцах `Name`, `Platform`, `Genre`, `Rating` корректно представлены типом `object`. А данные в столбцах `EU sales`, `JP sales` необходимо преобразовать в числовой тип данных для дальнейшего анализа. Данные в столбце `Year of Release` рекомендуется привести к целочесленному типу для удобства отображения."
   ]
  },
  {
   "cell_type": "markdown",
   "id": "774bf76e",
   "metadata": {
    "id": "774bf76e",
    "slideshow": {
     "slide_type": ""
    },
    "tags": []
   },
   "source": [
    "---\n",
    "\n",
    "## Проверка ошибок в данных и их предобработка\n",
    "\n",
    "\n",
    "### Названия столбцов датафрейма\n",
    "\n",
    "Выводим на экран названия всех столбцов датафрейма."
   ]
  },
  {
   "cell_type": "code",
   "execution_count": 5,
   "id": "b9276a2b",
   "metadata": {
    "id": "b9276a2b"
   },
   "outputs": [
    {
     "name": "stdout",
     "output_type": "stream",
     "text": [
      "Name, Platform, Year of Release, Genre, NA sales, EU sales, JP sales, Other sales, Critic Score, User Score, Rating\n"
     ]
    }
   ],
   "source": [
    "print(\", \".join(df.columns))"
   ]
  },
  {
   "cell_type": "markdown",
   "id": "2f506111-b2df-4896-abff-516868ba5079",
   "metadata": {
    "id": "d554563c"
   },
   "source": [
    "Приводим все столбцы к стилю snake case и выводим новые названия столбцов."
   ]
  },
  {
   "cell_type": "code",
   "execution_count": 6,
   "id": "87b573dd",
   "metadata": {
    "id": "87b573dd"
   },
   "outputs": [
    {
     "name": "stdout",
     "output_type": "stream",
     "text": [
      "name, platform, year_of_release, genre, na_sales, eu_sales, jp_sales, other_sales, critic_score, user_score, rating\n"
     ]
    }
   ],
   "source": [
    "df.columns = df.columns.str.lower()\n",
    "df.columns = df.columns.str.replace(' ', '_')\n",
    "print(\", \".join(df.columns))"
   ]
  },
  {
   "cell_type": "markdown",
   "id": "41bc6bf8",
   "metadata": {
    "id": "41bc6bf8",
    "slideshow": {
     "slide_type": ""
    },
    "tags": []
   },
   "source": [
    "### Типы данных\n",
    "\n",
    "Преобразуем данные из столбцов `eu_sales`, `jp_sales` в числовой тип. Выводим информацию о типах данных каждого столбца."
   ]
  },
  {
   "cell_type": "code",
   "execution_count": 7,
   "id": "8adaac81",
   "metadata": {
    "id": "8adaac81"
   },
   "outputs": [
    {
     "data": {
      "text/plain": [
       "name                object\n",
       "platform            object\n",
       "year_of_release    float64\n",
       "genre               object\n",
       "na_sales           float64\n",
       "eu_sales           float64\n",
       "jp_sales           float64\n",
       "other_sales        float64\n",
       "critic_score       float64\n",
       "user_score          object\n",
       "rating              object\n",
       "dtype: object"
      ]
     },
     "execution_count": 7,
     "metadata": {},
     "output_type": "execute_result"
    }
   ],
   "source": [
    "df[['eu_sales', 'jp_sales']] = df[['eu_sales', 'jp_sales']].apply(pd.to_numeric, errors='coerce')\n",
    "df.dtypes"
   ]
  },
  {
   "cell_type": "markdown",
   "id": "b39893cb",
   "metadata": {
    "id": "b39893cb"
   },
   "source": [
    "### Наличие пропусков в данных\n",
    "\n",
    "Посчитаем количество пропусков в каждом столбце в абсолютных и относительных значениях.\n"
   ]
  },
  {
   "cell_type": "code",
   "execution_count": 8,
   "id": "0f1c91a8",
   "metadata": {
    "id": "0f1c91a8"
   },
   "outputs": [
    {
     "data": {
      "text/html": [
       "<div>\n",
       "<style scoped>\n",
       "    .dataframe tbody tr th:only-of-type {\n",
       "        vertical-align: middle;\n",
       "    }\n",
       "\n",
       "    .dataframe tbody tr th {\n",
       "        vertical-align: top;\n",
       "    }\n",
       "\n",
       "    .dataframe thead th {\n",
       "        text-align: right;\n",
       "    }\n",
       "</style>\n",
       "<table border=\"1\" class=\"dataframe\">\n",
       "  <thead>\n",
       "    <tr style=\"text-align: right;\">\n",
       "      <th></th>\n",
       "      <th>number_of_missing_values</th>\n",
       "      <th>percentage_of_missing_values(%)</th>\n",
       "    </tr>\n",
       "  </thead>\n",
       "  <tbody>\n",
       "    <tr>\n",
       "      <th>critic_score</th>\n",
       "      <td>8714</td>\n",
       "      <td>51.39</td>\n",
       "    </tr>\n",
       "    <tr>\n",
       "      <th>rating</th>\n",
       "      <td>6871</td>\n",
       "      <td>40.52</td>\n",
       "    </tr>\n",
       "    <tr>\n",
       "      <th>user_score</th>\n",
       "      <td>6804</td>\n",
       "      <td>40.13</td>\n",
       "    </tr>\n",
       "    <tr>\n",
       "      <th>year_of_release</th>\n",
       "      <td>275</td>\n",
       "      <td>1.62</td>\n",
       "    </tr>\n",
       "    <tr>\n",
       "      <th>eu_sales</th>\n",
       "      <td>6</td>\n",
       "      <td>0.04</td>\n",
       "    </tr>\n",
       "    <tr>\n",
       "      <th>jp_sales</th>\n",
       "      <td>4</td>\n",
       "      <td>0.02</td>\n",
       "    </tr>\n",
       "    <tr>\n",
       "      <th>name</th>\n",
       "      <td>2</td>\n",
       "      <td>0.01</td>\n",
       "    </tr>\n",
       "    <tr>\n",
       "      <th>genre</th>\n",
       "      <td>2</td>\n",
       "      <td>0.01</td>\n",
       "    </tr>\n",
       "    <tr>\n",
       "      <th>platform</th>\n",
       "      <td>0</td>\n",
       "      <td>0.00</td>\n",
       "    </tr>\n",
       "    <tr>\n",
       "      <th>na_sales</th>\n",
       "      <td>0</td>\n",
       "      <td>0.00</td>\n",
       "    </tr>\n",
       "    <tr>\n",
       "      <th>other_sales</th>\n",
       "      <td>0</td>\n",
       "      <td>0.00</td>\n",
       "    </tr>\n",
       "  </tbody>\n",
       "</table>\n",
       "</div>"
      ],
      "text/plain": [
       "                 number_of_missing_values  percentage_of_missing_values(%)\n",
       "critic_score                         8714                            51.39\n",
       "rating                               6871                            40.52\n",
       "user_score                           6804                            40.13\n",
       "year_of_release                       275                             1.62\n",
       "eu_sales                                6                             0.04\n",
       "jp_sales                                4                             0.02\n",
       "name                                    2                             0.01\n",
       "genre                                   2                             0.01\n",
       "platform                                0                             0.00\n",
       "na_sales                                0                             0.00\n",
       "other_sales                             0                             0.00"
      ]
     },
     "execution_count": 8,
     "metadata": {},
     "output_type": "execute_result"
    }
   ],
   "source": [
    "missing_values = pd.DataFrame({\n",
    "    'number_of_missing_values': df.isnull().sum(),\n",
    "    'percentage_of_missing_values(%)': (df.isnull().mean() * 100).round(2)\n",
    "})\n",
    "\n",
    "missing_values.sort_values(by='percentage_of_missing_values(%)', ascending=False)"
   ]
  },
  {
   "cell_type": "markdown",
   "id": "3512d905-8e55-4397-9f5d-a4c0f16815d1",
   "metadata": {
    "id": "86cd1cc1"
   },
   "source": [
    "Максимальное количество пропусков наблюдается в столбцах `user_score`, `critic_score` и `rating`. Можно предположить, что для игр с пропусками значений в столбцах с пользовательским рейтингом и с рейтингом критиков не был определен достоверный источник данных, либо рейтинг отсутствует в связи с низкой популярностью этих игр.\n",
    "\n",
    "Предположительные причины пропусков в солбце с рейтингом ESRB: \n",
    "\n",
    "- Игра вышла только в цифровом формате либо она распространяется вне официальных платформ, поэтому разработчики могли не подавать её на рейтинг.\n",
    "- Игра не предназначена для продажи в Северной Америке. ESRB — это американская система рейтингов. Если игра издаётся только в других странах, у неё не будет рейтинга ESRB.\n",
    "- Игра бесплатная или некоммерческая. Некоторые бесплатные, фанатские или образовательные игры не проходят официальную классификацию, так как не требуют её для распространения."
   ]
  },
  {
   "cell_type": "markdown",
   "id": "0de8979d-b3f3-45da-91a7-e5d5f64a84e6",
   "metadata": {
    "id": "247a6cf7"
   },
   "source": [
    "### Обработка пропусков"
   ]
  },
  {
   "cell_type": "markdown",
   "id": "16863ad8-111b-4833-b937-58b993aa187a",
   "metadata": {},
   "source": [
    "Перед обработкой пропусков ознакомимся с уникальными значениями в столбцах `critic_score, user_score, rating`."
   ]
  },
  {
   "cell_type": "code",
   "execution_count": 9,
   "id": "4dccd21a-2567-4251-a8e8-fdf1576b72e4",
   "metadata": {},
   "outputs": [
    {
     "data": {
      "text/plain": [
       "array([76., nan, 82., 80., 89., 58., 87., 91., 61., 97., 95., 77., 88.,\n",
       "       83., 94., 93., 85., 86., 98., 96., 90., 84., 73., 74., 78., 92.,\n",
       "       71., 72., 68., 62., 49., 67., 81., 66., 56., 79., 70., 59., 64.,\n",
       "       75., 60., 63., 69., 50., 25., 42., 44., 55., 48., 57., 29., 47.,\n",
       "       65., 54., 20., 53., 37., 38., 33., 52., 30., 32., 43., 45., 51.,\n",
       "       40., 46., 39., 34., 35., 41., 36., 28., 31., 27., 26., 19., 23.,\n",
       "       24., 21., 17., 22., 13.])"
      ]
     },
     "execution_count": 9,
     "metadata": {},
     "output_type": "execute_result"
    }
   ],
   "source": [
    "df['critic_score'].unique()\n"
   ]
  },
  {
   "cell_type": "code",
   "execution_count": 10,
   "id": "cfa9c03e-dcb2-4f73-a74e-06b925c850fd",
   "metadata": {},
   "outputs": [
    {
     "data": {
      "text/plain": [
       "array(['8', nan, '8.3', '8.5', '6.6', '8.4', '8.6', '7.7', '6.3', '7.4',\n",
       "       '8.2', '9', '7.9', '8.1', '8.7', '7.1', '3.4', '5.3', '4.8', '3.2',\n",
       "       '8.9', '6.4', '7.8', '7.5', '2.6', '7.2', '9.2', '7', '7.3', '4.3',\n",
       "       '7.6', '5.7', '5', '9.1', '6.5', 'tbd', '8.8', '6.9', '9.4', '6.8',\n",
       "       '6.1', '6.7', '5.4', '4', '4.9', '4.5', '9.3', '6.2', '4.2', '6',\n",
       "       '3.7', '4.1', '5.8', '5.6', '5.5', '4.4', '4.6', '5.9', '3.9',\n",
       "       '3.1', '2.9', '5.2', '3.3', '4.7', '5.1', '3.5', '2.5', '1.9', '3',\n",
       "       '2.7', '2.2', '2', '9.5', '2.1', '3.6', '2.8', '1.8', '3.8', '0',\n",
       "       '1.6', '9.6', '2.4', '1.7', '1.1', '0.3', '1.5', '0.7', '1.2',\n",
       "       '2.3', '0.5', '1.3', '0.2', '0.6', '1.4', '0.9', '1', '9.7'],\n",
       "      dtype=object)"
      ]
     },
     "execution_count": 10,
     "metadata": {},
     "output_type": "execute_result"
    }
   ],
   "source": [
    "df['user_score'].unique()"
   ]
  },
  {
   "cell_type": "code",
   "execution_count": 11,
   "id": "5c550d72-4472-48ef-b563-03a18ef6b42d",
   "metadata": {},
   "outputs": [
    {
     "data": {
      "text/plain": [
       "array(['E', nan, 'M', 'T', 'E10+', 'K-A', 'AO', 'EC', 'RP'], dtype=object)"
      ]
     },
     "execution_count": 11,
     "metadata": {},
     "output_type": "execute_result"
    }
   ],
   "source": [
    "df['rating'].unique()"
   ]
  },
  {
   "cell_type": "markdown",
   "id": "983c6f2f-7166-4e9f-95df-d957ebf190c0",
   "metadata": {},
   "source": [
    "Помимо пропусков в столбце с оценкой пользователей содержится значение `tbd` (англ. \"To Be Determined\" — «подлежит уточнению»). Предположим, что это указывает на недостаточное количество отзывов пользователей и эквивалентно пропуску в данном контексте.\n",
    "\n",
    "Столбцы `user_score` и `critic_score` содержат числовые данные, поэтому пропуки в них заменим числовым значением-индикатором `-1`. А пропуки в столбце `rating` заменим на `TBD`. Для дальнейшей работы с этими столбцами изменим тип данных в них на `float64`."
   ]
  },
  {
   "cell_type": "code",
   "execution_count": 12,
   "id": "bd69e642",
   "metadata": {
    "id": "bd69e642"
   },
   "outputs": [
    {
     "name": "stdout",
     "output_type": "stream",
     "text": [
      "<class 'pandas.core.frame.DataFrame'>\n",
      "RangeIndex: 16956 entries, 0 to 16955\n",
      "Data columns (total 11 columns):\n",
      " #   Column           Non-Null Count  Dtype  \n",
      "---  ------           --------------  -----  \n",
      " 0   name             16954 non-null  object \n",
      " 1   platform         16956 non-null  object \n",
      " 2   year_of_release  16681 non-null  float64\n",
      " 3   genre            16954 non-null  object \n",
      " 4   na_sales         16956 non-null  float64\n",
      " 5   eu_sales         16950 non-null  float64\n",
      " 6   jp_sales         16952 non-null  float64\n",
      " 7   other_sales      16956 non-null  float64\n",
      " 8   critic_score     16956 non-null  float64\n",
      " 9   user_score       16956 non-null  float64\n",
      " 10  rating           16956 non-null  object \n",
      "dtypes: float64(7), object(4)\n",
      "memory usage: 1.4+ MB\n"
     ]
    }
   ],
   "source": [
    "df[['user_score', 'critic_score']] = df[['user_score', 'critic_score']].fillna(-1).replace('tbd', -1).astype('float64')\n",
    "df['rating'] = df['rating'].fillna('TBD')\n",
    "df.info()"
   ]
  },
  {
   "cell_type": "markdown",
   "id": "61cc8903-8df3-4aee-b065-0d5fa76dfa93",
   "metadata": {},
   "source": [
    "В колонке `year_of_release` заменим пропуски значением-индикатором `0` и изменим тип данных в столбце на целочисленный.\n"
   ]
  },
  {
   "cell_type": "code",
   "execution_count": 13,
   "id": "b0c1345b-f1ca-4817-b128-a3d644ce1251",
   "metadata": {},
   "outputs": [],
   "source": [
    "df['year_of_release'] = df['year_of_release'].fillna(0).astype(int)"
   ]
  },
  {
   "cell_type": "markdown",
   "id": "6a535cf3-619b-435b-a211-a2e2de64c4a1",
   "metadata": {
    "id": "154be65d"
   },
   "source": [
    "Пропуски в данных с количеством проданных копий игры в Европе и Японии из столбцов `eu_sales` и `jp_sales` заменим на среднее значение в зависимости от названия платформы и года выхода игры."
   ]
  },
  {
   "cell_type": "code",
   "execution_count": 14,
   "id": "6f98e0dc-2703-4b6a-bbc1-b7befa621efb",
   "metadata": {},
   "outputs": [],
   "source": [
    "# Создадим функцию, которая проверяет наличие пропуска в данных о продажах.\n",
    "def mean_group_eu_sales (row): \n",
    "    if pd.isna(row['eu_sales']):\n",
    "        # Если пропуск есть — функция создает группу по названию платформы и году выпуска игр.\n",
    "        group = df[(df['platform'] == row['platform']) & (df['year_of_release'] == row['year_of_release'])]\n",
    "        # Затем вместо пропуска функция подставляет среднее по группе значение. \n",
    "        return group['eu_sales'].mean()\n",
    "    else:\n",
    "        # Если пропуска нет, функция оставляет данные о продажах без изменений.\n",
    "        return row['eu_sales']\n",
    "        \n",
    "def mean_group_jp_sales (row):\n",
    "    if pd.isna(row['jp_sales']):\n",
    "        group = df[(df['platform'] == row['platform']) & (df['year_of_release'] == row['year_of_release'])]\n",
    "        return group['jp_sales'].mean()\n",
    "    else:\n",
    "        return row['jp_sales']\n",
    "        \n",
    "# Применим функцию к интересующим столбцам в каждой строке датафрейма.\n",
    "df['eu_sales'] = df.apply(mean_group_eu_sales, axis=1)\n",
    "df['jp_sales'] = df.apply(mean_group_jp_sales, axis=1)        "
   ]
  },
  {
   "cell_type": "code",
   "execution_count": 15,
   "id": "3d6bb779",
   "metadata": {},
   "outputs": [],
   "source": [
    "# Код ревьюера\n",
    "\n",
    "df['jp_sales'] = df['jp_sales']\\\n",
    "    .fillna(df.groupby(['platform', 'year_of_release'])['jp_sales'].transform('mean'))"
   ]
  },
  {
   "cell_type": "markdown",
   "id": "9debae03-b009-4264-a973-0456a2b53503",
   "metadata": {},
   "source": [
    "Удалим из датафрейма строки с пропущенными названиями игр и жанрами."
   ]
  },
  {
   "cell_type": "code",
   "execution_count": 16,
   "id": "f3cf5c59-3bcd-43bf-a845-f3b3d31ccf35",
   "metadata": {},
   "outputs": [],
   "source": [
    "df = df.dropna(subset=['name', 'genre'])"
   ]
  },
  {
   "cell_type": "markdown",
   "id": "0d7f6143-3080-41df-b451-fed086221034",
   "metadata": {},
   "source": [
    "Для проверки результата работы с пропусками выведим информацию об обработанном датафрейме."
   ]
  },
  {
   "cell_type": "code",
   "execution_count": 17,
   "id": "8891a048-f3fd-4c23-9c55-d1321ccc3393",
   "metadata": {},
   "outputs": [
    {
     "name": "stdout",
     "output_type": "stream",
     "text": [
      "<class 'pandas.core.frame.DataFrame'>\n",
      "Index: 16954 entries, 0 to 16955\n",
      "Data columns (total 11 columns):\n",
      " #   Column           Non-Null Count  Dtype  \n",
      "---  ------           --------------  -----  \n",
      " 0   name             16954 non-null  object \n",
      " 1   platform         16954 non-null  object \n",
      " 2   year_of_release  16954 non-null  int64  \n",
      " 3   genre            16954 non-null  object \n",
      " 4   na_sales         16954 non-null  float64\n",
      " 5   eu_sales         16954 non-null  float64\n",
      " 6   jp_sales         16954 non-null  float64\n",
      " 7   other_sales      16954 non-null  float64\n",
      " 8   critic_score     16954 non-null  float64\n",
      " 9   user_score       16954 non-null  float64\n",
      " 10  rating           16954 non-null  object \n",
      "dtypes: float64(6), int64(1), object(4)\n",
      "memory usage: 1.6+ MB\n"
     ]
    }
   ],
   "source": [
    "df.info()"
   ]
  },
  {
   "cell_type": "markdown",
   "id": "a63363fd",
   "metadata": {
    "id": "a63363fd"
   },
   "source": [
    "### Явные и неявные дубликаты в данных"
   ]
  },
  {
   "cell_type": "markdown",
   "id": "044f716f-6733-44ff-b949-cd08cb32607d",
   "metadata": {},
   "source": [
    "Проверим категориальные данные на наличие неявных дубликатов, связанных с опечатками или разным способом написания. Последовательно выведем уникальные значениия из столбцов с названиями жанра игры, платформы, рейтинга и года выпуска."
   ]
  },
  {
   "cell_type": "code",
   "execution_count": 18,
   "id": "2fe2ad77-d6d4-4abb-a08c-bfa8e081c347",
   "metadata": {},
   "outputs": [
    {
     "data": {
      "text/plain": [
       "array(['Sports', 'Platform', 'Racing', 'Role-Playing', 'Puzzle', 'Misc',\n",
       "       'Shooter', 'Simulation', 'Action', 'Fighting', 'Adventure',\n",
       "       'Strategy', 'MISC', 'ROLE-PLAYING', 'RACING', 'ACTION', 'SHOOTER',\n",
       "       'FIGHTING', 'SPORTS', 'PLATFORM', 'ADVENTURE', 'SIMULATION',\n",
       "       'PUZZLE', 'STRATEGY'], dtype=object)"
      ]
     },
     "execution_count": 18,
     "metadata": {},
     "output_type": "execute_result"
    }
   ],
   "source": [
    "df['genre'].unique()"
   ]
  },
  {
   "cell_type": "code",
   "execution_count": 19,
   "id": "f1627198",
   "metadata": {
    "id": "f1627198",
    "scrolled": true
   },
   "outputs": [
    {
     "data": {
      "text/plain": [
       "array(['Wii', 'NES', 'GB', 'DS', 'X360', 'PS3', 'PS2', 'SNES', 'GBA',\n",
       "       'PS4', '3DS', 'N64', 'PS', 'XB', 'PC', '2600', 'PSP', 'XOne',\n",
       "       'WiiU', 'GC', 'GEN', 'DC', 'PSV', 'SAT', 'SCD', 'WS', 'NG', 'TG16',\n",
       "       '3DO', 'GG', 'PCFX'], dtype=object)"
      ]
     },
     "execution_count": 19,
     "metadata": {},
     "output_type": "execute_result"
    }
   ],
   "source": [
    "df['platform'].unique()\n"
   ]
  },
  {
   "cell_type": "code",
   "execution_count": 20,
   "id": "2600d5ec-fc3f-453f-9949-5569453b948c",
   "metadata": {},
   "outputs": [
    {
     "data": {
      "text/plain": [
       "array(['E', 'TBD', 'M', 'T', 'E10+', 'K-A', 'AO', 'EC', 'RP'],\n",
       "      dtype=object)"
      ]
     },
     "execution_count": 20,
     "metadata": {},
     "output_type": "execute_result"
    }
   ],
   "source": [
    "df['rating'].unique()"
   ]
  },
  {
   "cell_type": "code",
   "execution_count": 21,
   "id": "a0cac80c",
   "metadata": {
    "id": "a0cac80c"
   },
   "outputs": [
    {
     "data": {
      "text/plain": [
       "array([2006, 1985, 2008, 2009, 1996, 1989, 1984, 2005, 1999, 2007, 2010,\n",
       "       2013, 2004, 1990, 1988, 2002, 2001, 2011, 1998, 2015, 2012, 2014,\n",
       "       1992, 1997, 1993, 1994, 1982, 2016, 2003, 1986, 2000,    0, 1995,\n",
       "       1991, 1981, 1987, 1980, 1983])"
      ]
     },
     "execution_count": 21,
     "metadata": {},
     "output_type": "execute_result"
    }
   ],
   "source": [
    " df['year_of_release'].unique()\n"
   ]
  },
  {
   "cell_type": "markdown",
   "id": "b84bb9c5-fecb-4fb2-b0eb-083ebdf017cf",
   "metadata": {},
   "source": [
    "Анализ показал наличие дубликатов в столбце `genre`, связанных с использованием разного регистра в названии жанра игры. Записи, которые означают одно и тоже, но представлены в разной форме — это неявные дубликаты.\n",
    "\n",
    "Проведем нормализацию данных с текстовыми значениями. Названия и жанры игр приведем к нижнему регистру, а названия рейтинга — к верхнему. Удалим лишние пробелы из названий игр. Эти шаги нужны, чтобы преобразовать неявные дубликаты в явные для их дальнейшего устранения."
   ]
  },
  {
   "cell_type": "code",
   "execution_count": 22,
   "id": "b10c50f1-1afa-47d1-b7c1-da6c1c313991",
   "metadata": {},
   "outputs": [],
   "source": [
    "df['name'] = df['name'].str.lower()\n",
    "df['genre'] = df['genre'].str.lower()\n",
    "df['rating'] = df['rating'].str.upper()\n",
    "df['name'] = df['name'].str.strip()\n"
   ]
  },
  {
   "cell_type": "markdown",
   "id": "dadb0b2f-a951-4f64-9724-4970d9bb87a0",
   "metadata": {},
   "source": [
    "Проверим наличие явных дубликатов, то есть строк с одинаковыми данными во всех столбцах. Выведем количество таких строк, а затем удалим их из датасета."
   ]
  },
  {
   "cell_type": "code",
   "execution_count": 23,
   "id": "1adcbee2-c355-49f4-8dee-eea3f9e3765f",
   "metadata": {},
   "outputs": [
    {
     "data": {
      "text/plain": [
       "241"
      ]
     },
     "execution_count": 23,
     "metadata": {},
     "output_type": "execute_result"
    }
   ],
   "source": [
    "explicit_duplicates = df.duplicated(subset=None, keep='first').sum()\n",
    "explicit_duplicates"
   ]
  },
  {
   "cell_type": "code",
   "execution_count": 24,
   "id": "8df99b8a-e9a8-45ce-8177-1fee4ba2ccdb",
   "metadata": {},
   "outputs": [],
   "source": [
    "df = df.drop_duplicates(subset=None, keep='first')"
   ]
  },
  {
   "cell_type": "markdown",
   "id": "4fbba855-d4ce-40c4-81d2-4cafb00cd90d",
   "metadata": {},
   "source": [
    "Предположим, что строки с одинаковым названием игры и платформы также являются неявными дубликатами. Проверим их количество и удалим из датасета."
   ]
  },
  {
   "cell_type": "code",
   "execution_count": 25,
   "id": "3c0901e1-eea3-44a8-9772-4dc2755ad0a7",
   "metadata": {},
   "outputs": [
    {
     "data": {
      "text/plain": [
       "4"
      ]
     },
     "execution_count": 25,
     "metadata": {},
     "output_type": "execute_result"
    }
   ],
   "source": [
    "implicit_duplicates = df.duplicated(['name', 'platform']).sum()\n",
    "implicit_duplicates"
   ]
  },
  {
   "cell_type": "code",
   "execution_count": 26,
   "id": "547e021e-7139-4cfb-a33f-78524886203b",
   "metadata": {},
   "outputs": [],
   "source": [
    "df = df.drop_duplicates(subset=['name', 'platform'], keep='first')"
   ]
  },
  {
   "cell_type": "markdown",
   "id": "568cd9c5-ad1b-48ac-9776-682ad09fbd5a",
   "metadata": {
    "id": "8548f894"
   },
   "source": [
    "В ходе работы с дубликатами мы привели к единому формату названия игр, жанры и рейтинг ESRB. Обнаружили 241 строку с явными дубликатами и 4 строки с неявными.\n",
    "\n",
    "В процессе подготовки данных были удалены пропуски и дубликаты. Рассчитаем количество удалённых строк в абсолютном и относительном значениях."
   ]
  },
  {
   "cell_type": "code",
   "execution_count": 27,
   "id": "327e55bb",
   "metadata": {
    "id": "327e55bb"
   },
   "outputs": [
    {
     "name": "stdout",
     "output_type": "stream",
     "text": [
      "Общее количество удаленных строк: 247\n",
      "Доля удаленных строк от первоначального количества: 1.46%\n"
     ]
    }
   ],
   "source": [
    "final_num_of_rows = df.shape[0]\n",
    "rows_delta = initial_num_of_rows - final_num_of_rows\n",
    "final_num_of_rows_share = round((rows_delta / initial_num_of_rows) * 100, 2)\n",
    "print(f'Общее количество удаленных строк: {rows_delta}')\n",
    "print(f'Доля удаленных строк от первоначального количества: {final_num_of_rows_share}%')\n"
   ]
  },
  {
   "cell_type": "markdown",
   "id": "47613d75",
   "metadata": {
    "id": "47613d75"
   },
   "source": [
    "### Общий промежуточный вывод по итогам предобработки данных"
   ]
  },
  {
   "cell_type": "markdown",
   "id": "40d17efc-83de-4cc3-a5ba-e3ab13f6c68f",
   "metadata": {
    "id": "5166fdf8"
   },
   "source": [
    "- Заполнены пропуски в столбцах `rating`, `user_score` и `critic_score` значением-индикатором `tbd` (для категориальных данных).\n",
    "Пропуски в year_of_release заменены на `0` с приведением типа к целочисленному.\n",
    "Пропуски в продажах (`eu_sales`, `jp_sales`) заполнены средними значениями по группам (платформа + год выпуска).\n",
    "Удалены строки с пропусками в названиях игр (name) и жанрах (genre), что составило 1.46% от исходного датасета.\n",
    "\n",
    "- Устранены 241 явный и 4 неявных дубликата (по парам `name` + `platform`).\n",
    "Проведена нормализация текстовых данных: приведение к нижнему регистру для `name` и `genre`, к верхнему — для `rating`.\n",
    "\n",
    "- Столбцы `eu_sales` и `jp_sales` преобразованы в числовой тип `float`.\n",
    "\n",
    "- Датафрейм подготовлен для дальнейшего анализа. Из 16 956 изначальных строк сохранено 16 954 строки."
   ]
  },
  {
   "cell_type": "markdown",
   "id": "613f0eb0",
   "metadata": {
    "id": "613f0eb0"
   },
   "source": [
    "---\n",
    "\n",
    "## Фильтрация данных"
   ]
  },
  {
   "cell_type": "markdown",
   "id": "e03a628b-07ab-4167-a28f-2267e2aec228",
   "metadata": {
    "id": "2344916d"
   },
   "source": [
    "Отфильтруем данные за интересующий период с 2000 по 2013 год включительно и сохраним новый срез данных в отдельном датафрейме `df_actual`. Выведем информацию о новом датафрейме."
   ]
  },
  {
   "cell_type": "code",
   "execution_count": 28,
   "id": "a2c09ca7",
   "metadata": {
    "id": "a2c09ca7",
    "scrolled": true
   },
   "outputs": [
    {
     "name": "stdout",
     "output_type": "stream",
     "text": [
      "<class 'pandas.core.frame.DataFrame'>\n",
      "Index: 12778 entries, 0 to 16954\n",
      "Data columns (total 11 columns):\n",
      " #   Column           Non-Null Count  Dtype  \n",
      "---  ------           --------------  -----  \n",
      " 0   name             12778 non-null  object \n",
      " 1   platform         12778 non-null  object \n",
      " 2   year_of_release  12778 non-null  int64  \n",
      " 3   genre            12778 non-null  object \n",
      " 4   na_sales         12778 non-null  float64\n",
      " 5   eu_sales         12778 non-null  float64\n",
      " 6   jp_sales         12778 non-null  float64\n",
      " 7   other_sales      12778 non-null  float64\n",
      " 8   critic_score     12778 non-null  float64\n",
      " 9   user_score       12778 non-null  float64\n",
      " 10  rating           12778 non-null  object \n",
      "dtypes: float64(6), int64(1), object(4)\n",
      "memory usage: 1.2+ MB\n"
     ]
    }
   ],
   "source": [
    "df_actual = df[(df['year_of_release'] >= 2000) & (df['year_of_release'] <= 2013)]\n",
    "df_actual.info()"
   ]
  },
  {
   "cell_type": "markdown",
   "id": "a6f10b01",
   "metadata": {
    "id": "a6f10b01"
   },
   "source": [
    "---\n",
    "\n",
    "## Категоризация данных\n",
    "    \n",
    "Разделим все игры по оценкам пользователей и выделим такие категории: высокая оценка (от 8 до 10 включительно), средняя оценка (от 3 до 8, не включая правую границу интервала) и низкая оценка (от 0 до 3, не включая правую границу интервала)."
   ]
  },
  {
   "cell_type": "code",
   "execution_count": 29,
   "id": "60bfa6c3-1b03-4f83-846c-55f3101f7c48",
   "metadata": {},
   "outputs": [],
   "source": [
    "def categorize_user_score(score):\n",
    "    if 0 <= score < 3:\n",
    "        return \"low score\"\n",
    "    elif 3 <= score < 8:\n",
    "        return \"medium score\"\n",
    "    elif 8 <= score <= 10:\n",
    "        return \"high score\"\n",
    "    else:\n",
    "        return \"unknown score\"\n",
    "# Создаем новый столбец с категориями\n",
    "df_actual.loc[:, 'user_score_category'] = df_actual.loc[:, 'user_score'].apply(categorize_user_score)"
   ]
  },
  {
   "cell_type": "markdown",
   "id": "f8f34b40",
   "metadata": {
    "id": "f8f34b40"
   },
   "source": [
    "Разделим все игры по оценкам критиков и выделим такие категории: высокая оценка (от 80 до 100 включительно), средняя оценка (от 30 до 80, не включая правую границу интервала) и низкая оценка (от 0 до 30, не включая правую границу интервала)."
   ]
  },
  {
   "cell_type": "code",
   "execution_count": 30,
   "id": "5eca48e4-505a-47b9-bc1f-6d4399650447",
   "metadata": {},
   "outputs": [],
   "source": [
    "def categorize_critic_score(score):\n",
    "    if 0 <= score < 30:\n",
    "        return \"low score\"\n",
    "    elif 30 <= score < 80:\n",
    "        return \"medium score\"\n",
    "    elif 80 <= score <= 100:\n",
    "        return \"high score\"\n",
    "    else:\n",
    "       return \"unknown score\"\n",
    "# Создаем новый столбец с категориями\n",
    "df_actual.loc[:, 'critic_score_category'] = df_actual.loc[:, 'critic_score'].apply(categorize_critic_score)"
   ]
  },
  {
   "cell_type": "markdown",
   "id": "263e28e2-459f-4c11-9de5-98f8f5774cd0",
   "metadata": {
    "id": "d136d06b"
   },
   "source": [
    "Проверим результат добавления столбцов с категориями выводом 5 строк датафрейма."
   ]
  },
  {
   "cell_type": "code",
   "execution_count": 31,
   "id": "548fde17",
   "metadata": {
    "id": "548fde17"
   },
   "outputs": [
    {
     "data": {
      "text/html": [
       "<div>\n",
       "<style scoped>\n",
       "    .dataframe tbody tr th:only-of-type {\n",
       "        vertical-align: middle;\n",
       "    }\n",
       "\n",
       "    .dataframe tbody tr th {\n",
       "        vertical-align: top;\n",
       "    }\n",
       "\n",
       "    .dataframe thead th {\n",
       "        text-align: right;\n",
       "    }\n",
       "</style>\n",
       "<table border=\"1\" class=\"dataframe\">\n",
       "  <thead>\n",
       "    <tr style=\"text-align: right;\">\n",
       "      <th></th>\n",
       "      <th>name</th>\n",
       "      <th>platform</th>\n",
       "      <th>year_of_release</th>\n",
       "      <th>genre</th>\n",
       "      <th>na_sales</th>\n",
       "      <th>eu_sales</th>\n",
       "      <th>jp_sales</th>\n",
       "      <th>other_sales</th>\n",
       "      <th>critic_score</th>\n",
       "      <th>user_score</th>\n",
       "      <th>rating</th>\n",
       "      <th>user_score_category</th>\n",
       "      <th>critic_score_category</th>\n",
       "    </tr>\n",
       "  </thead>\n",
       "  <tbody>\n",
       "    <tr>\n",
       "      <th>0</th>\n",
       "      <td>wii sports</td>\n",
       "      <td>Wii</td>\n",
       "      <td>2006</td>\n",
       "      <td>sports</td>\n",
       "      <td>41.36</td>\n",
       "      <td>28.96</td>\n",
       "      <td>3.77</td>\n",
       "      <td>8.45</td>\n",
       "      <td>76.0</td>\n",
       "      <td>8.0</td>\n",
       "      <td>E</td>\n",
       "      <td>high score</td>\n",
       "      <td>medium score</td>\n",
       "    </tr>\n",
       "    <tr>\n",
       "      <th>2</th>\n",
       "      <td>mario kart wii</td>\n",
       "      <td>Wii</td>\n",
       "      <td>2008</td>\n",
       "      <td>racing</td>\n",
       "      <td>15.68</td>\n",
       "      <td>12.76</td>\n",
       "      <td>3.79</td>\n",
       "      <td>3.29</td>\n",
       "      <td>82.0</td>\n",
       "      <td>8.3</td>\n",
       "      <td>E</td>\n",
       "      <td>high score</td>\n",
       "      <td>high score</td>\n",
       "    </tr>\n",
       "    <tr>\n",
       "      <th>3</th>\n",
       "      <td>wii sports resort</td>\n",
       "      <td>Wii</td>\n",
       "      <td>2009</td>\n",
       "      <td>sports</td>\n",
       "      <td>15.61</td>\n",
       "      <td>10.93</td>\n",
       "      <td>3.28</td>\n",
       "      <td>2.95</td>\n",
       "      <td>80.0</td>\n",
       "      <td>8.0</td>\n",
       "      <td>E</td>\n",
       "      <td>high score</td>\n",
       "      <td>high score</td>\n",
       "    </tr>\n",
       "    <tr>\n",
       "      <th>6</th>\n",
       "      <td>new super mario bros.</td>\n",
       "      <td>DS</td>\n",
       "      <td>2006</td>\n",
       "      <td>platform</td>\n",
       "      <td>11.28</td>\n",
       "      <td>9.14</td>\n",
       "      <td>6.50</td>\n",
       "      <td>2.88</td>\n",
       "      <td>89.0</td>\n",
       "      <td>8.5</td>\n",
       "      <td>E</td>\n",
       "      <td>high score</td>\n",
       "      <td>high score</td>\n",
       "    </tr>\n",
       "    <tr>\n",
       "      <th>7</th>\n",
       "      <td>wii play</td>\n",
       "      <td>Wii</td>\n",
       "      <td>2006</td>\n",
       "      <td>misc</td>\n",
       "      <td>13.96</td>\n",
       "      <td>9.18</td>\n",
       "      <td>2.93</td>\n",
       "      <td>2.84</td>\n",
       "      <td>58.0</td>\n",
       "      <td>6.6</td>\n",
       "      <td>E</td>\n",
       "      <td>medium score</td>\n",
       "      <td>medium score</td>\n",
       "    </tr>\n",
       "  </tbody>\n",
       "</table>\n",
       "</div>"
      ],
      "text/plain": [
       "                    name platform  year_of_release     genre  na_sales  \\\n",
       "0             wii sports      Wii             2006    sports     41.36   \n",
       "2         mario kart wii      Wii             2008    racing     15.68   \n",
       "3      wii sports resort      Wii             2009    sports     15.61   \n",
       "6  new super mario bros.       DS             2006  platform     11.28   \n",
       "7               wii play      Wii             2006      misc     13.96   \n",
       "\n",
       "   eu_sales  jp_sales  other_sales  critic_score  user_score rating  \\\n",
       "0     28.96      3.77         8.45          76.0         8.0      E   \n",
       "2     12.76      3.79         3.29          82.0         8.3      E   \n",
       "3     10.93      3.28         2.95          80.0         8.0      E   \n",
       "6      9.14      6.50         2.88          89.0         8.5      E   \n",
       "7      9.18      2.93         2.84          58.0         6.6      E   \n",
       "\n",
       "  user_score_category critic_score_category  \n",
       "0          high score          medium score  \n",
       "2          high score            high score  \n",
       "3          high score            high score  \n",
       "6          high score            high score  \n",
       "7        medium score          medium score  "
      ]
     },
     "execution_count": 31,
     "metadata": {},
     "output_type": "execute_result"
    }
   ],
   "source": [
    "df_actual.head()"
   ]
  },
  {
   "cell_type": "markdown",
   "id": "olkTlTlAUDR9",
   "metadata": {
    "id": "olkTlTlAUDR9"
   },
   "source": [
    "Сгруппируем данные по выделенным категориям и посчитаем количество игр в каждой категории."
   ]
  },
  {
   "cell_type": "code",
   "execution_count": 32,
   "id": "HW0Nsp-4UMSL",
   "metadata": {
    "id": "HW0Nsp-4UMSL"
   },
   "outputs": [
    {
     "data": {
      "text/html": [
       "<div>\n",
       "<style scoped>\n",
       "    .dataframe tbody tr th:only-of-type {\n",
       "        vertical-align: middle;\n",
       "    }\n",
       "\n",
       "    .dataframe tbody tr th {\n",
       "        vertical-align: top;\n",
       "    }\n",
       "\n",
       "    .dataframe thead th {\n",
       "        text-align: right;\n",
       "    }\n",
       "</style>\n",
       "<table border=\"1\" class=\"dataframe\">\n",
       "  <thead>\n",
       "    <tr style=\"text-align: right;\">\n",
       "      <th></th>\n",
       "      <th>user_score_category</th>\n",
       "      <th>critic_score_category</th>\n",
       "      <th>game_count</th>\n",
       "    </tr>\n",
       "  </thead>\n",
       "  <tbody>\n",
       "    <tr>\n",
       "      <th>0</th>\n",
       "      <td>high score</td>\n",
       "      <td>high score</td>\n",
       "      <td>1015</td>\n",
       "    </tr>\n",
       "    <tr>\n",
       "      <th>1</th>\n",
       "      <td>high score</td>\n",
       "      <td>low score</td>\n",
       "      <td>1</td>\n",
       "    </tr>\n",
       "    <tr>\n",
       "      <th>2</th>\n",
       "      <td>high score</td>\n",
       "      <td>medium score</td>\n",
       "      <td>1167</td>\n",
       "    </tr>\n",
       "    <tr>\n",
       "      <th>3</th>\n",
       "      <td>high score</td>\n",
       "      <td>unknown score</td>\n",
       "      <td>101</td>\n",
       "    </tr>\n",
       "    <tr>\n",
       "      <th>4</th>\n",
       "      <td>low score</td>\n",
       "      <td>high score</td>\n",
       "      <td>1</td>\n",
       "    </tr>\n",
       "    <tr>\n",
       "      <th>5</th>\n",
       "      <td>low score</td>\n",
       "      <td>low score</td>\n",
       "      <td>17</td>\n",
       "    </tr>\n",
       "    <tr>\n",
       "      <th>6</th>\n",
       "      <td>low score</td>\n",
       "      <td>medium score</td>\n",
       "      <td>77</td>\n",
       "    </tr>\n",
       "    <tr>\n",
       "      <th>7</th>\n",
       "      <td>low score</td>\n",
       "      <td>unknown score</td>\n",
       "      <td>21</td>\n",
       "    </tr>\n",
       "    <tr>\n",
       "      <th>8</th>\n",
       "      <td>medium score</td>\n",
       "      <td>high score</td>\n",
       "      <td>640</td>\n",
       "    </tr>\n",
       "    <tr>\n",
       "      <th>9</th>\n",
       "      <td>medium score</td>\n",
       "      <td>low score</td>\n",
       "      <td>30</td>\n",
       "    </tr>\n",
       "    <tr>\n",
       "      <th>10</th>\n",
       "      <td>medium score</td>\n",
       "      <td>medium score</td>\n",
       "      <td>3157</td>\n",
       "    </tr>\n",
       "    <tr>\n",
       "      <th>11</th>\n",
       "      <td>medium score</td>\n",
       "      <td>unknown score</td>\n",
       "      <td>253</td>\n",
       "    </tr>\n",
       "    <tr>\n",
       "      <th>12</th>\n",
       "      <td>unknown score</td>\n",
       "      <td>high score</td>\n",
       "      <td>33</td>\n",
       "    </tr>\n",
       "    <tr>\n",
       "      <th>13</th>\n",
       "      <td>unknown score</td>\n",
       "      <td>low score</td>\n",
       "      <td>7</td>\n",
       "    </tr>\n",
       "    <tr>\n",
       "      <th>14</th>\n",
       "      <td>unknown score</td>\n",
       "      <td>medium score</td>\n",
       "      <td>1021</td>\n",
       "    </tr>\n",
       "    <tr>\n",
       "      <th>15</th>\n",
       "      <td>unknown score</td>\n",
       "      <td>unknown score</td>\n",
       "      <td>5237</td>\n",
       "    </tr>\n",
       "  </tbody>\n",
       "</table>\n",
       "</div>"
      ],
      "text/plain": [
       "   user_score_category critic_score_category  game_count\n",
       "0           high score            high score        1015\n",
       "1           high score             low score           1\n",
       "2           high score          medium score        1167\n",
       "3           high score         unknown score         101\n",
       "4            low score            high score           1\n",
       "5            low score             low score          17\n",
       "6            low score          medium score          77\n",
       "7            low score         unknown score          21\n",
       "8         medium score            high score         640\n",
       "9         medium score             low score          30\n",
       "10        medium score          medium score        3157\n",
       "11        medium score         unknown score         253\n",
       "12       unknown score            high score          33\n",
       "13       unknown score             low score           7\n",
       "14       unknown score          medium score        1021\n",
       "15       unknown score         unknown score        5237"
      ]
     },
     "execution_count": 32,
     "metadata": {},
     "output_type": "execute_result"
    }
   ],
   "source": [
    "df_actual.groupby(['user_score_category', 'critic_score_category'])['name'].count().reset_index().rename(columns={'name': 'game_count'})"
   ]
  },
  {
   "cell_type": "markdown",
   "id": "98ec017e-28dc-4cdb-9900-d1d056240ecb",
   "metadata": {},
   "source": [
    "Рассчитаем процент игр, которые не имеют оценку пользователей или критиков."
   ]
  },
  {
   "cell_type": "code",
   "execution_count": 33,
   "id": "25949861-771d-46d8-bf0c-978271c51097",
   "metadata": {},
   "outputs": [
    {
     "name": "stdout",
     "output_type": "stream",
     "text": [
      "52.2\n"
     ]
    }
   ],
   "source": [
    "unknown_score_count = df_actual[(df_actual['user_score_category'] == 'unknown score') | \n",
    "          (df_actual['critic_score_category'] == 'unknown score')]['user_score_category'].count()\n",
    "unknown_score_perc = round (unknown_score_count / df_actual.shape[0] * 100, 1)\n",
    "print(unknown_score_perc)"
   ]
  },
  {
   "cell_type": "markdown",
   "id": "6a98444c",
   "metadata": {
    "id": "6a98444c"
   },
   "source": [
    "Выделим Топ-7 платформ по количеству игр, выпущенных за весь актуальный период."
   ]
  },
  {
   "cell_type": "code",
   "execution_count": 34,
   "id": "003caa2c",
   "metadata": {
    "id": "003caa2c"
   },
   "outputs": [
    {
     "data": {
      "text/html": [
       "<div>\n",
       "<style scoped>\n",
       "    .dataframe tbody tr th:only-of-type {\n",
       "        vertical-align: middle;\n",
       "    }\n",
       "\n",
       "    .dataframe tbody tr th {\n",
       "        vertical-align: top;\n",
       "    }\n",
       "\n",
       "    .dataframe thead th {\n",
       "        text-align: right;\n",
       "    }\n",
       "</style>\n",
       "<table border=\"1\" class=\"dataframe\">\n",
       "  <thead>\n",
       "    <tr style=\"text-align: right;\">\n",
       "      <th></th>\n",
       "      <th>platform</th>\n",
       "      <th>game_count</th>\n",
       "    </tr>\n",
       "  </thead>\n",
       "  <tbody>\n",
       "    <tr>\n",
       "      <th>0</th>\n",
       "      <td>PS2</td>\n",
       "      <td>2127</td>\n",
       "    </tr>\n",
       "    <tr>\n",
       "      <th>1</th>\n",
       "      <td>DS</td>\n",
       "      <td>2120</td>\n",
       "    </tr>\n",
       "    <tr>\n",
       "      <th>2</th>\n",
       "      <td>Wii</td>\n",
       "      <td>1275</td>\n",
       "    </tr>\n",
       "    <tr>\n",
       "      <th>3</th>\n",
       "      <td>PSP</td>\n",
       "      <td>1180</td>\n",
       "    </tr>\n",
       "    <tr>\n",
       "      <th>4</th>\n",
       "      <td>X360</td>\n",
       "      <td>1120</td>\n",
       "    </tr>\n",
       "    <tr>\n",
       "      <th>5</th>\n",
       "      <td>PS3</td>\n",
       "      <td>1086</td>\n",
       "    </tr>\n",
       "    <tr>\n",
       "      <th>6</th>\n",
       "      <td>GBA</td>\n",
       "      <td>811</td>\n",
       "    </tr>\n",
       "  </tbody>\n",
       "</table>\n",
       "</div>"
      ],
      "text/plain": [
       "  platform  game_count\n",
       "0      PS2        2127\n",
       "1       DS        2120\n",
       "2      Wii        1275\n",
       "3      PSP        1180\n",
       "4     X360        1120\n",
       "5      PS3        1086\n",
       "6      GBA         811"
      ]
     },
     "execution_count": 34,
     "metadata": {},
     "output_type": "execute_result"
    }
   ],
   "source": [
    "top_platforms = (df_actual\n",
    "                 .groupby('platform')['name']\n",
    "                 .count().sort_values(ascending=False)\n",
    "                 .reset_index()\n",
    "                 .rename(columns={'name': 'game_count'}))\n",
    "top_platforms.head(7)\n"
   ]
  },
  {
   "cell_type": "markdown",
   "id": "c0158881",
   "metadata": {
    "id": "c0158881"
   },
   "source": [
    "---\n",
    "\n",
    "## Итоговый вывод\n",
    "\n",
    "В рамках проекта был проведен анализ данных о продажах игр с 2000 по 2013 год. Основные этапы работы:\n",
    "\n",
    "**Загрузка и предобработка:**\n",
    "- Исправлены названия столбцов (приведены к snake_case).\n",
    "- Преобразованы типы данных: `eu_sales`, `eu_sales`, `user_score`, `critic_score` переведены в числовой формат.\n",
    "- Обработаны пропуски:\n",
    "    - В столбце `rating` пропуски заменены значением-индикатором `TBD`.\n",
    "    - В столбцах `user_score` и `critic_score` пропуски заменены значением-индикатором `-1`.\n",
    "    - Пропуски в `year_of_release` заменены на `0` с приведением типа к целочисленному.\n",
    "    - Пропуски в продажах (`eu_sales`, `eu_sales`) заполнены средними значениями по группам (платформа + год выпуска).\n",
    "- Удалены дубликаты: 241 явный и 4 неявных (по парам `name` + `platform`), что составило **1.46%** от исходного датасета.\n",
    "- Проведена нормализация текстовых данных (регистр, пробелы).\n",
    "\n",
    "**Категоризация и анализ данных:**\n",
    "- Создан срез данных за период 2000–2013 год (`df_actual`), содержащий **12 778 игр.**\n",
    "- Оценки пользователей и критиков разделены на категории:\n",
    "    - **Высокие** (8–10 для пользователей, 80–100 для критиков).\n",
    "    - **Средние** (3–8 и 30–80).\n",
    "    - **Низкие** (0–3 и 0–30).\n",
    "- Проанализировано распределение игр по категориям оценок:\n",
    "**52.2%** игр не имеют оценок критиков или пользователей (`unknown score`).\n",
    "Среди оцененных игр преобладают **средние оценки** (`medium score`).\n",
    "- Определены топ-7 платформ по количеству выпущенных игр: **PS2, DS, Wii, PSP, X360, PS3, GBA.**\n",
    "\n",
    "**Результаты:**\n",
    "- Данные очищены, структурированы и подготовлены для анализа.\n",
    "- Выявлены ключевые платформы и категории оценок, что позволит провести детальное исследование рыночных тенденций, предпочтений игроков и успешности жанров.\n",
    "\n",
    "Полученный датасет может быть использован для дальнейшего изучения динамики продаж, влияния оценок на популярность игр, а также для формирования рекомендаций по продвижению RPG-проекта «Секреты Темнолесья» с учетом региональных особенностей и актуальных трендов."
   ]
  }
 ],
 "metadata": {
  "ExecuteTimeLog": [
   {
    "duration": 383,
    "start_time": "2025-04-04T06:30:38.316Z"
   },
   {
    "duration": 127,
    "start_time": "2025-04-04T06:30:38.701Z"
   },
   {
    "duration": 21,
    "start_time": "2025-04-04T06:30:38.829Z"
   },
   {
    "duration": 35,
    "start_time": "2025-04-04T06:30:38.852Z"
   },
   {
    "duration": 3,
    "start_time": "2025-04-04T06:30:38.889Z"
   },
   {
    "duration": 105,
    "start_time": "2025-04-04T06:30:38.894Z"
   },
   {
    "duration": 25,
    "start_time": "2025-04-04T06:30:39.000Z"
   },
   {
    "duration": 22,
    "start_time": "2025-04-04T06:30:39.027Z"
   },
   {
    "duration": 6,
    "start_time": "2025-04-04T06:30:39.050Z"
   },
   {
    "duration": 20,
    "start_time": "2025-04-04T06:30:39.058Z"
   },
   {
    "duration": 4,
    "start_time": "2025-04-04T06:30:39.079Z"
   },
   {
    "duration": 357,
    "start_time": "2025-04-04T06:30:39.085Z"
   },
   {
    "duration": 7,
    "start_time": "2025-04-04T06:30:39.444Z"
   },
   {
    "duration": 17,
    "start_time": "2025-04-04T06:30:39.452Z"
   },
   {
    "duration": 18,
    "start_time": "2025-04-04T06:30:39.470Z"
   },
   {
    "duration": 14,
    "start_time": "2025-04-04T06:30:39.490Z"
   },
   {
    "duration": 14,
    "start_time": "2025-04-04T06:30:39.505Z"
   },
   {
    "duration": 11,
    "start_time": "2025-04-04T06:30:39.520Z"
   },
   {
    "duration": 14,
    "start_time": "2025-04-04T06:30:39.532Z"
   },
   {
    "duration": 33,
    "start_time": "2025-04-04T06:30:39.547Z"
   },
   {
    "duration": 17,
    "start_time": "2025-04-04T06:30:39.581Z"
   },
   {
    "duration": 105,
    "start_time": "2025-04-04T06:30:39.599Z"
   },
   {
    "duration": 22,
    "start_time": "2025-04-04T06:30:39.706Z"
   },
   {
    "duration": 61,
    "start_time": "2025-04-04T06:30:39.729Z"
   },
   {
    "duration": 4,
    "start_time": "2025-04-04T06:30:39.792Z"
   },
   {
    "duration": 37,
    "start_time": "2025-04-04T06:30:39.798Z"
   },
   {
    "duration": 44,
    "start_time": "2025-04-04T06:30:39.837Z"
   },
   {
    "duration": 13,
    "start_time": "2025-04-04T06:30:39.884Z"
   },
   {
    "duration": 63,
    "start_time": "2025-04-04T06:30:39.899Z"
   },
   {
    "duration": 31,
    "start_time": "2025-04-04T06:30:39.963Z"
   },
   {
    "duration": 30,
    "start_time": "2025-04-04T06:30:39.995Z"
   },
   {
    "duration": 1616,
    "start_time": "2025-04-05T21:17:31.912Z"
   },
   {
    "duration": 1320,
    "start_time": "2025-04-05T21:18:18.645Z"
   },
   {
    "duration": 2262,
    "start_time": "2025-04-05T21:20:52.164Z"
   },
   {
    "duration": 1299,
    "start_time": "2025-04-05T21:21:08.272Z"
   },
   {
    "duration": 4589,
    "start_time": "2025-04-05T21:21:53.082Z"
   },
   {
    "duration": 408,
    "start_time": "2025-04-05T21:31:26.866Z"
   },
   {
    "duration": 144,
    "start_time": "2025-04-05T21:31:27.276Z"
   },
   {
    "duration": 23,
    "start_time": "2025-04-05T21:31:27.421Z"
   },
   {
    "duration": 18,
    "start_time": "2025-04-05T21:31:27.446Z"
   },
   {
    "duration": 4,
    "start_time": "2025-04-05T21:31:27.466Z"
   },
   {
    "duration": 76,
    "start_time": "2025-04-05T21:31:27.471Z"
   },
   {
    "duration": 20,
    "start_time": "2025-04-05T21:31:27.549Z"
   },
   {
    "duration": 25,
    "start_time": "2025-04-05T21:31:27.571Z"
   },
   {
    "duration": 6,
    "start_time": "2025-04-05T21:31:27.598Z"
   },
   {
    "duration": 20,
    "start_time": "2025-04-05T21:31:27.605Z"
   },
   {
    "duration": 10,
    "start_time": "2025-04-05T21:31:27.637Z"
   },
   {
    "duration": 12,
    "start_time": "2025-04-05T21:31:27.649Z"
   },
   {
    "duration": 5,
    "start_time": "2025-04-05T21:31:27.663Z"
   },
   {
    "duration": 667,
    "start_time": "2025-04-05T21:31:27.671Z"
   },
   {
    "duration": 7,
    "start_time": "2025-04-05T21:31:28.340Z"
   },
   {
    "duration": 18,
    "start_time": "2025-04-05T21:31:28.349Z"
   },
   {
    "duration": 19,
    "start_time": "2025-04-05T21:31:28.369Z"
   },
   {
    "duration": 6,
    "start_time": "2025-04-05T21:31:28.438Z"
   },
   {
    "duration": 8,
    "start_time": "2025-04-05T21:31:28.445Z"
   },
   {
    "duration": 9,
    "start_time": "2025-04-05T21:31:28.454Z"
   },
   {
    "duration": 5,
    "start_time": "2025-04-05T21:31:28.464Z"
   },
   {
    "duration": 83,
    "start_time": "2025-04-05T21:31:28.471Z"
   },
   {
    "duration": 18,
    "start_time": "2025-04-05T21:31:28.556Z"
   },
   {
    "duration": 71,
    "start_time": "2025-04-05T21:31:28.576Z"
   },
   {
    "duration": 10,
    "start_time": "2025-04-05T21:31:28.649Z"
   },
   {
    "duration": 11,
    "start_time": "2025-04-05T21:31:28.661Z"
   },
   {
    "duration": 65,
    "start_time": "2025-04-05T21:31:28.674Z"
   },
   {
    "duration": 21,
    "start_time": "2025-04-05T21:31:28.740Z"
   },
   {
    "duration": 16,
    "start_time": "2025-04-05T21:31:28.763Z"
   },
   {
    "duration": 59,
    "start_time": "2025-04-05T21:31:28.781Z"
   },
   {
    "duration": 19,
    "start_time": "2025-04-05T21:31:28.842Z"
   },
   {
    "duration": 16,
    "start_time": "2025-04-05T21:31:28.863Z"
   },
   {
    "duration": 78,
    "start_time": "2025-04-05T21:31:28.881Z"
   }
  ],
  "colab": {
   "provenance": []
  },
  "kernelspec": {
   "display_name": "Python 3 (ipykernel)",
   "language": "python",
   "name": "python3"
  },
  "language_info": {
   "codemirror_mode": {
    "name": "ipython",
    "version": 3
   },
   "file_extension": ".py",
   "mimetype": "text/x-python",
   "name": "python",
   "nbconvert_exporter": "python",
   "pygments_lexer": "ipython3",
   "version": "3.12.7"
  },
  "toc": {
   "base_numbering": 1,
   "nav_menu": {},
   "number_sections": true,
   "sideBar": true,
   "skip_h1_title": true,
   "title_cell": "Table of Contents",
   "title_sidebar": "Contents",
   "toc_cell": false,
   "toc_position": {
    "height": "calc(100% - 180px)",
    "left": "10px",
    "top": "150px",
    "width": "331px"
   },
   "toc_section_display": true,
   "toc_window_display": true
  }
 },
 "nbformat": 4,
 "nbformat_minor": 5
}
